{
 "cells": [
  {
   "cell_type": "markdown",
   "metadata": {},
   "source": [
    "# Data Analytics in Accounting Capstone\n",
    "\n",
    "## Overview\n",
    "\n",
    "In this project, you will complete the whole process of the data analytics framework CRISP-DM on the LendingClub dataset. You will apply your data anlytics skills on the provided loans dataset to help investors figure out which loans on the Lending Club™ are most profitable.\n",
    "\n",
    "We provide a template of the project, which consists of mini tasks for each step in the CRISP-DM framework. You need to complete the mini tasks and answer questions in the three modules of the capstone course."
   ]
  },
  {
   "cell_type": "markdown",
   "metadata": {},
   "source": [
    "## Table of Contents\n",
    "\n",
    "\n",
    "[**Module 1: Business Understanding and Data Understanding**](#Module-1:-Business-Understanding-and-Data-Understanding)\n",
    "\n",
    "- [**Business Understanding**](#Business-Understanding)\n",
    "\n",
    "- [**Data Understanding**](#Data-Understanding)\n",
    "\n",
    "   - [**Task 1.1: Load the Data Dictionary and the Data File**](#Task-1.1:-Load-the-Data-Dictionary-and-the-Data-File)\n",
    "   - [**Task 1.2: Check Basic DataFrame Information**](#Task-1.2:-Check-Basic-DataFrame-Information)\n",
    "   - [**Task 1.3: Statistics of Numeric Columns**](#Task-1.3:-Statistics-of-Numeric-Columns)\n",
    "- [**Exploratory Data Analysis-EDA**](#Exploratory-Data-Analysis---EDA)\n",
    "   - [**Loan Term and Interest Rate**](#Loan-Term-and-Interest-Rate)\n",
    "   - [**Task 1.4: Loan Grade**](#Task-1.4:-Loan-Grade)\n",
    "   - [**Task 1.5: Loan Grade and Interest Rate**](#Task-1.5:-Loan-Grade-and-Interest-Rate)\n",
    "   - [**Task 1.5: Distribution of Interest Rate**](#Task-5:-Distribution-of-Interest-Rate)\n",
    "   - [**Task 1.6: Loan by State**](#Task-1.6:-Loan-by-State)\n",
    "   - [**Task 1.7: Borrowers Annual Income Distribution**](#Task-1.7:-Borrowers-Annual-Income-Distribution)\n",
    "   - [**Task 1.8: Borrower Annual Income by State**](#Task-1.8:-Borrower-Annual-Income-by-State)\n",
    "   - [**Task 1.9: Annual Income and Interest Rate**](#Task-1.9:-Annual-Income-and-Interest-Rate)\n",
    "   - [**Task 1.10: Convert Date Column**](#Task-1.10:-Convert-Date-Column)\n",
    "   - [**Task 1.11: Loan Issued Over Year**](#Task-1.11:-Loan-Issued-Over-Year)\n",
    "   - [**Task 1.12: Interest Rate Change**](#Task-1.12:-Interest-Rate-Change)\n",
    "   - [**Task 1.13: Loan Status**](#Task-1.13:-Loan-Status)\n",
    "   - [**Task 1.14: Loan Term and Loan Status**](#Task-1.14:-Loan-Term-and-Loan-Status)\n",
    "   - [**Task 1.15: Loan Grade and Loan Status**](#Task-1.15:-Loan-Grade-and-Loan-Status)\n",
    "   \n",
    "[**Module 2: Data Preparation, Modeling and Model Evaluation**](#Module-2:-Data-Preparation,-Modeling-and-Model-Evaluation)\n",
    "- [**Data Preparation**](#Data-Preparation)\n",
    "   - [**Loan Status**](#Loan-Status)\n",
    "   - [**Paid Off Rate**](#Paid-Off-Rate)\n",
    "   - [**Task 2.1: Loan Term in Year**](#Task-2.1:-Loan-Term-in-Year)\n",
    "   - [**Task 2.2: Encode Categorical Features**](#Task-2.2:-Encode-Categorical-Features)\n",
    "   - [**Task 2.3: Manage Missing Values**](#Task-2.3:-Manage-Missing-Values)\n",
    "- [**Modeling and Model Evaluation**](#Modeling-and-Model-Evaluation)\n",
    "   - [**Keep Columns**](#Keep-Columns)\n",
    "   - [**Split DataFrame to Train and Test**](#Split-DataFrame-to-Train-and-Test)\n",
    "   - [**Random Forest Classifier**](#Random-Forest-Classifier)\n",
    "   - [**Task 2.4: Logistic Regression with Default Class Weight**](#Task-2.4:-Logistic-Regression-with-Default-Class-Weight)\n",
    "   - [**Task 2.5: Logistic Regression with Balanced Class Weight**](#Task-2.5:-Logistic-Regression-with-Balanced-Class-Weight)\n",
    "   \n",
    "[**Module 3: Construct Loan Portfolio**](#Module-3:-Construct-Loan-Portfolio)\n",
    "   - [**Portfolio Annual Return**](#Portfolio-Annual-Return)\n",
    "   - [**Construct Loan Portfolio with RandomForestClassifier**](#Construct-Loan-Portfolio-with-RandomForestClassifier)\n",
    "   - [**Impact of Loan Term**](#Impact-of-Loan-Term)\n",
    "   - [**Improvements with Filters**](#Improvements-with-Filters)\n",
    "   - [**Task 3.1: Construct Loan Portfolio with Logistic Regression Model**](#Task-3.1:-Construct-Loan-Portfolio-with-Logistic-Regression-Model)\n",
    "   - [**Impact of Loan Grade**](#Impact-of-Loan-Grade)\n",
    "   - [**Task 3.2: Include Loan Grade in Training Features**](#Task-3.2:-Include-Loan-Grade-in-Training-Features)\n",
    "   - [**Task 3.3: More Extreme class_weight**](#Task-3.3:-More-Extreme-class_weight)\n",
    "   - [**Task 3.4: Other Improvements**](#Task-3.4:-Other-Improvements)"
   ]
  },
  {
   "cell_type": "markdown",
   "metadata": {},
   "source": [
    "\n",
    "## Module 1: Business Understanding and Data Understanding\n"
   ]
  },
  {
   "cell_type": "markdown",
   "metadata": {},
   "source": [
    "\n",
    "## Business Understanding\n",
    "This initial phase focuses on understanding the project objectives and requirements from a business perspective, start with understanding of how Lending Club works.\n",
    "\n",
    "### Lending Club\n",
    "\n",
    "LendingClub is an American peer-to-peer lending company, headquartered in San Francisco, California. It is the world's largest peer-to-peer lending platform.\n",
    "\n",
    "LendingClub enables borrowers to create unsecured personal loans between \\\\$1,000 and \\\\$40,000. Investors can search and browse the loan listings on LendingClub website and select loans that they want to invest in based on the information supplied about the borrower, amount of loan, loan grade, and loan purpose, with the minimum investment of $25 per note. Investors make money from interest. LendingClub makes money by charging borrowers an origination fee and investors a service fee.\n",
    "\n",
    "For more information about the company please check out the wikipedia article about the [LendingClub](https://en.wikipedia.org/wiki/LendingClub).\n",
    "\n",
    "**Updates**  \n",
    "LendingClub has closed down their Notes platform at the end of the year 2020 and individual investors will no longer be able to invest in any loans originated by LendingClub.\n"
   ]
  },
  {
   "cell_type": "markdown",
   "metadata": {},
   "source": [
    "## Data Understanding\n",
    "The data understanding phase starts with an initial data collection and proceeds with activities in order to get familiar with the data, to identify data quality problems, to discover first insights into the data, or to detect interesting subsets to form hypotheses for hidden information.\n"
   ]
  },
  {
   "cell_type": "markdown",
   "metadata": {},
   "source": [
    "### Data File\n",
    "\n",
    "The data file **lending_club_2007_2011_6_states.csv** contains the loan and borrower information for loans initiated from 2007 to 2011 in six states, California, New York, Florida, Texas, New Jersey and Illinois.\n",
    "\n",
    "The data dictionary file **data_dictionary.csv** contains descriptions of all the columns in the data file."
   ]
  },
  {
   "cell_type": "markdown",
   "metadata": {},
   "source": [
    "**Please run following code cells first to import necessary python modules and set up DataFrame display options.**"
   ]
  },
  {
   "cell_type": "code",
   "execution_count": 1,
   "metadata": {},
   "outputs": [],
   "source": [
    "%matplotlib inline\n",
    "\n",
    "import numpy as np\n",
    "import pandas as pd\n",
    "import seaborn as sns\n",
    "import matplotlib.pyplot as plt\n",
    "\n",
    "#display all dataframe columns in df.head()\n",
    "pd.options.display.max_columns = None\n",
    "#display long string in datafame\n",
    "pd.options.display.max_colwidth = 300\n",
    "\n",
    "#filter out warning messages\n",
    "import warnings\n",
    "warnings.filterwarnings('ignore')\n"
   ]
  },
  {
   "cell_type": "markdown",
   "metadata": {},
   "source": [
    "[Back to Top](#Table-of-Contents)\n",
    "### Task 1.1: Load the Data Dictionary and the Data File\n",
    "In the next code cell, please load the data dictionary file, `data_dictionary.csv`, to a DataFrame **data_dict** and display the **whole** DataFrame."
   ]
  },
  {
   "cell_type": "markdown",
   "metadata": {},
   "source": [
    "#### Your Code for the Data Dictionary"
   ]
  },
  {
   "cell_type": "code",
   "execution_count": 2,
   "metadata": {},
   "outputs": [
    {
     "data": {
      "text/html": [
       "<div>\n",
       "<style scoped>\n",
       "    .dataframe tbody tr th:only-of-type {\n",
       "        vertical-align: middle;\n",
       "    }\n",
       "\n",
       "    .dataframe tbody tr th {\n",
       "        vertical-align: top;\n",
       "    }\n",
       "\n",
       "    .dataframe thead th {\n",
       "        text-align: right;\n",
       "    }\n",
       "</style>\n",
       "<table border=\"1\" class=\"dataframe\">\n",
       "  <thead>\n",
       "    <tr style=\"text-align: right;\">\n",
       "      <th></th>\n",
       "      <th>ColumnName</th>\n",
       "      <th>Description</th>\n",
       "    </tr>\n",
       "  </thead>\n",
       "  <tbody>\n",
       "    <tr>\n",
       "      <th>0</th>\n",
       "      <td>acc_now_delinq</td>\n",
       "      <td>The number of accounts on which the borrower is now delinquent.</td>\n",
       "    </tr>\n",
       "    <tr>\n",
       "      <th>1</th>\n",
       "      <td>addr_state</td>\n",
       "      <td>The state provided by the borrower in the loan application</td>\n",
       "    </tr>\n",
       "    <tr>\n",
       "      <th>2</th>\n",
       "      <td>annual_inc</td>\n",
       "      <td>The self-reported annual income provided by the borrower during registration.</td>\n",
       "    </tr>\n",
       "    <tr>\n",
       "      <th>3</th>\n",
       "      <td>application_type</td>\n",
       "      <td>Indicates whether the loan is an individual application or a joint application with two co-borrowers</td>\n",
       "    </tr>\n",
       "    <tr>\n",
       "      <th>4</th>\n",
       "      <td>chargeoff_within_12_mths</td>\n",
       "      <td>Number of charge-offs within 12 months</td>\n",
       "    </tr>\n",
       "    <tr>\n",
       "      <th>5</th>\n",
       "      <td>collection_recovery_fee</td>\n",
       "      <td>post charge off collection fee</td>\n",
       "    </tr>\n",
       "    <tr>\n",
       "      <th>6</th>\n",
       "      <td>collections_12_mths_ex_med</td>\n",
       "      <td>Number of collections in 12 months excluding medical collections</td>\n",
       "    </tr>\n",
       "    <tr>\n",
       "      <th>7</th>\n",
       "      <td>debt_settlement_flag</td>\n",
       "      <td>Flags whether or not the borrower, who has charged-off, is working with a debt-settlement company.</td>\n",
       "    </tr>\n",
       "    <tr>\n",
       "      <th>8</th>\n",
       "      <td>debt_settlement_flag_date</td>\n",
       "      <td>The most recent date that the Debt_Settlement_Flag has been set</td>\n",
       "    </tr>\n",
       "    <tr>\n",
       "      <th>9</th>\n",
       "      <td>delinq_2yrs</td>\n",
       "      <td>The number of 30+ days past-due incidences of delinquency in the borrower's credit file for the past 2 years</td>\n",
       "    </tr>\n",
       "    <tr>\n",
       "      <th>10</th>\n",
       "      <td>delinq_amnt</td>\n",
       "      <td>The past-due amount owed for the accounts on which the borrower is now delinquent.</td>\n",
       "    </tr>\n",
       "    <tr>\n",
       "      <th>11</th>\n",
       "      <td>disbursement_method</td>\n",
       "      <td>The method by which the borrower receives their loan. Possible values are: CASH, DIRECT_PAY</td>\n",
       "    </tr>\n",
       "    <tr>\n",
       "      <th>12</th>\n",
       "      <td>dti</td>\n",
       "      <td>A ratio calculated using the borrower’s total monthly debt payments on the total debt obligations, excluding mortgage and the requested LC loan, divided by the borrower’s self-reported monthly income.</td>\n",
       "    </tr>\n",
       "    <tr>\n",
       "      <th>13</th>\n",
       "      <td>earliest_cr_line</td>\n",
       "      <td>The month the borrower's earliest reported credit line was opened</td>\n",
       "    </tr>\n",
       "    <tr>\n",
       "      <th>14</th>\n",
       "      <td>emp_length</td>\n",
       "      <td>Employment length in years. Possible values are between 0 and 10 where 0 means less than one year and 10 means ten or more years.</td>\n",
       "    </tr>\n",
       "    <tr>\n",
       "      <th>15</th>\n",
       "      <td>emp_title</td>\n",
       "      <td>The job title supplied by the Borrower when applying for the loan.*</td>\n",
       "    </tr>\n",
       "    <tr>\n",
       "      <th>16</th>\n",
       "      <td>funded_amnt</td>\n",
       "      <td>The total amount committed to that loan at that point in time.</td>\n",
       "    </tr>\n",
       "    <tr>\n",
       "      <th>17</th>\n",
       "      <td>funded_amnt_inv</td>\n",
       "      <td>The total amount committed by investors for that loan at that point in time.</td>\n",
       "    </tr>\n",
       "    <tr>\n",
       "      <th>18</th>\n",
       "      <td>grade</td>\n",
       "      <td>LC assigned loan grade</td>\n",
       "    </tr>\n",
       "    <tr>\n",
       "      <th>19</th>\n",
       "      <td>hardship_flag</td>\n",
       "      <td>Flags whether or not the borrower is on a hardship plan</td>\n",
       "    </tr>\n",
       "    <tr>\n",
       "      <th>20</th>\n",
       "      <td>home_ownership</td>\n",
       "      <td>The home ownership status provided by the borrower during registration or obtained from the credit report. Our values are: RENT, OWN, MORTGAGE, OTHER</td>\n",
       "    </tr>\n",
       "    <tr>\n",
       "      <th>21</th>\n",
       "      <td>initial_list_status</td>\n",
       "      <td>The initial listing status of the loan. Possible values are – W, F</td>\n",
       "    </tr>\n",
       "    <tr>\n",
       "      <th>22</th>\n",
       "      <td>inq_last_6mths</td>\n",
       "      <td>The number of inquiries in past 6 months (excluding auto and mortgage inquiries)</td>\n",
       "    </tr>\n",
       "    <tr>\n",
       "      <th>23</th>\n",
       "      <td>installment</td>\n",
       "      <td>The monthly payment owed by the borrower if the loan originates.</td>\n",
       "    </tr>\n",
       "    <tr>\n",
       "      <th>24</th>\n",
       "      <td>int_rate</td>\n",
       "      <td>Interest Rate on the loan</td>\n",
       "    </tr>\n",
       "    <tr>\n",
       "      <th>25</th>\n",
       "      <td>issue_d</td>\n",
       "      <td>The month which the loan was funded</td>\n",
       "    </tr>\n",
       "    <tr>\n",
       "      <th>26</th>\n",
       "      <td>last_credit_pull_d</td>\n",
       "      <td>The most recent month LC pulled credit for this loan</td>\n",
       "    </tr>\n",
       "    <tr>\n",
       "      <th>27</th>\n",
       "      <td>last_pymnt_amnt</td>\n",
       "      <td>Last total payment amount received</td>\n",
       "    </tr>\n",
       "    <tr>\n",
       "      <th>28</th>\n",
       "      <td>last_pymnt_d</td>\n",
       "      <td>Last month payment was received</td>\n",
       "    </tr>\n",
       "    <tr>\n",
       "      <th>29</th>\n",
       "      <td>loan_amnt</td>\n",
       "      <td>The listed amount of the loan applied for by the borrower. If at some point in time, the credit department reduces the loan amount, then it will be reflected in this value.</td>\n",
       "    </tr>\n",
       "    <tr>\n",
       "      <th>30</th>\n",
       "      <td>loan_status</td>\n",
       "      <td>Current status of the loan</td>\n",
       "    </tr>\n",
       "    <tr>\n",
       "      <th>31</th>\n",
       "      <td>mths_since_last_delinq</td>\n",
       "      <td>The number of months since the borrower's last delinquency.</td>\n",
       "    </tr>\n",
       "    <tr>\n",
       "      <th>32</th>\n",
       "      <td>mths_since_last_major_derog</td>\n",
       "      <td>Months since most recent 90-day or worse rating</td>\n",
       "    </tr>\n",
       "    <tr>\n",
       "      <th>33</th>\n",
       "      <td>mths_since_last_record</td>\n",
       "      <td>The number of months since the last public record.</td>\n",
       "    </tr>\n",
       "    <tr>\n",
       "      <th>34</th>\n",
       "      <td>next_pymnt_d</td>\n",
       "      <td>Next scheduled payment date</td>\n",
       "    </tr>\n",
       "    <tr>\n",
       "      <th>35</th>\n",
       "      <td>open_acc</td>\n",
       "      <td>The number of open credit lines in the borrower's credit file.</td>\n",
       "    </tr>\n",
       "    <tr>\n",
       "      <th>36</th>\n",
       "      <td>out_prncp</td>\n",
       "      <td>Remaining outstanding principal for total amount funded</td>\n",
       "    </tr>\n",
       "    <tr>\n",
       "      <th>37</th>\n",
       "      <td>out_prncp_inv</td>\n",
       "      <td>Remaining outstanding principal for portion of total amount funded by investors</td>\n",
       "    </tr>\n",
       "    <tr>\n",
       "      <th>38</th>\n",
       "      <td>policy_code</td>\n",
       "      <td>publicly available policy_code=1\\nnew products not publicly available policy_code=2</td>\n",
       "    </tr>\n",
       "    <tr>\n",
       "      <th>39</th>\n",
       "      <td>pub_rec</td>\n",
       "      <td>Number of derogatory public records</td>\n",
       "    </tr>\n",
       "    <tr>\n",
       "      <th>40</th>\n",
       "      <td>pub_rec_bankruptcies</td>\n",
       "      <td>Number of public record bankruptcies</td>\n",
       "    </tr>\n",
       "    <tr>\n",
       "      <th>41</th>\n",
       "      <td>purpose</td>\n",
       "      <td>A category provided by the borrower for the loan request.</td>\n",
       "    </tr>\n",
       "    <tr>\n",
       "      <th>42</th>\n",
       "      <td>pymnt_plan</td>\n",
       "      <td>Indicates if a payment plan has been put in place for the loan</td>\n",
       "    </tr>\n",
       "    <tr>\n",
       "      <th>43</th>\n",
       "      <td>recoveries</td>\n",
       "      <td>post charge off gross recovery</td>\n",
       "    </tr>\n",
       "    <tr>\n",
       "      <th>44</th>\n",
       "      <td>revol_bal</td>\n",
       "      <td>Total credit revolving balance</td>\n",
       "    </tr>\n",
       "    <tr>\n",
       "      <th>45</th>\n",
       "      <td>revol_util</td>\n",
       "      <td>Revolving line utilization rate, or the amount of credit the borrower is using relative to all available revolving credit.</td>\n",
       "    </tr>\n",
       "    <tr>\n",
       "      <th>46</th>\n",
       "      <td>sub_grade</td>\n",
       "      <td>LC assigned loan subgrade</td>\n",
       "    </tr>\n",
       "    <tr>\n",
       "      <th>47</th>\n",
       "      <td>tax_liens</td>\n",
       "      <td>Number of tax liens</td>\n",
       "    </tr>\n",
       "    <tr>\n",
       "      <th>48</th>\n",
       "      <td>term</td>\n",
       "      <td>The number of payments on the loan. Values are in months and can be either 36 or 60.</td>\n",
       "    </tr>\n",
       "    <tr>\n",
       "      <th>49</th>\n",
       "      <td>title</td>\n",
       "      <td>The loan title provided by the borrower</td>\n",
       "    </tr>\n",
       "    <tr>\n",
       "      <th>50</th>\n",
       "      <td>total_acc</td>\n",
       "      <td>The total number of credit lines currently in the borrower's credit file</td>\n",
       "    </tr>\n",
       "    <tr>\n",
       "      <th>51</th>\n",
       "      <td>total_pymnt</td>\n",
       "      <td>Payments received to date for total amount funded</td>\n",
       "    </tr>\n",
       "    <tr>\n",
       "      <th>52</th>\n",
       "      <td>total_pymnt_inv</td>\n",
       "      <td>Payments received to date for portion of total amount funded by investors</td>\n",
       "    </tr>\n",
       "    <tr>\n",
       "      <th>53</th>\n",
       "      <td>total_rec_int</td>\n",
       "      <td>Interest received to date</td>\n",
       "    </tr>\n",
       "    <tr>\n",
       "      <th>54</th>\n",
       "      <td>total_rec_late_fee</td>\n",
       "      <td>Late fees received to date</td>\n",
       "    </tr>\n",
       "    <tr>\n",
       "      <th>55</th>\n",
       "      <td>total_rec_prncp</td>\n",
       "      <td>Principal received to date</td>\n",
       "    </tr>\n",
       "    <tr>\n",
       "      <th>56</th>\n",
       "      <td>verification_status</td>\n",
       "      <td>Indicates if income was verified by LC, not verified, or if the income source was verified</td>\n",
       "    </tr>\n",
       "    <tr>\n",
       "      <th>57</th>\n",
       "      <td>zip_code</td>\n",
       "      <td>The first 3 numbers of the zip code provided by the borrower in the loan application.</td>\n",
       "    </tr>\n",
       "  </tbody>\n",
       "</table>\n",
       "</div>"
      ],
      "text/plain": [
       "                     ColumnName  \\\n",
       "0                acc_now_delinq   \n",
       "1                    addr_state   \n",
       "2                    annual_inc   \n",
       "3              application_type   \n",
       "4      chargeoff_within_12_mths   \n",
       "5       collection_recovery_fee   \n",
       "6    collections_12_mths_ex_med   \n",
       "7          debt_settlement_flag   \n",
       "8     debt_settlement_flag_date   \n",
       "9                   delinq_2yrs   \n",
       "10                  delinq_amnt   \n",
       "11          disbursement_method   \n",
       "12                          dti   \n",
       "13             earliest_cr_line   \n",
       "14                   emp_length   \n",
       "15                    emp_title   \n",
       "16                  funded_amnt   \n",
       "17              funded_amnt_inv   \n",
       "18                        grade   \n",
       "19                hardship_flag   \n",
       "20               home_ownership   \n",
       "21          initial_list_status   \n",
       "22               inq_last_6mths   \n",
       "23                  installment   \n",
       "24                     int_rate   \n",
       "25                      issue_d   \n",
       "26           last_credit_pull_d   \n",
       "27              last_pymnt_amnt   \n",
       "28                 last_pymnt_d   \n",
       "29                    loan_amnt   \n",
       "30                  loan_status   \n",
       "31       mths_since_last_delinq   \n",
       "32  mths_since_last_major_derog   \n",
       "33       mths_since_last_record   \n",
       "34                 next_pymnt_d   \n",
       "35                     open_acc   \n",
       "36                    out_prncp   \n",
       "37                out_prncp_inv   \n",
       "38                  policy_code   \n",
       "39                      pub_rec   \n",
       "40         pub_rec_bankruptcies   \n",
       "41                      purpose   \n",
       "42                   pymnt_plan   \n",
       "43                   recoveries   \n",
       "44                    revol_bal   \n",
       "45                   revol_util   \n",
       "46                    sub_grade   \n",
       "47                    tax_liens   \n",
       "48                         term   \n",
       "49                        title   \n",
       "50                    total_acc   \n",
       "51                  total_pymnt   \n",
       "52              total_pymnt_inv   \n",
       "53                total_rec_int   \n",
       "54           total_rec_late_fee   \n",
       "55              total_rec_prncp   \n",
       "56          verification_status   \n",
       "57                     zip_code   \n",
       "\n",
       "                                                                                                                                                                                                 Description  \n",
       "0                                                                                                                                            The number of accounts on which the borrower is now delinquent.  \n",
       "1                                                                                                                                                 The state provided by the borrower in the loan application  \n",
       "2                                                                                                                              The self-reported annual income provided by the borrower during registration.  \n",
       "3                                                                                                       Indicates whether the loan is an individual application or a joint application with two co-borrowers  \n",
       "4                                                                                                                                                                     Number of charge-offs within 12 months  \n",
       "5                                                                                                                                                                             post charge off collection fee  \n",
       "6                                                                                                                                           Number of collections in 12 months excluding medical collections  \n",
       "7                                                                                                         Flags whether or not the borrower, who has charged-off, is working with a debt-settlement company.  \n",
       "8                                                                                                                                          The most recent date that the Debt_Settlement_Flag has been set    \n",
       "9                                                                                               The number of 30+ days past-due incidences of delinquency in the borrower's credit file for the past 2 years  \n",
       "10                                                                                                                        The past-due amount owed for the accounts on which the borrower is now delinquent.  \n",
       "11                                                                                                               The method by which the borrower receives their loan. Possible values are: CASH, DIRECT_PAY  \n",
       "12  A ratio calculated using the borrower’s total monthly debt payments on the total debt obligations, excluding mortgage and the requested LC loan, divided by the borrower’s self-reported monthly income.  \n",
       "13                                                                                                                                         The month the borrower's earliest reported credit line was opened  \n",
       "14                                                                        Employment length in years. Possible values are between 0 and 10 where 0 means less than one year and 10 means ten or more years.   \n",
       "15                                                                                                                                       The job title supplied by the Borrower when applying for the loan.*  \n",
       "16                                                                                                                                            The total amount committed to that loan at that point in time.  \n",
       "17                                                                                                                              The total amount committed by investors for that loan at that point in time.  \n",
       "18                                                                                                                                                                                    LC assigned loan grade  \n",
       "19                                                                                                                                                   Flags whether or not the borrower is on a hardship plan  \n",
       "20                                                     The home ownership status provided by the borrower during registration or obtained from the credit report. Our values are: RENT, OWN, MORTGAGE, OTHER  \n",
       "21                                                                                                                                        The initial listing status of the loan. Possible values are – W, F  \n",
       "22                                                                                                                          The number of inquiries in past 6 months (excluding auto and mortgage inquiries)  \n",
       "23                                                                                                                                          The monthly payment owed by the borrower if the loan originates.  \n",
       "24                                                                                                                                                                                 Interest Rate on the loan  \n",
       "25                                                                                                                                                                       The month which the loan was funded  \n",
       "26                                                                                                                                                      The most recent month LC pulled credit for this loan  \n",
       "27                                                                                                                                                                        Last total payment amount received  \n",
       "28                                                                                                                                                                           Last month payment was received  \n",
       "29                              The listed amount of the loan applied for by the borrower. If at some point in time, the credit department reduces the loan amount, then it will be reflected in this value.  \n",
       "30                                                                                                                                                                                Current status of the loan  \n",
       "31                                                                                                                                               The number of months since the borrower's last delinquency.  \n",
       "32                                                                                                                                                           Months since most recent 90-day or worse rating  \n",
       "33                                                                                                                                                        The number of months since the last public record.  \n",
       "34                                                                                                                                                                               Next scheduled payment date  \n",
       "35                                                                                                                                            The number of open credit lines in the borrower's credit file.  \n",
       "36                                                                                                                                                   Remaining outstanding principal for total amount funded  \n",
       "37                                                                                                                           Remaining outstanding principal for portion of total amount funded by investors  \n",
       "38                                                                                                                       publicly available policy_code=1\\nnew products not publicly available policy_code=2  \n",
       "39                                                                                                                                                                       Number of derogatory public records  \n",
       "40                                                                                                                                                                      Number of public record bankruptcies  \n",
       "41                                                                                                                                                A category provided by the borrower for the loan request.   \n",
       "42                                                                                                                                            Indicates if a payment plan has been put in place for the loan  \n",
       "43                                                                                                                                                                            post charge off gross recovery  \n",
       "44                                                                                                                                                                            Total credit revolving balance  \n",
       "45                                                                                Revolving line utilization rate, or the amount of credit the borrower is using relative to all available revolving credit.  \n",
       "46                                                                                                                                                                                 LC assigned loan subgrade  \n",
       "47                                                                                                                                                                                       Number of tax liens  \n",
       "48                                                                                                                      The number of payments on the loan. Values are in months and can be either 36 or 60.  \n",
       "49                                                                                                                                                                   The loan title provided by the borrower  \n",
       "50                                                                                                                                  The total number of credit lines currently in the borrower's credit file  \n",
       "51                                                                                                                                                         Payments received to date for total amount funded  \n",
       "52                                                                                                                                 Payments received to date for portion of total amount funded by investors  \n",
       "53                                                                                                                                                                                 Interest received to date  \n",
       "54                                                                                                                                                                                Late fees received to date  \n",
       "55                                                                                                                                                                                Principal received to date  \n",
       "56                                                                                                                Indicates if income was verified by LC, not verified, or if the income source was verified  \n",
       "57                                                                                                                     The first 3 numbers of the zip code provided by the borrower in the loan application.  "
      ]
     },
     "execution_count": 2,
     "metadata": {},
     "output_type": "execute_result"
    }
   ],
   "source": [
    "data_dict = pd.read_csv(\"data_dictionary.csv\")\n",
    "data_dict"
   ]
  },
  {
   "cell_type": "markdown",
   "metadata": {},
   "source": [
    "In the next code cell, `lending_club_2007_2011_6_states.csv` is already loaded to a DataFrame **loan_df**, please display the first 5 rows of the DataFrame."
   ]
  },
  {
   "cell_type": "markdown",
   "metadata": {},
   "source": [
    "#### Your Code for the Loan Data"
   ]
  },
  {
   "cell_type": "code",
   "execution_count": 3,
   "metadata": {
    "scrolled": true
   },
   "outputs": [
    {
     "data": {
      "text/html": [
       "<div>\n",
       "<style scoped>\n",
       "    .dataframe tbody tr th:only-of-type {\n",
       "        vertical-align: middle;\n",
       "    }\n",
       "\n",
       "    .dataframe tbody tr th {\n",
       "        vertical-align: top;\n",
       "    }\n",
       "\n",
       "    .dataframe thead th {\n",
       "        text-align: right;\n",
       "    }\n",
       "</style>\n",
       "<table border=\"1\" class=\"dataframe\">\n",
       "  <thead>\n",
       "    <tr style=\"text-align: right;\">\n",
       "      <th></th>\n",
       "      <th>loan_amnt</th>\n",
       "      <th>funded_amnt</th>\n",
       "      <th>funded_amnt_inv</th>\n",
       "      <th>term</th>\n",
       "      <th>int_rate</th>\n",
       "      <th>installment</th>\n",
       "      <th>grade</th>\n",
       "      <th>sub_grade</th>\n",
       "      <th>emp_title</th>\n",
       "      <th>emp_length</th>\n",
       "      <th>home_ownership</th>\n",
       "      <th>annual_inc</th>\n",
       "      <th>verification_status</th>\n",
       "      <th>issue_d</th>\n",
       "      <th>loan_status</th>\n",
       "      <th>pymnt_plan</th>\n",
       "      <th>purpose</th>\n",
       "      <th>title</th>\n",
       "      <th>zip_code</th>\n",
       "      <th>addr_state</th>\n",
       "      <th>dti</th>\n",
       "      <th>delinq_2yrs</th>\n",
       "      <th>earliest_cr_line</th>\n",
       "      <th>inq_last_6mths</th>\n",
       "      <th>mths_since_last_delinq</th>\n",
       "      <th>mths_since_last_record</th>\n",
       "      <th>open_acc</th>\n",
       "      <th>pub_rec</th>\n",
       "      <th>revol_bal</th>\n",
       "      <th>revol_util</th>\n",
       "      <th>total_acc</th>\n",
       "      <th>initial_list_status</th>\n",
       "      <th>out_prncp</th>\n",
       "      <th>out_prncp_inv</th>\n",
       "      <th>total_pymnt</th>\n",
       "      <th>total_pymnt_inv</th>\n",
       "      <th>total_rec_prncp</th>\n",
       "      <th>total_rec_int</th>\n",
       "      <th>total_rec_late_fee</th>\n",
       "      <th>recoveries</th>\n",
       "      <th>collection_recovery_fee</th>\n",
       "      <th>last_pymnt_d</th>\n",
       "      <th>last_pymnt_amnt</th>\n",
       "      <th>next_pymnt_d</th>\n",
       "      <th>last_credit_pull_d</th>\n",
       "      <th>collections_12_mths_ex_med</th>\n",
       "      <th>mths_since_last_major_derog</th>\n",
       "      <th>policy_code</th>\n",
       "      <th>application_type</th>\n",
       "      <th>acc_now_delinq</th>\n",
       "      <th>chargeoff_within_12_mths</th>\n",
       "      <th>delinq_amnt</th>\n",
       "      <th>pub_rec_bankruptcies</th>\n",
       "      <th>tax_liens</th>\n",
       "      <th>hardship_flag</th>\n",
       "      <th>disbursement_method</th>\n",
       "      <th>debt_settlement_flag</th>\n",
       "      <th>debt_settlement_flag_date</th>\n",
       "    </tr>\n",
       "  </thead>\n",
       "  <tbody>\n",
       "    <tr>\n",
       "      <th>0</th>\n",
       "      <td>2400</td>\n",
       "      <td>2400</td>\n",
       "      <td>2400.0</td>\n",
       "      <td>36 months</td>\n",
       "      <td>15.96</td>\n",
       "      <td>84.33</td>\n",
       "      <td>C</td>\n",
       "      <td>C5</td>\n",
       "      <td>NaN</td>\n",
       "      <td>10+ years</td>\n",
       "      <td>RENT</td>\n",
       "      <td>12252.0</td>\n",
       "      <td>Not Verified</td>\n",
       "      <td>Dec-2011</td>\n",
       "      <td>Fully Paid</td>\n",
       "      <td>n</td>\n",
       "      <td>small_business</td>\n",
       "      <td>real estate business</td>\n",
       "      <td>606xx</td>\n",
       "      <td>IL</td>\n",
       "      <td>8.72</td>\n",
       "      <td>0.0</td>\n",
       "      <td>Nov-2001</td>\n",
       "      <td>2.0</td>\n",
       "      <td>NaN</td>\n",
       "      <td>NaN</td>\n",
       "      <td>2.0</td>\n",
       "      <td>0.0</td>\n",
       "      <td>2956</td>\n",
       "      <td>98.5</td>\n",
       "      <td>10.0</td>\n",
       "      <td>f</td>\n",
       "      <td>0.0</td>\n",
       "      <td>0.0</td>\n",
       "      <td>3005.666844</td>\n",
       "      <td>3005.67</td>\n",
       "      <td>2400.00</td>\n",
       "      <td>605.67</td>\n",
       "      <td>0.00</td>\n",
       "      <td>0.00</td>\n",
       "      <td>0.00</td>\n",
       "      <td>Jun-2014</td>\n",
       "      <td>649.91</td>\n",
       "      <td>NaN</td>\n",
       "      <td>Jun-2017</td>\n",
       "      <td>0.0</td>\n",
       "      <td>NaN</td>\n",
       "      <td>1</td>\n",
       "      <td>Individual</td>\n",
       "      <td>0.0</td>\n",
       "      <td>0.0</td>\n",
       "      <td>0.0</td>\n",
       "      <td>0.0</td>\n",
       "      <td>0.0</td>\n",
       "      <td>N</td>\n",
       "      <td>Cash</td>\n",
       "      <td>N</td>\n",
       "      <td>NaN</td>\n",
       "    </tr>\n",
       "    <tr>\n",
       "      <th>1</th>\n",
       "      <td>10000</td>\n",
       "      <td>10000</td>\n",
       "      <td>10000.0</td>\n",
       "      <td>36 months</td>\n",
       "      <td>13.49</td>\n",
       "      <td>339.31</td>\n",
       "      <td>C</td>\n",
       "      <td>C1</td>\n",
       "      <td>AIR RESOURCES BOARD</td>\n",
       "      <td>10+ years</td>\n",
       "      <td>RENT</td>\n",
       "      <td>49200.0</td>\n",
       "      <td>Source Verified</td>\n",
       "      <td>Dec-2011</td>\n",
       "      <td>Fully Paid</td>\n",
       "      <td>n</td>\n",
       "      <td>other</td>\n",
       "      <td>personel</td>\n",
       "      <td>917xx</td>\n",
       "      <td>CA</td>\n",
       "      <td>20.00</td>\n",
       "      <td>0.0</td>\n",
       "      <td>Feb-1996</td>\n",
       "      <td>1.0</td>\n",
       "      <td>35.0</td>\n",
       "      <td>NaN</td>\n",
       "      <td>10.0</td>\n",
       "      <td>0.0</td>\n",
       "      <td>5598</td>\n",
       "      <td>21.0</td>\n",
       "      <td>37.0</td>\n",
       "      <td>f</td>\n",
       "      <td>0.0</td>\n",
       "      <td>0.0</td>\n",
       "      <td>12231.890000</td>\n",
       "      <td>12231.89</td>\n",
       "      <td>10000.00</td>\n",
       "      <td>2214.92</td>\n",
       "      <td>16.97</td>\n",
       "      <td>0.00</td>\n",
       "      <td>0.00</td>\n",
       "      <td>Jan-2015</td>\n",
       "      <td>357.48</td>\n",
       "      <td>NaN</td>\n",
       "      <td>Apr-2016</td>\n",
       "      <td>0.0</td>\n",
       "      <td>NaN</td>\n",
       "      <td>1</td>\n",
       "      <td>Individual</td>\n",
       "      <td>0.0</td>\n",
       "      <td>0.0</td>\n",
       "      <td>0.0</td>\n",
       "      <td>0.0</td>\n",
       "      <td>0.0</td>\n",
       "      <td>N</td>\n",
       "      <td>Cash</td>\n",
       "      <td>N</td>\n",
       "      <td>NaN</td>\n",
       "    </tr>\n",
       "    <tr>\n",
       "      <th>2</th>\n",
       "      <td>3000</td>\n",
       "      <td>3000</td>\n",
       "      <td>3000.0</td>\n",
       "      <td>36 months</td>\n",
       "      <td>18.64</td>\n",
       "      <td>109.43</td>\n",
       "      <td>E</td>\n",
       "      <td>E1</td>\n",
       "      <td>MKC Accounting</td>\n",
       "      <td>9 years</td>\n",
       "      <td>RENT</td>\n",
       "      <td>48000.0</td>\n",
       "      <td>Source Verified</td>\n",
       "      <td>Dec-2011</td>\n",
       "      <td>Fully Paid</td>\n",
       "      <td>n</td>\n",
       "      <td>car</td>\n",
       "      <td>Car Downpayment</td>\n",
       "      <td>900xx</td>\n",
       "      <td>CA</td>\n",
       "      <td>5.35</td>\n",
       "      <td>0.0</td>\n",
       "      <td>Jan-2007</td>\n",
       "      <td>2.0</td>\n",
       "      <td>NaN</td>\n",
       "      <td>NaN</td>\n",
       "      <td>4.0</td>\n",
       "      <td>0.0</td>\n",
       "      <td>8221</td>\n",
       "      <td>87.5</td>\n",
       "      <td>4.0</td>\n",
       "      <td>f</td>\n",
       "      <td>0.0</td>\n",
       "      <td>0.0</td>\n",
       "      <td>3939.135294</td>\n",
       "      <td>3939.14</td>\n",
       "      <td>3000.00</td>\n",
       "      <td>939.14</td>\n",
       "      <td>0.00</td>\n",
       "      <td>0.00</td>\n",
       "      <td>0.00</td>\n",
       "      <td>Jan-2015</td>\n",
       "      <td>111.34</td>\n",
       "      <td>NaN</td>\n",
       "      <td>Dec-2014</td>\n",
       "      <td>0.0</td>\n",
       "      <td>NaN</td>\n",
       "      <td>1</td>\n",
       "      <td>Individual</td>\n",
       "      <td>0.0</td>\n",
       "      <td>0.0</td>\n",
       "      <td>0.0</td>\n",
       "      <td>0.0</td>\n",
       "      <td>0.0</td>\n",
       "      <td>N</td>\n",
       "      <td>Cash</td>\n",
       "      <td>N</td>\n",
       "      <td>NaN</td>\n",
       "    </tr>\n",
       "    <tr>\n",
       "      <th>3</th>\n",
       "      <td>5600</td>\n",
       "      <td>5600</td>\n",
       "      <td>5600.0</td>\n",
       "      <td>60 months</td>\n",
       "      <td>21.28</td>\n",
       "      <td>152.39</td>\n",
       "      <td>F</td>\n",
       "      <td>F2</td>\n",
       "      <td>NaN</td>\n",
       "      <td>4 years</td>\n",
       "      <td>OWN</td>\n",
       "      <td>40000.0</td>\n",
       "      <td>Source Verified</td>\n",
       "      <td>Dec-2011</td>\n",
       "      <td>Charged Off</td>\n",
       "      <td>n</td>\n",
       "      <td>small_business</td>\n",
       "      <td>Expand Business &amp; Buy Debt Portfolio</td>\n",
       "      <td>958xx</td>\n",
       "      <td>CA</td>\n",
       "      <td>5.55</td>\n",
       "      <td>0.0</td>\n",
       "      <td>Apr-2004</td>\n",
       "      <td>2.0</td>\n",
       "      <td>NaN</td>\n",
       "      <td>NaN</td>\n",
       "      <td>11.0</td>\n",
       "      <td>0.0</td>\n",
       "      <td>5210</td>\n",
       "      <td>32.6</td>\n",
       "      <td>13.0</td>\n",
       "      <td>f</td>\n",
       "      <td>0.0</td>\n",
       "      <td>0.0</td>\n",
       "      <td>647.500000</td>\n",
       "      <td>647.50</td>\n",
       "      <td>162.02</td>\n",
       "      <td>294.94</td>\n",
       "      <td>0.00</td>\n",
       "      <td>190.54</td>\n",
       "      <td>2.09</td>\n",
       "      <td>Apr-2012</td>\n",
       "      <td>152.39</td>\n",
       "      <td>NaN</td>\n",
       "      <td>Oct-2016</td>\n",
       "      <td>0.0</td>\n",
       "      <td>NaN</td>\n",
       "      <td>1</td>\n",
       "      <td>Individual</td>\n",
       "      <td>0.0</td>\n",
       "      <td>0.0</td>\n",
       "      <td>0.0</td>\n",
       "      <td>0.0</td>\n",
       "      <td>0.0</td>\n",
       "      <td>N</td>\n",
       "      <td>Cash</td>\n",
       "      <td>N</td>\n",
       "      <td>NaN</td>\n",
       "    </tr>\n",
       "    <tr>\n",
       "      <th>4</th>\n",
       "      <td>5375</td>\n",
       "      <td>5375</td>\n",
       "      <td>5350.0</td>\n",
       "      <td>60 months</td>\n",
       "      <td>12.69</td>\n",
       "      <td>121.45</td>\n",
       "      <td>B</td>\n",
       "      <td>B5</td>\n",
       "      <td>Starbucks</td>\n",
       "      <td>&lt; 1 year</td>\n",
       "      <td>RENT</td>\n",
       "      <td>15000.0</td>\n",
       "      <td>Verified</td>\n",
       "      <td>Dec-2011</td>\n",
       "      <td>Charged Off</td>\n",
       "      <td>n</td>\n",
       "      <td>other</td>\n",
       "      <td>Building my credit history.</td>\n",
       "      <td>774xx</td>\n",
       "      <td>TX</td>\n",
       "      <td>18.08</td>\n",
       "      <td>0.0</td>\n",
       "      <td>Sep-2004</td>\n",
       "      <td>0.0</td>\n",
       "      <td>NaN</td>\n",
       "      <td>NaN</td>\n",
       "      <td>2.0</td>\n",
       "      <td>0.0</td>\n",
       "      <td>9279</td>\n",
       "      <td>36.5</td>\n",
       "      <td>3.0</td>\n",
       "      <td>f</td>\n",
       "      <td>0.0</td>\n",
       "      <td>0.0</td>\n",
       "      <td>1484.590000</td>\n",
       "      <td>1477.70</td>\n",
       "      <td>673.48</td>\n",
       "      <td>533.42</td>\n",
       "      <td>0.00</td>\n",
       "      <td>277.69</td>\n",
       "      <td>2.52</td>\n",
       "      <td>Nov-2012</td>\n",
       "      <td>121.45</td>\n",
       "      <td>NaN</td>\n",
       "      <td>Dec-2016</td>\n",
       "      <td>0.0</td>\n",
       "      <td>NaN</td>\n",
       "      <td>1</td>\n",
       "      <td>Individual</td>\n",
       "      <td>0.0</td>\n",
       "      <td>0.0</td>\n",
       "      <td>0.0</td>\n",
       "      <td>0.0</td>\n",
       "      <td>0.0</td>\n",
       "      <td>N</td>\n",
       "      <td>Cash</td>\n",
       "      <td>N</td>\n",
       "      <td>NaN</td>\n",
       "    </tr>\n",
       "  </tbody>\n",
       "</table>\n",
       "</div>"
      ],
      "text/plain": [
       "   loan_amnt  funded_amnt  funded_amnt_inv       term  int_rate  installment  \\\n",
       "0       2400         2400           2400.0  36 months     15.96        84.33   \n",
       "1      10000        10000          10000.0  36 months     13.49       339.31   \n",
       "2       3000         3000           3000.0  36 months     18.64       109.43   \n",
       "3       5600         5600           5600.0  60 months     21.28       152.39   \n",
       "4       5375         5375           5350.0  60 months     12.69       121.45   \n",
       "\n",
       "  grade sub_grade            emp_title emp_length home_ownership  annual_inc  \\\n",
       "0     C        C5                  NaN  10+ years           RENT     12252.0   \n",
       "1     C        C1  AIR RESOURCES BOARD  10+ years           RENT     49200.0   \n",
       "2     E        E1      MKC Accounting     9 years           RENT     48000.0   \n",
       "3     F        F2                  NaN    4 years            OWN     40000.0   \n",
       "4     B        B5            Starbucks   < 1 year           RENT     15000.0   \n",
       "\n",
       "  verification_status   issue_d  loan_status pymnt_plan         purpose  \\\n",
       "0        Not Verified  Dec-2011   Fully Paid          n  small_business   \n",
       "1     Source Verified  Dec-2011   Fully Paid          n           other   \n",
       "2     Source Verified  Dec-2011   Fully Paid          n             car   \n",
       "3     Source Verified  Dec-2011  Charged Off          n  small_business   \n",
       "4            Verified  Dec-2011  Charged Off          n           other   \n",
       "\n",
       "                                  title zip_code addr_state    dti  \\\n",
       "0                  real estate business    606xx         IL   8.72   \n",
       "1                              personel    917xx         CA  20.00   \n",
       "2                       Car Downpayment    900xx         CA   5.35   \n",
       "3  Expand Business & Buy Debt Portfolio    958xx         CA   5.55   \n",
       "4           Building my credit history.    774xx         TX  18.08   \n",
       "\n",
       "   delinq_2yrs earliest_cr_line  inq_last_6mths  mths_since_last_delinq  \\\n",
       "0          0.0         Nov-2001             2.0                     NaN   \n",
       "1          0.0         Feb-1996             1.0                    35.0   \n",
       "2          0.0         Jan-2007             2.0                     NaN   \n",
       "3          0.0         Apr-2004             2.0                     NaN   \n",
       "4          0.0         Sep-2004             0.0                     NaN   \n",
       "\n",
       "   mths_since_last_record  open_acc  pub_rec  revol_bal  revol_util  \\\n",
       "0                     NaN       2.0      0.0       2956        98.5   \n",
       "1                     NaN      10.0      0.0       5598        21.0   \n",
       "2                     NaN       4.0      0.0       8221        87.5   \n",
       "3                     NaN      11.0      0.0       5210        32.6   \n",
       "4                     NaN       2.0      0.0       9279        36.5   \n",
       "\n",
       "   total_acc initial_list_status  out_prncp  out_prncp_inv   total_pymnt  \\\n",
       "0       10.0                   f        0.0            0.0   3005.666844   \n",
       "1       37.0                   f        0.0            0.0  12231.890000   \n",
       "2        4.0                   f        0.0            0.0   3939.135294   \n",
       "3       13.0                   f        0.0            0.0    647.500000   \n",
       "4        3.0                   f        0.0            0.0   1484.590000   \n",
       "\n",
       "   total_pymnt_inv  total_rec_prncp  total_rec_int  total_rec_late_fee  \\\n",
       "0          3005.67          2400.00         605.67                0.00   \n",
       "1         12231.89         10000.00        2214.92               16.97   \n",
       "2          3939.14          3000.00         939.14                0.00   \n",
       "3           647.50           162.02         294.94                0.00   \n",
       "4          1477.70           673.48         533.42                0.00   \n",
       "\n",
       "   recoveries  collection_recovery_fee last_pymnt_d  last_pymnt_amnt  \\\n",
       "0        0.00                     0.00     Jun-2014           649.91   \n",
       "1        0.00                     0.00     Jan-2015           357.48   \n",
       "2        0.00                     0.00     Jan-2015           111.34   \n",
       "3      190.54                     2.09     Apr-2012           152.39   \n",
       "4      277.69                     2.52     Nov-2012           121.45   \n",
       "\n",
       "   next_pymnt_d last_credit_pull_d  collections_12_mths_ex_med  \\\n",
       "0           NaN           Jun-2017                         0.0   \n",
       "1           NaN           Apr-2016                         0.0   \n",
       "2           NaN           Dec-2014                         0.0   \n",
       "3           NaN           Oct-2016                         0.0   \n",
       "4           NaN           Dec-2016                         0.0   \n",
       "\n",
       "   mths_since_last_major_derog  policy_code application_type  acc_now_delinq  \\\n",
       "0                          NaN            1       Individual             0.0   \n",
       "1                          NaN            1       Individual             0.0   \n",
       "2                          NaN            1       Individual             0.0   \n",
       "3                          NaN            1       Individual             0.0   \n",
       "4                          NaN            1       Individual             0.0   \n",
       "\n",
       "   chargeoff_within_12_mths  delinq_amnt  pub_rec_bankruptcies  tax_liens  \\\n",
       "0                       0.0          0.0                   0.0        0.0   \n",
       "1                       0.0          0.0                   0.0        0.0   \n",
       "2                       0.0          0.0                   0.0        0.0   \n",
       "3                       0.0          0.0                   0.0        0.0   \n",
       "4                       0.0          0.0                   0.0        0.0   \n",
       "\n",
       "  hardship_flag disbursement_method debt_settlement_flag  \\\n",
       "0             N                Cash                    N   \n",
       "1             N                Cash                    N   \n",
       "2             N                Cash                    N   \n",
       "3             N                Cash                    N   \n",
       "4             N                Cash                    N   \n",
       "\n",
       "  debt_settlement_flag_date  \n",
       "0                       NaN  \n",
       "1                       NaN  \n",
       "2                       NaN  \n",
       "3                       NaN  \n",
       "4                       NaN  "
      ]
     },
     "execution_count": 3,
     "metadata": {},
     "output_type": "execute_result"
    }
   ],
   "source": [
    "loan_df = pd.read_csv('lending_club_2007_2011_6_states.csv')\n",
    "loan_df.head()"
   ]
  },
  {
   "cell_type": "markdown",
   "metadata": {},
   "source": [
    "### Task 1.2: Check Basic DataFrame Information\n",
    "\n",
    "Check the basic information of the data. \n",
    "\n",
    "You can use `loan_df.info()` function to print basic DataFrame information. You may also use `loan_df.isnull().sum()` to check out count of null values in each column.\n"
   ]
  },
  {
   "cell_type": "markdown",
   "metadata": {},
   "source": [
    "#### Your Code"
   ]
  },
  {
   "cell_type": "code",
   "execution_count": 4,
   "metadata": {},
   "outputs": [
    {
     "name": "stdout",
     "output_type": "stream",
     "text": [
      "<class 'pandas.core.frame.DataFrame'>\n",
      "RangeIndex: 19908 entries, 0 to 19907\n",
      "Data columns (total 58 columns):\n",
      " #   Column                       Non-Null Count  Dtype  \n",
      "---  ------                       --------------  -----  \n",
      " 0   loan_amnt                    19908 non-null  int64  \n",
      " 1   funded_amnt                  19908 non-null  int64  \n",
      " 2   funded_amnt_inv              19908 non-null  float64\n",
      " 3   term                         19908 non-null  object \n",
      " 4   int_rate                     19908 non-null  float64\n",
      " 5   installment                  19908 non-null  float64\n",
      " 6   grade                        19908 non-null  object \n",
      " 7   sub_grade                    19908 non-null  object \n",
      " 8   emp_title                    18723 non-null  object \n",
      " 9   emp_length                   19409 non-null  object \n",
      " 10  home_ownership               19908 non-null  object \n",
      " 11  annual_inc                   19908 non-null  float64\n",
      " 12  verification_status          19908 non-null  object \n",
      " 13  issue_d                      19908 non-null  object \n",
      " 14  loan_status                  19908 non-null  object \n",
      " 15  pymnt_plan                   19908 non-null  object \n",
      " 16  purpose                      19908 non-null  object \n",
      " 17  title                        19903 non-null  object \n",
      " 18  zip_code                     19908 non-null  object \n",
      " 19  addr_state                   19908 non-null  object \n",
      " 20  dti                          19908 non-null  float64\n",
      " 21  delinq_2yrs                  19908 non-null  float64\n",
      " 22  earliest_cr_line             19908 non-null  object \n",
      " 23  inq_last_6mths               19908 non-null  float64\n",
      " 24  mths_since_last_delinq       6998 non-null   float64\n",
      " 25  mths_since_last_record       1209 non-null   float64\n",
      " 26  open_acc                     19908 non-null  float64\n",
      " 27  pub_rec                      19908 non-null  float64\n",
      " 28  revol_bal                    19908 non-null  int64  \n",
      " 29  revol_util                   19889 non-null  float64\n",
      " 30  total_acc                    19908 non-null  float64\n",
      " 31  initial_list_status          19908 non-null  object \n",
      " 32  out_prncp                    19908 non-null  float64\n",
      " 33  out_prncp_inv                19908 non-null  float64\n",
      " 34  total_pymnt                  19908 non-null  float64\n",
      " 35  total_pymnt_inv              19908 non-null  float64\n",
      " 36  total_rec_prncp              19908 non-null  float64\n",
      " 37  total_rec_int                19908 non-null  float64\n",
      " 38  total_rec_late_fee           19908 non-null  float64\n",
      " 39  recoveries                   19908 non-null  float64\n",
      " 40  collection_recovery_fee      19908 non-null  float64\n",
      " 41  last_pymnt_d                 19865 non-null  object \n",
      " 42  last_pymnt_amnt              19908 non-null  float64\n",
      " 43  next_pymnt_d                 0 non-null      float64\n",
      " 44  last_credit_pull_d           19906 non-null  object \n",
      " 45  collections_12_mths_ex_med   19893 non-null  float64\n",
      " 46  mths_since_last_major_derog  0 non-null      float64\n",
      " 47  policy_code                  19908 non-null  int64  \n",
      " 48  application_type             19908 non-null  object \n",
      " 49  acc_now_delinq               19908 non-null  float64\n",
      " 50  chargeoff_within_12_mths     19893 non-null  float64\n",
      " 51  delinq_amnt                  19908 non-null  float64\n",
      " 52  pub_rec_bankruptcies         19595 non-null  float64\n",
      " 53  tax_liens                    19898 non-null  float64\n",
      " 54  hardship_flag                19908 non-null  object \n",
      " 55  disbursement_method          19908 non-null  object \n",
      " 56  debt_settlement_flag         19908 non-null  object \n",
      " 57  debt_settlement_flag_date    82 non-null     object \n",
      "dtypes: float64(31), int64(4), object(23)\n",
      "memory usage: 8.8+ MB\n"
     ]
    }
   ],
   "source": [
    "loan_df.info()"
   ]
  },
  {
   "cell_type": "code",
   "execution_count": 5,
   "metadata": {},
   "outputs": [
    {
     "data": {
      "text/plain": [
       "loan_amnt                          0\n",
       "funded_amnt                        0\n",
       "funded_amnt_inv                    0\n",
       "term                               0\n",
       "int_rate                           0\n",
       "installment                        0\n",
       "grade                              0\n",
       "sub_grade                          0\n",
       "emp_title                       1185\n",
       "emp_length                       499\n",
       "home_ownership                     0\n",
       "annual_inc                         0\n",
       "verification_status                0\n",
       "issue_d                            0\n",
       "loan_status                        0\n",
       "pymnt_plan                         0\n",
       "purpose                            0\n",
       "title                              5\n",
       "zip_code                           0\n",
       "addr_state                         0\n",
       "dti                                0\n",
       "delinq_2yrs                        0\n",
       "earliest_cr_line                   0\n",
       "inq_last_6mths                     0\n",
       "mths_since_last_delinq         12910\n",
       "mths_since_last_record         18699\n",
       "open_acc                           0\n",
       "pub_rec                            0\n",
       "revol_bal                          0\n",
       "revol_util                        19\n",
       "total_acc                          0\n",
       "initial_list_status                0\n",
       "out_prncp                          0\n",
       "out_prncp_inv                      0\n",
       "total_pymnt                        0\n",
       "total_pymnt_inv                    0\n",
       "total_rec_prncp                    0\n",
       "total_rec_int                      0\n",
       "total_rec_late_fee                 0\n",
       "recoveries                         0\n",
       "collection_recovery_fee            0\n",
       "last_pymnt_d                      43\n",
       "last_pymnt_amnt                    0\n",
       "next_pymnt_d                   19908\n",
       "last_credit_pull_d                 2\n",
       "collections_12_mths_ex_med        15\n",
       "mths_since_last_major_derog    19908\n",
       "policy_code                        0\n",
       "application_type                   0\n",
       "acc_now_delinq                     0\n",
       "chargeoff_within_12_mths          15\n",
       "delinq_amnt                        0\n",
       "pub_rec_bankruptcies             313\n",
       "tax_liens                         10\n",
       "hardship_flag                      0\n",
       "disbursement_method                0\n",
       "debt_settlement_flag               0\n",
       "debt_settlement_flag_date      19826\n",
       "dtype: int64"
      ]
     },
     "execution_count": 5,
     "metadata": {},
     "output_type": "execute_result"
    }
   ],
   "source": [
    "loan_df.isnull().sum()"
   ]
  },
  {
   "cell_type": "markdown",
   "metadata": {},
   "source": [
    "### Task 1.3: Statistics of Numeric Columns\n",
    "\n",
    "Print out the descriptive statistics that summarize the central tendency, dispersion and shape of a dataset's distribution.\n",
    "\n",
    "Hint: use describe() function."
   ]
  },
  {
   "cell_type": "markdown",
   "metadata": {},
   "source": [
    "#### Your Code"
   ]
  },
  {
   "cell_type": "code",
   "execution_count": 6,
   "metadata": {
    "scrolled": true
   },
   "outputs": [
    {
     "data": {
      "text/html": [
       "<div>\n",
       "<style scoped>\n",
       "    .dataframe tbody tr th:only-of-type {\n",
       "        vertical-align: middle;\n",
       "    }\n",
       "\n",
       "    .dataframe tbody tr th {\n",
       "        vertical-align: top;\n",
       "    }\n",
       "\n",
       "    .dataframe thead th {\n",
       "        text-align: right;\n",
       "    }\n",
       "</style>\n",
       "<table border=\"1\" class=\"dataframe\">\n",
       "  <thead>\n",
       "    <tr style=\"text-align: right;\">\n",
       "      <th></th>\n",
       "      <th>loan_amnt</th>\n",
       "      <th>funded_amnt</th>\n",
       "      <th>funded_amnt_inv</th>\n",
       "      <th>int_rate</th>\n",
       "      <th>installment</th>\n",
       "      <th>annual_inc</th>\n",
       "      <th>dti</th>\n",
       "      <th>delinq_2yrs</th>\n",
       "      <th>inq_last_6mths</th>\n",
       "      <th>mths_since_last_delinq</th>\n",
       "      <th>mths_since_last_record</th>\n",
       "      <th>open_acc</th>\n",
       "      <th>pub_rec</th>\n",
       "      <th>revol_bal</th>\n",
       "      <th>revol_util</th>\n",
       "      <th>total_acc</th>\n",
       "      <th>out_prncp</th>\n",
       "      <th>out_prncp_inv</th>\n",
       "      <th>total_pymnt</th>\n",
       "      <th>total_pymnt_inv</th>\n",
       "      <th>total_rec_prncp</th>\n",
       "      <th>total_rec_int</th>\n",
       "      <th>total_rec_late_fee</th>\n",
       "      <th>recoveries</th>\n",
       "      <th>collection_recovery_fee</th>\n",
       "      <th>last_pymnt_amnt</th>\n",
       "      <th>next_pymnt_d</th>\n",
       "      <th>collections_12_mths_ex_med</th>\n",
       "      <th>mths_since_last_major_derog</th>\n",
       "      <th>policy_code</th>\n",
       "      <th>acc_now_delinq</th>\n",
       "      <th>chargeoff_within_12_mths</th>\n",
       "      <th>delinq_amnt</th>\n",
       "      <th>pub_rec_bankruptcies</th>\n",
       "      <th>tax_liens</th>\n",
       "    </tr>\n",
       "  </thead>\n",
       "  <tbody>\n",
       "    <tr>\n",
       "      <th>count</th>\n",
       "      <td>19908.000000</td>\n",
       "      <td>19908.000000</td>\n",
       "      <td>19908.000000</td>\n",
       "      <td>19908.000000</td>\n",
       "      <td>19908.000000</td>\n",
       "      <td>1.990800e+04</td>\n",
       "      <td>19908.000000</td>\n",
       "      <td>19908.000000</td>\n",
       "      <td>19908.000000</td>\n",
       "      <td>6998.000000</td>\n",
       "      <td>1209.000000</td>\n",
       "      <td>19908.000000</td>\n",
       "      <td>19908.000000</td>\n",
       "      <td>19908.000000</td>\n",
       "      <td>19889.000000</td>\n",
       "      <td>19908.000000</td>\n",
       "      <td>19908.0</td>\n",
       "      <td>19908.0</td>\n",
       "      <td>19908.000000</td>\n",
       "      <td>19908.000000</td>\n",
       "      <td>19908.000000</td>\n",
       "      <td>19908.000000</td>\n",
       "      <td>19908.000000</td>\n",
       "      <td>19908.000000</td>\n",
       "      <td>19908.000000</td>\n",
       "      <td>19908.000000</td>\n",
       "      <td>0.0</td>\n",
       "      <td>19893.0</td>\n",
       "      <td>0.0</td>\n",
       "      <td>19908.0</td>\n",
       "      <td>19908.0</td>\n",
       "      <td>19893.0</td>\n",
       "      <td>19908.0</td>\n",
       "      <td>19595.000000</td>\n",
       "      <td>19898.0</td>\n",
       "    </tr>\n",
       "    <tr>\n",
       "      <th>mean</th>\n",
       "      <td>11353.846444</td>\n",
       "      <td>11065.763763</td>\n",
       "      <td>10500.929748</td>\n",
       "      <td>12.089717</td>\n",
       "      <td>330.614254</td>\n",
       "      <td>7.107345e+04</td>\n",
       "      <td>13.008619</td>\n",
       "      <td>0.143962</td>\n",
       "      <td>0.829466</td>\n",
       "      <td>35.841097</td>\n",
       "      <td>69.354839</td>\n",
       "      <td>9.278782</td>\n",
       "      <td>0.046715</td>\n",
       "      <td>13363.994826</td>\n",
       "      <td>49.424966</td>\n",
       "      <td>21.527627</td>\n",
       "      <td>0.0</td>\n",
       "      <td>0.0</td>\n",
       "      <td>12286.852391</td>\n",
       "      <td>11690.155107</td>\n",
       "      <td>9913.519990</td>\n",
       "      <td>2277.120129</td>\n",
       "      <td>1.489973</td>\n",
       "      <td>94.722382</td>\n",
       "      <td>11.861625</td>\n",
       "      <td>2636.253711</td>\n",
       "      <td>NaN</td>\n",
       "      <td>0.0</td>\n",
       "      <td>NaN</td>\n",
       "      <td>1.0</td>\n",
       "      <td>0.0</td>\n",
       "      <td>0.0</td>\n",
       "      <td>0.0</td>\n",
       "      <td>0.037969</td>\n",
       "      <td>0.0</td>\n",
       "    </tr>\n",
       "    <tr>\n",
       "      <th>std</th>\n",
       "      <td>7463.700492</td>\n",
       "      <td>7176.276661</td>\n",
       "      <td>7106.229650</td>\n",
       "      <td>3.698287</td>\n",
       "      <td>210.557434</td>\n",
       "      <td>6.980565e+04</td>\n",
       "      <td>6.663658</td>\n",
       "      <td>0.489576</td>\n",
       "      <td>1.044978</td>\n",
       "      <td>21.599170</td>\n",
       "      <td>44.520279</td>\n",
       "      <td>4.414903</td>\n",
       "      <td>0.217827</td>\n",
       "      <td>15943.303849</td>\n",
       "      <td>28.198395</td>\n",
       "      <td>11.269006</td>\n",
       "      <td>0.0</td>\n",
       "      <td>0.0</td>\n",
       "      <td>9098.847567</td>\n",
       "      <td>8984.722396</td>\n",
       "      <td>7126.424699</td>\n",
       "      <td>2583.733214</td>\n",
       "      <td>7.964257</td>\n",
       "      <td>666.434583</td>\n",
       "      <td>141.910324</td>\n",
       "      <td>4412.964304</td>\n",
       "      <td>NaN</td>\n",
       "      <td>0.0</td>\n",
       "      <td>NaN</td>\n",
       "      <td>0.0</td>\n",
       "      <td>0.0</td>\n",
       "      <td>0.0</td>\n",
       "      <td>0.0</td>\n",
       "      <td>0.191393</td>\n",
       "      <td>0.0</td>\n",
       "    </tr>\n",
       "    <tr>\n",
       "      <th>min</th>\n",
       "      <td>500.000000</td>\n",
       "      <td>500.000000</td>\n",
       "      <td>0.000000</td>\n",
       "      <td>5.420000</td>\n",
       "      <td>15.690000</td>\n",
       "      <td>4.000000e+03</td>\n",
       "      <td>0.000000</td>\n",
       "      <td>0.000000</td>\n",
       "      <td>0.000000</td>\n",
       "      <td>0.000000</td>\n",
       "      <td>0.000000</td>\n",
       "      <td>2.000000</td>\n",
       "      <td>0.000000</td>\n",
       "      <td>0.000000</td>\n",
       "      <td>0.000000</td>\n",
       "      <td>2.000000</td>\n",
       "      <td>0.0</td>\n",
       "      <td>0.0</td>\n",
       "      <td>0.000000</td>\n",
       "      <td>0.000000</td>\n",
       "      <td>0.000000</td>\n",
       "      <td>0.000000</td>\n",
       "      <td>0.000000</td>\n",
       "      <td>0.000000</td>\n",
       "      <td>0.000000</td>\n",
       "      <td>0.000000</td>\n",
       "      <td>NaN</td>\n",
       "      <td>0.0</td>\n",
       "      <td>NaN</td>\n",
       "      <td>1.0</td>\n",
       "      <td>0.0</td>\n",
       "      <td>0.0</td>\n",
       "      <td>0.0</td>\n",
       "      <td>0.000000</td>\n",
       "      <td>0.0</td>\n",
       "    </tr>\n",
       "    <tr>\n",
       "      <th>25%</th>\n",
       "      <td>5750.000000</td>\n",
       "      <td>5600.000000</td>\n",
       "      <td>5000.000000</td>\n",
       "      <td>9.450000</td>\n",
       "      <td>171.287500</td>\n",
       "      <td>4.200000e+04</td>\n",
       "      <td>7.840000</td>\n",
       "      <td>0.000000</td>\n",
       "      <td>0.000000</td>\n",
       "      <td>19.000000</td>\n",
       "      <td>0.000000</td>\n",
       "      <td>6.000000</td>\n",
       "      <td>0.000000</td>\n",
       "      <td>3770.500000</td>\n",
       "      <td>26.500000</td>\n",
       "      <td>13.000000</td>\n",
       "      <td>0.0</td>\n",
       "      <td>0.0</td>\n",
       "      <td>5670.592545</td>\n",
       "      <td>5239.857500</td>\n",
       "      <td>4800.000000</td>\n",
       "      <td>687.595000</td>\n",
       "      <td>0.000000</td>\n",
       "      <td>0.000000</td>\n",
       "      <td>0.000000</td>\n",
       "      <td>222.530000</td>\n",
       "      <td>NaN</td>\n",
       "      <td>0.0</td>\n",
       "      <td>NaN</td>\n",
       "      <td>1.0</td>\n",
       "      <td>0.0</td>\n",
       "      <td>0.0</td>\n",
       "      <td>0.0</td>\n",
       "      <td>0.000000</td>\n",
       "      <td>0.0</td>\n",
       "    </tr>\n",
       "    <tr>\n",
       "      <th>50%</th>\n",
       "      <td>10000.000000</td>\n",
       "      <td>10000.000000</td>\n",
       "      <td>9000.000000</td>\n",
       "      <td>11.860000</td>\n",
       "      <td>285.780000</td>\n",
       "      <td>6.000000e+04</td>\n",
       "      <td>13.075000</td>\n",
       "      <td>0.000000</td>\n",
       "      <td>0.000000</td>\n",
       "      <td>34.000000</td>\n",
       "      <td>90.000000</td>\n",
       "      <td>9.000000</td>\n",
       "      <td>0.000000</td>\n",
       "      <td>8876.500000</td>\n",
       "      <td>50.300000</td>\n",
       "      <td>20.000000</td>\n",
       "      <td>0.0</td>\n",
       "      <td>0.0</td>\n",
       "      <td>10042.735817</td>\n",
       "      <td>9427.845000</td>\n",
       "      <td>8000.000000</td>\n",
       "      <td>1389.230000</td>\n",
       "      <td>0.000000</td>\n",
       "      <td>0.000000</td>\n",
       "      <td>0.000000</td>\n",
       "      <td>544.700000</td>\n",
       "      <td>NaN</td>\n",
       "      <td>0.0</td>\n",
       "      <td>NaN</td>\n",
       "      <td>1.0</td>\n",
       "      <td>0.0</td>\n",
       "      <td>0.0</td>\n",
       "      <td>0.0</td>\n",
       "      <td>0.000000</td>\n",
       "      <td>0.0</td>\n",
       "    </tr>\n",
       "    <tr>\n",
       "      <th>75%</th>\n",
       "      <td>15000.000000</td>\n",
       "      <td>15000.000000</td>\n",
       "      <td>14500.000000</td>\n",
       "      <td>14.610000</td>\n",
       "      <td>440.815000</td>\n",
       "      <td>8.500000e+04</td>\n",
       "      <td>18.200000</td>\n",
       "      <td>0.000000</td>\n",
       "      <td>1.000000</td>\n",
       "      <td>51.000000</td>\n",
       "      <td>104.000000</td>\n",
       "      <td>12.000000</td>\n",
       "      <td>0.000000</td>\n",
       "      <td>16952.250000</td>\n",
       "      <td>72.800000</td>\n",
       "      <td>28.000000</td>\n",
       "      <td>0.0</td>\n",
       "      <td>0.0</td>\n",
       "      <td>16681.688450</td>\n",
       "      <td>15983.440000</td>\n",
       "      <td>14000.000000</td>\n",
       "      <td>2842.795000</td>\n",
       "      <td>0.000000</td>\n",
       "      <td>0.000000</td>\n",
       "      <td>0.000000</td>\n",
       "      <td>3193.352500</td>\n",
       "      <td>NaN</td>\n",
       "      <td>0.0</td>\n",
       "      <td>NaN</td>\n",
       "      <td>1.0</td>\n",
       "      <td>0.0</td>\n",
       "      <td>0.0</td>\n",
       "      <td>0.0</td>\n",
       "      <td>0.000000</td>\n",
       "      <td>0.0</td>\n",
       "    </tr>\n",
       "    <tr>\n",
       "      <th>max</th>\n",
       "      <td>35000.000000</td>\n",
       "      <td>35000.000000</td>\n",
       "      <td>35000.000000</td>\n",
       "      <td>24.400000</td>\n",
       "      <td>1302.690000</td>\n",
       "      <td>6.000000e+06</td>\n",
       "      <td>29.990000</td>\n",
       "      <td>11.000000</td>\n",
       "      <td>8.000000</td>\n",
       "      <td>106.000000</td>\n",
       "      <td>129.000000</td>\n",
       "      <td>44.000000</td>\n",
       "      <td>3.000000</td>\n",
       "      <td>148829.000000</td>\n",
       "      <td>99.900000</td>\n",
       "      <td>90.000000</td>\n",
       "      <td>0.0</td>\n",
       "      <td>0.0</td>\n",
       "      <td>58480.139915</td>\n",
       "      <td>58438.370000</td>\n",
       "      <td>35000.020000</td>\n",
       "      <td>23480.140000</td>\n",
       "      <td>180.200000</td>\n",
       "      <td>29623.350000</td>\n",
       "      <td>6543.040000</td>\n",
       "      <td>35596.410000</td>\n",
       "      <td>NaN</td>\n",
       "      <td>0.0</td>\n",
       "      <td>NaN</td>\n",
       "      <td>1.0</td>\n",
       "      <td>0.0</td>\n",
       "      <td>0.0</td>\n",
       "      <td>0.0</td>\n",
       "      <td>2.000000</td>\n",
       "      <td>0.0</td>\n",
       "    </tr>\n",
       "  </tbody>\n",
       "</table>\n",
       "</div>"
      ],
      "text/plain": [
       "          loan_amnt   funded_amnt  funded_amnt_inv      int_rate  \\\n",
       "count  19908.000000  19908.000000     19908.000000  19908.000000   \n",
       "mean   11353.846444  11065.763763     10500.929748     12.089717   \n",
       "std     7463.700492   7176.276661      7106.229650      3.698287   \n",
       "min      500.000000    500.000000         0.000000      5.420000   \n",
       "25%     5750.000000   5600.000000      5000.000000      9.450000   \n",
       "50%    10000.000000  10000.000000      9000.000000     11.860000   \n",
       "75%    15000.000000  15000.000000     14500.000000     14.610000   \n",
       "max    35000.000000  35000.000000     35000.000000     24.400000   \n",
       "\n",
       "        installment    annual_inc           dti   delinq_2yrs  inq_last_6mths  \\\n",
       "count  19908.000000  1.990800e+04  19908.000000  19908.000000    19908.000000   \n",
       "mean     330.614254  7.107345e+04     13.008619      0.143962        0.829466   \n",
       "std      210.557434  6.980565e+04      6.663658      0.489576        1.044978   \n",
       "min       15.690000  4.000000e+03      0.000000      0.000000        0.000000   \n",
       "25%      171.287500  4.200000e+04      7.840000      0.000000        0.000000   \n",
       "50%      285.780000  6.000000e+04     13.075000      0.000000        0.000000   \n",
       "75%      440.815000  8.500000e+04     18.200000      0.000000        1.000000   \n",
       "max     1302.690000  6.000000e+06     29.990000     11.000000        8.000000   \n",
       "\n",
       "       mths_since_last_delinq  mths_since_last_record      open_acc  \\\n",
       "count             6998.000000             1209.000000  19908.000000   \n",
       "mean                35.841097               69.354839      9.278782   \n",
       "std                 21.599170               44.520279      4.414903   \n",
       "min                  0.000000                0.000000      2.000000   \n",
       "25%                 19.000000                0.000000      6.000000   \n",
       "50%                 34.000000               90.000000      9.000000   \n",
       "75%                 51.000000              104.000000     12.000000   \n",
       "max                106.000000              129.000000     44.000000   \n",
       "\n",
       "            pub_rec      revol_bal    revol_util     total_acc  out_prncp  \\\n",
       "count  19908.000000   19908.000000  19889.000000  19908.000000    19908.0   \n",
       "mean       0.046715   13363.994826     49.424966     21.527627        0.0   \n",
       "std        0.217827   15943.303849     28.198395     11.269006        0.0   \n",
       "min        0.000000       0.000000      0.000000      2.000000        0.0   \n",
       "25%        0.000000    3770.500000     26.500000     13.000000        0.0   \n",
       "50%        0.000000    8876.500000     50.300000     20.000000        0.0   \n",
       "75%        0.000000   16952.250000     72.800000     28.000000        0.0   \n",
       "max        3.000000  148829.000000     99.900000     90.000000        0.0   \n",
       "\n",
       "       out_prncp_inv   total_pymnt  total_pymnt_inv  total_rec_prncp  \\\n",
       "count        19908.0  19908.000000     19908.000000     19908.000000   \n",
       "mean             0.0  12286.852391     11690.155107      9913.519990   \n",
       "std              0.0   9098.847567      8984.722396      7126.424699   \n",
       "min              0.0      0.000000         0.000000         0.000000   \n",
       "25%              0.0   5670.592545      5239.857500      4800.000000   \n",
       "50%              0.0  10042.735817      9427.845000      8000.000000   \n",
       "75%              0.0  16681.688450     15983.440000     14000.000000   \n",
       "max              0.0  58480.139915     58438.370000     35000.020000   \n",
       "\n",
       "       total_rec_int  total_rec_late_fee    recoveries  \\\n",
       "count   19908.000000        19908.000000  19908.000000   \n",
       "mean     2277.120129            1.489973     94.722382   \n",
       "std      2583.733214            7.964257    666.434583   \n",
       "min         0.000000            0.000000      0.000000   \n",
       "25%       687.595000            0.000000      0.000000   \n",
       "50%      1389.230000            0.000000      0.000000   \n",
       "75%      2842.795000            0.000000      0.000000   \n",
       "max     23480.140000          180.200000  29623.350000   \n",
       "\n",
       "       collection_recovery_fee  last_pymnt_amnt  next_pymnt_d  \\\n",
       "count             19908.000000     19908.000000           0.0   \n",
       "mean                 11.861625      2636.253711           NaN   \n",
       "std                 141.910324      4412.964304           NaN   \n",
       "min                   0.000000         0.000000           NaN   \n",
       "25%                   0.000000       222.530000           NaN   \n",
       "50%                   0.000000       544.700000           NaN   \n",
       "75%                   0.000000      3193.352500           NaN   \n",
       "max                6543.040000     35596.410000           NaN   \n",
       "\n",
       "       collections_12_mths_ex_med  mths_since_last_major_derog  policy_code  \\\n",
       "count                     19893.0                          0.0      19908.0   \n",
       "mean                          0.0                          NaN          1.0   \n",
       "std                           0.0                          NaN          0.0   \n",
       "min                           0.0                          NaN          1.0   \n",
       "25%                           0.0                          NaN          1.0   \n",
       "50%                           0.0                          NaN          1.0   \n",
       "75%                           0.0                          NaN          1.0   \n",
       "max                           0.0                          NaN          1.0   \n",
       "\n",
       "       acc_now_delinq  chargeoff_within_12_mths  delinq_amnt  \\\n",
       "count         19908.0                   19893.0      19908.0   \n",
       "mean              0.0                       0.0          0.0   \n",
       "std               0.0                       0.0          0.0   \n",
       "min               0.0                       0.0          0.0   \n",
       "25%               0.0                       0.0          0.0   \n",
       "50%               0.0                       0.0          0.0   \n",
       "75%               0.0                       0.0          0.0   \n",
       "max               0.0                       0.0          0.0   \n",
       "\n",
       "       pub_rec_bankruptcies  tax_liens  \n",
       "count          19595.000000    19898.0  \n",
       "mean               0.037969        0.0  \n",
       "std                0.191393        0.0  \n",
       "min                0.000000        0.0  \n",
       "25%                0.000000        0.0  \n",
       "50%                0.000000        0.0  \n",
       "75%                0.000000        0.0  \n",
       "max                2.000000        0.0  "
      ]
     },
     "execution_count": 6,
     "metadata": {},
     "output_type": "execute_result"
    }
   ],
   "source": [
    "loan_df.describe()"
   ]
  },
  {
   "cell_type": "markdown",
   "metadata": {},
   "source": [
    "### Exploratory Data Analysis - EDA\n",
    "EDA is an approach to analyzing data sets to summarize their main characteristics, often with visualizations.\n",
    "\n",
    "For categorical features, we may check:\n",
    "- Unique values in the feature.\n",
    "- Count of each category.\n",
    "- Aggregation of other continuous features for each category.\n",
    "\n",
    "For continuous features, we may check:\n",
    "- Distributions\n",
    "- Correlatins of multiple features\n",
    "\n",
    "We will demonstate EDA with two features, loan term and interest rate."
   ]
  },
  {
   "cell_type": "markdown",
   "metadata": {},
   "source": [
    "### Loan Term and Interest Rate\n",
    "\n",
    "Explore the characteristic of loan term, interest rate and relationship between them.\n",
    "\n",
    "With the help of following code cells, we find out that:\n",
    "- There are two different terms, 36 months and 60 months.\n",
    "- There are about three times more 36 months loans than 60 months loans in the dataset.\n",
    "- Interest rate is in the range of 5% to 25%. Majority of loans have interest rate between 5-17%.\n",
    "- 36 months loans have significant lower average interest rate than that of 60 months loans."
   ]
  },
  {
   "cell_type": "markdown",
   "metadata": {},
   "source": [
    "#### Loan Term"
   ]
  },
  {
   "cell_type": "code",
   "execution_count": 7,
   "metadata": {},
   "outputs": [
    {
     "data": {
      "text/plain": [
       "array(['36 months', '60 months'], dtype=object)"
      ]
     },
     "execution_count": 7,
     "metadata": {},
     "output_type": "execute_result"
    }
   ],
   "source": [
    "#Get unique values in the term feature\n",
    "loan_df.term.unique()"
   ]
  },
  {
   "cell_type": "code",
   "execution_count": 8,
   "metadata": {},
   "outputs": [
    {
     "data": {
      "text/plain": [
       "36 months    14852\n",
       "60 months     5056\n",
       "Name: term, dtype: int64"
      ]
     },
     "execution_count": 8,
     "metadata": {},
     "output_type": "execute_result"
    }
   ],
   "source": [
    "#Get counts of each term\n",
    "loan_df.term.value_counts()"
   ]
  },
  {
   "cell_type": "code",
   "execution_count": 9,
   "metadata": {
    "tags": []
   },
   "outputs": [
    {
     "data": {
      "text/plain": [
       "Text(0.5, 1.0, 'Loan Term')"
      ]
     },
     "execution_count": 9,
     "metadata": {},
     "output_type": "execute_result"
    },
    {
     "data": {
      "image/png": "[encoded data removed]",
      "text/plain": [
       "<Figure size 432x288 with 1 Axes>"
      ]
     },
     "metadata": {
      "needs_background": "light"
     },
     "output_type": "display_data"
    }
   ],
   "source": [
    "ax = sns.countplot('term',data=loan_df, order=sorted(loan_df.term.unique()))\n",
    "ax.set_title('Loan Term')"
   ]
  },
  {
   "cell_type": "markdown",
   "metadata": {},
   "source": [
    "#### Interest Rate"
   ]
  },
  {
   "cell_type": "code",
   "execution_count": 10,
   "metadata": {},
   "outputs": [
    {
     "data": {
      "text/plain": [
       "<AxesSubplot:>"
      ]
     },
     "execution_count": 10,
     "metadata": {},
     "output_type": "execute_result"
    },
    {
     "data": {
      "image/png": "[encoded data removed]",
      "text/plain": [
       "<Figure size 432x288 with 1 Axes>"
      ]
     },
     "metadata": {
      "needs_background": "light"
     },
     "output_type": "display_data"
    }
   ],
   "source": [
    "loan_df.int_rate.hist(edgecolor='black', alpha=0.5)"
   ]
  },
  {
   "cell_type": "markdown",
   "metadata": {},
   "source": [
    "#### Average Interest Rate of Different Terms"
   ]
  },
  {
   "cell_type": "code",
   "execution_count": 11,
   "metadata": {},
   "outputs": [
    {
     "data": {
      "text/html": [
       "<div>\n",
       "<style scoped>\n",
       "    .dataframe tbody tr th:only-of-type {\n",
       "        vertical-align: middle;\n",
       "    }\n",
       "\n",
       "    .dataframe tbody tr th {\n",
       "        vertical-align: top;\n",
       "    }\n",
       "\n",
       "    .dataframe thead th {\n",
       "        text-align: right;\n",
       "    }\n",
       "</style>\n",
       "<table border=\"1\" class=\"dataframe\">\n",
       "  <thead>\n",
       "    <tr style=\"text-align: right;\">\n",
       "      <th></th>\n",
       "      <th>int_rate</th>\n",
       "    </tr>\n",
       "    <tr>\n",
       "      <th>term</th>\n",
       "      <th></th>\n",
       "    </tr>\n",
       "  </thead>\n",
       "  <tbody>\n",
       "    <tr>\n",
       "      <th>36 months</th>\n",
       "      <td>11.121125</td>\n",
       "    </tr>\n",
       "    <tr>\n",
       "      <th>60 months</th>\n",
       "      <td>14.934955</td>\n",
       "    </tr>\n",
       "  </tbody>\n",
       "</table>\n",
       "</div>"
      ],
      "text/plain": [
       "            int_rate\n",
       "term                \n",
       "36 months  11.121125\n",
       "60 months  14.934955"
      ]
     },
     "execution_count": 11,
     "metadata": {},
     "output_type": "execute_result"
    }
   ],
   "source": [
    "loan_df.groupby('term').agg({'int_rate':'mean'})"
   ]
  },
  {
   "cell_type": "code",
   "execution_count": 12,
   "metadata": {},
   "outputs": [
    {
     "data": {
      "text/plain": [
       "Text(0, 0.5, 'Loan Term')"
      ]
     },
     "execution_count": 12,
     "metadata": {},
     "output_type": "execute_result"
    },
    {
     "data": {
      "image/png": "[encoded data removed]",
      "text/plain": [
       "<Figure size 720x360 with 1 Axes>"
      ]
     },
     "metadata": {
      "needs_background": "light"
     },
     "output_type": "display_data"
    }
   ],
   "source": [
    "ax = loan_df.groupby('term').agg({'int_rate':'mean'}).plot.bar(legend = False, figsize = (10,5))\n",
    "ax.set_title('Loan Term and Interest Rate')\n",
    "ax.set_ylabel('Loan Term')"
   ]
  },
  {
   "cell_type": "markdown",
   "metadata": {},
   "source": [
    "### Task 1.4: Loan Grade\n",
    "How many different loan grades there are in the dataset?\n",
    "\n",
    "- grade is a categorical feature, you may use value_counts() to check counts of each categories.\n",
    "- A Seaborn countplot is a good way to visualize categorical features.\n",
    "- Plot a bar chart(with seaborn countplot) for grade. X axis is the loan grade and y axis is the count of loans. To sort the loan grade you may set `order=sorted(loan_df.grade.unique())` in the countplot."
   ]
  },
  {
   "cell_type": "markdown",
   "metadata": {},
   "source": [
    "#### Your Code"
   ]
  },
  {
   "cell_type": "code",
   "execution_count": 13,
   "metadata": {
    "scrolled": true
   },
   "outputs": [
    {
     "data": {
      "text/plain": [
       "B    6065\n",
       "A    4875\n",
       "C    4087\n",
       "D    2748\n",
       "E    1434\n",
       "F     540\n",
       "G     159\n",
       "Name: grade, dtype: int64"
      ]
     },
     "execution_count": 13,
     "metadata": {},
     "output_type": "execute_result"
    }
   ],
   "source": [
    "loan_df.grade.value_counts()"
   ]
  },
  {
   "cell_type": "code",
   "execution_count": 14,
   "metadata": {},
   "outputs": [
    {
     "data": {
      "text/plain": [
       "<AxesSubplot:xlabel='grade', ylabel='count'>"
      ]
     },
     "execution_count": 14,
     "metadata": {},
     "output_type": "execute_result"
    },
    {
     "data": {
      "image/png": "[encoded data removed]",
      "text/plain": [
       "<Figure size 720x360 with 1 Axes>"
      ]
     },
     "metadata": {
      "needs_background": "light"
     },
     "output_type": "display_data"
    }
   ],
   "source": [
    "fig = plt.subplots(figsize = (10,5))\n",
    "sns.countplot('grade',data=loan_df, order=sorted(loan_df.grade.unique()))\n"
   ]
  },
  {
   "cell_type": "markdown",
   "metadata": {},
   "source": [
    "### Task 1.5: Loan Grade and Interest Rate\n",
    "\n",
    "Explore the relationship between loan grade and interest rate.\n",
    "\n",
    "- Get average interest rate for each loan grade.\n",
    " - Group by grade column.\n",
    " - Apply aggregate function mean on int_rate column.\n",
    "- Visualize the averate interest rate of each loan grade with a bar chart. Make sure the plot has proper labels and title.\n",
    "- Discuss the relationship briefly\n",
    "\n",
    "**Hint**: You can directly plot a bar chart on an aggregated groupby object. ie. `ax = df.groupby(...).agg(...).plot.bar()`"
   ]
  },
  {
   "cell_type": "markdown",
   "metadata": {},
   "source": [
    "#### Your Code"
   ]
  },
  {
   "cell_type": "code",
   "execution_count": 15,
   "metadata": {},
   "outputs": [
    {
     "data": {
      "text/plain": [
       "<AxesSubplot:title={'center':'Average Interest rate for each loan grade'}, xlabel='grade', ylabel='averages'>"
      ]
     },
     "execution_count": 15,
     "metadata": {},
     "output_type": "execute_result"
    },
    {
     "data": {
      "image/png": "[encoded data removed]",
      "text/plain": [
       "<Figure size 1080x360 with 1 Axes>"
      ]
     },
     "metadata": {
      "needs_background": "light"
     },
     "output_type": "display_data"
    }
   ],
   "source": [
    "#fig, ax = plt.subplots(figsize = (10,5))\n",
    "loan_df.groupby('grade').agg({'int_rate':'mean'}).plot.bar(figsize = (15,5), title = 'Average Interest rate for each loan grade',\n",
    "                                                          ylabel = 'averages', legend = False)"
   ]
  },
  {
   "cell_type": "markdown",
   "metadata": {},
   "source": [
    "### Task 1.6: Loan by State\n",
    "\n",
    "There are loans from six States in the dataset. Please explore the count of loans in each state via visualization.\n",
    "\n",
    "- Visualize loan counts in each State. Make sure the plot has proper labels and title. (Hint: if you use seaborn countplot you may sort the bars with `order=loan_df.addr_state.value_counts().index`)\n",
    "- Discuss the result briefly\n"
   ]
  },
  {
   "cell_type": "markdown",
   "metadata": {},
   "source": [
    "#### Your Code"
   ]
  },
  {
   "cell_type": "code",
   "execution_count": 16,
   "metadata": {
    "tags": []
   },
   "outputs": [
    {
     "data": {
      "text/plain": [
       "<AxesSubplot:xlabel='addr_state', ylabel='count'>"
      ]
     },
     "execution_count": 16,
     "metadata": {},
     "output_type": "execute_result"
    },
    {
     "data": {
      "image/png": "[encoded data removed]",
      "text/plain": [
       "<Figure size 720x360 with 1 Axes>"
      ]
     },
     "metadata": {
      "needs_background": "light"
     },
     "output_type": "display_data"
    }
   ],
   "source": [
    "fig = plt.subplots(figsize = (10,5))\n",
    "sns.countplot('addr_state',data=loan_df, order=loan_df.addr_state.value_counts().index)"
   ]
  },
  {
   "cell_type": "markdown",
   "metadata": {
    "tags": []
   },
   "source": [
    "\n",
    "### Task 1.7: Borrowers Annual Income Distribution\n",
    "\n",
    "- Plot a histogram of all borrower's annual income.\n",
    "- Plot another histogram of annual income that is less than $250,000. \n",
    "- Compare the plots and discuss briefly.\n",
    "\n",
    "**Hint**: You may select loans by annual income with boolean mask, ie. `loan_df[loan_df.annual_inc<250000]`"
   ]
  },
  {
   "cell_type": "markdown",
   "metadata": {},
   "source": [
    "#### Your Code"
   ]
  },
  {
   "cell_type": "code",
   "execution_count": 17,
   "metadata": {},
   "outputs": [
    {
     "data": {
      "text/plain": [
       "<AxesSubplot:xlabel='annual_inc', ylabel='Count'>"
      ]
     },
     "execution_count": 17,
     "metadata": {},
     "output_type": "execute_result"
    },
    {
     "data": {
      "image/png": "[encoded data removed]",
      "text/plain": [
       "<Figure size 720x360 with 1 Axes>"
      ]
     },
     "metadata": {
      "needs_background": "light"
     },
     "output_type": "display_data"
    }
   ],
   "source": [
    "fig, ax = plt.subplots(figsize = (10,5))\n",
    "sns.histplot(data = loan_df, x = 'annual_inc', bins = 50, stat = 'count', ax=ax)"
   ]
  },
  {
   "cell_type": "code",
   "execution_count": 18,
   "metadata": {},
   "outputs": [
    {
     "data": {
      "text/plain": [
       "<AxesSubplot:xlabel='annual_inc', ylabel='Count'>"
      ]
     },
     "execution_count": 18,
     "metadata": {},
     "output_type": "execute_result"
    },
    {
     "data": {
      "image/png": "[encoded data removed]",
      "text/plain": [
       "<Figure size 720x360 with 1 Axes>"
      ]
     },
     "metadata": {
      "needs_background": "light"
     },
     "output_type": "display_data"
    }
   ],
   "source": [
    "#sns.histplot(data = loan_df, x = loan_df.loc(annual_inc<250000))\n",
    "fig, ax = plt.subplots(figsize = (10,5))\n",
    "\n",
    "dn = loan_df[loan_df.annual_inc<250000]\n",
    "sns.histplot(data = dn, x = 'annual_inc', stat = 'count', binwidth = 10000, ax=ax)"
   ]
  },
  {
   "cell_type": "code",
   "execution_count": 19,
   "metadata": {},
   "outputs": [
    {
     "data": {
      "text/plain": [
       "[Text(0.5, 1.0, 'Histogram of annual income > 25000')]"
      ]
     },
     "execution_count": 19,
     "metadata": {},
     "output_type": "execute_result"
    },
    {
     "data": {
      "image/png": "[encoded data removed]",
      "text/plain": [
       "<Figure size 1080x432 with 2 Axes>"
      ]
     },
     "metadata": {
      "needs_background": "light"
     },
     "output_type": "display_data"
    }
   ],
   "source": [
    "fig, (ax1,ax2) = plt.subplots(1, 2, figsize = (15,6), sharey = True)\n",
    "#ax1.hist(x = loan_df.annual_inc, bins = 10)\n",
    "sns.histplot(data = loan_df, x = 'annual_inc', binwidth = 1000000, stat = 'count', ax=ax1)\n",
    "sns.histplot(data = dn, x = 'annual_inc', stat = 'count', binwidth = 10000, ax=ax2)\n",
    "\n",
    "ax1.set(title = 'Histogram of all annual income')\n",
    "ax2.set(title = 'Histogram of annual income > 25000')"
   ]
  },
  {
   "cell_type": "markdown",
   "metadata": {},
   "source": [
    "### Task 1.8: Borrower Annual Income by State\n",
    "\n",
    "- Viusalize **median** income of borrowers from each state with a bar chart.\n",
    " - Group by addr_state column.\n",
    " - Apply aggregate function median on annual_inc column.\n",
    "\n",
    "- Discuss the result briefly\n",
    "\n",
    "**Hint**: You can directly plot a bar chart on an aggregated groupby object. ie. `ax = df.groupby(...).agg(...).plot.bar()`"
   ]
  },
  {
   "cell_type": "markdown",
   "metadata": {},
   "source": [
    "#### Your Code"
   ]
  },
  {
   "cell_type": "code",
   "execution_count": 20,
   "metadata": {},
   "outputs": [
    {
     "data": {
      "text/plain": [
       "<AxesSubplot:xlabel='addr_state'>"
      ]
     },
     "execution_count": 20,
     "metadata": {},
     "output_type": "execute_result"
    },
    {
     "data": {
      "image/png": "[encoded data removed]",
      "text/plain": [
       "<Figure size 936x432 with 1 Axes>"
      ]
     },
     "metadata": {
      "needs_background": "light"
     },
     "output_type": "display_data"
    }
   ],
   "source": [
    "loan_df.groupby('addr_state').agg({'annual_inc':'median'}).plot(kind = 'bar', figsize = (13,6))"
   ]
  },
  {
   "cell_type": "markdown",
   "metadata": {},
   "source": [
    "### Task 1.9: Annual Income and Interest Rate\n",
    "\n",
    "- Plot a scatter plot on annual income and interest rate\n",
    "- Plot another scatter plot with annual income less than $300,000\n",
    "- Discuss the result briefly, does the scatter plot reveal any correlation between annual income and interest rate?"
   ]
  },
  {
   "cell_type": "markdown",
   "metadata": {},
   "source": [
    "#### Your Code"
   ]
  },
  {
   "cell_type": "code",
   "execution_count": 21,
   "metadata": {
    "tags": []
   },
   "outputs": [
    {
     "data": {
      "text/plain": [
       "<AxesSubplot:xlabel='annual_inc', ylabel='int_rate'>"
      ]
     },
     "execution_count": 21,
     "metadata": {},
     "output_type": "execute_result"
    },
    {
     "data": {
      "image/png": "[encoded data removed]",
      "text/plain": [
       "<Figure size 864x432 with 1 Axes>"
      ]
     },
     "metadata": {
      "needs_background": "light"
     },
     "output_type": "display_data"
    }
   ],
   "source": [
    "fig, ax = plt.subplots(figsize = (12,6))\n",
    "#sns.lmplot(data = loan_df, x = 'annual_inc', y = 'int_rate', ax = ax)\n",
    "sns.regplot(data = loan_df, x = 'annual_inc', y = 'int_rate' , ci = False, ax=ax)"
   ]
  },
  {
   "cell_type": "code",
   "execution_count": 22,
   "metadata": {},
   "outputs": [
    {
     "data": {
      "text/plain": [
       "<AxesSubplot:xlabel='annual_inc', ylabel='int_rate'>"
      ]
     },
     "execution_count": 22,
     "metadata": {},
     "output_type": "execute_result"
    },
    {
     "data": {
      "image/png": "[encoded data removed]",
      "text/plain": [
       "<Figure size 864x432 with 1 Axes>"
      ]
     },
     "metadata": {
      "needs_background": "light"
     },
     "output_type": "display_data"
    }
   ],
   "source": [
    "dx = loan_df[loan_df.annual_inc<300000]\n",
    "fig, ax = plt.subplots(figsize = (12,6))\n",
    "sns.scatterplot(data=dx, x = 'annual_inc', y = 'int_rate', ax=ax)"
   ]
  },
  {
   "cell_type": "markdown",
   "metadata": {},
   "source": [
    "### Task 1.10: Convert Date Column\n",
    "\n",
    "- Convert the **issue_d** column to a datetime type\n",
    "- Create a new column, **issue_year**, and set it to the year a loan is issued\n",
    "- Display the first five rows"
   ]
  },
  {
   "cell_type": "markdown",
   "metadata": {},
   "source": [
    "#### Your Code"
   ]
  },
  {
   "cell_type": "code",
   "execution_count": 23,
   "metadata": {
    "scrolled": true
   },
   "outputs": [
    {
     "data": {
      "text/html": [
       "<div>\n",
       "<style scoped>\n",
       "    .dataframe tbody tr th:only-of-type {\n",
       "        vertical-align: middle;\n",
       "    }\n",
       "\n",
       "    .dataframe tbody tr th {\n",
       "        vertical-align: top;\n",
       "    }\n",
       "\n",
       "    .dataframe thead th {\n",
       "        text-align: right;\n",
       "    }\n",
       "</style>\n",
       "<table border=\"1\" class=\"dataframe\">\n",
       "  <thead>\n",
       "    <tr style=\"text-align: right;\">\n",
       "      <th></th>\n",
       "      <th>loan_amnt</th>\n",
       "      <th>funded_amnt</th>\n",
       "      <th>funded_amnt_inv</th>\n",
       "      <th>term</th>\n",
       "      <th>int_rate</th>\n",
       "      <th>installment</th>\n",
       "      <th>grade</th>\n",
       "      <th>sub_grade</th>\n",
       "      <th>emp_title</th>\n",
       "      <th>emp_length</th>\n",
       "      <th>home_ownership</th>\n",
       "      <th>annual_inc</th>\n",
       "      <th>verification_status</th>\n",
       "      <th>issue_d</th>\n",
       "      <th>loan_status</th>\n",
       "      <th>pymnt_plan</th>\n",
       "      <th>purpose</th>\n",
       "      <th>title</th>\n",
       "      <th>zip_code</th>\n",
       "      <th>addr_state</th>\n",
       "      <th>dti</th>\n",
       "      <th>delinq_2yrs</th>\n",
       "      <th>earliest_cr_line</th>\n",
       "      <th>inq_last_6mths</th>\n",
       "      <th>mths_since_last_delinq</th>\n",
       "      <th>mths_since_last_record</th>\n",
       "      <th>open_acc</th>\n",
       "      <th>pub_rec</th>\n",
       "      <th>revol_bal</th>\n",
       "      <th>revol_util</th>\n",
       "      <th>total_acc</th>\n",
       "      <th>initial_list_status</th>\n",
       "      <th>out_prncp</th>\n",
       "      <th>out_prncp_inv</th>\n",
       "      <th>total_pymnt</th>\n",
       "      <th>total_pymnt_inv</th>\n",
       "      <th>total_rec_prncp</th>\n",
       "      <th>total_rec_int</th>\n",
       "      <th>total_rec_late_fee</th>\n",
       "      <th>recoveries</th>\n",
       "      <th>collection_recovery_fee</th>\n",
       "      <th>last_pymnt_d</th>\n",
       "      <th>last_pymnt_amnt</th>\n",
       "      <th>next_pymnt_d</th>\n",
       "      <th>last_credit_pull_d</th>\n",
       "      <th>collections_12_mths_ex_med</th>\n",
       "      <th>mths_since_last_major_derog</th>\n",
       "      <th>policy_code</th>\n",
       "      <th>application_type</th>\n",
       "      <th>acc_now_delinq</th>\n",
       "      <th>chargeoff_within_12_mths</th>\n",
       "      <th>delinq_amnt</th>\n",
       "      <th>pub_rec_bankruptcies</th>\n",
       "      <th>tax_liens</th>\n",
       "      <th>hardship_flag</th>\n",
       "      <th>disbursement_method</th>\n",
       "      <th>debt_settlement_flag</th>\n",
       "      <th>debt_settlement_flag_date</th>\n",
       "      <th>issue_year</th>\n",
       "    </tr>\n",
       "  </thead>\n",
       "  <tbody>\n",
       "    <tr>\n",
       "      <th>0</th>\n",
       "      <td>2400</td>\n",
       "      <td>2400</td>\n",
       "      <td>2400.0</td>\n",
       "      <td>36 months</td>\n",
       "      <td>15.96</td>\n",
       "      <td>84.33</td>\n",
       "      <td>C</td>\n",
       "      <td>C5</td>\n",
       "      <td>NaN</td>\n",
       "      <td>10+ years</td>\n",
       "      <td>RENT</td>\n",
       "      <td>12252.0</td>\n",
       "      <td>Not Verified</td>\n",
       "      <td>2011-12-01</td>\n",
       "      <td>Fully Paid</td>\n",
       "      <td>n</td>\n",
       "      <td>small_business</td>\n",
       "      <td>real estate business</td>\n",
       "      <td>606xx</td>\n",
       "      <td>IL</td>\n",
       "      <td>8.72</td>\n",
       "      <td>0.0</td>\n",
       "      <td>Nov-2001</td>\n",
       "      <td>2.0</td>\n",
       "      <td>NaN</td>\n",
       "      <td>NaN</td>\n",
       "      <td>2.0</td>\n",
       "      <td>0.0</td>\n",
       "      <td>2956</td>\n",
       "      <td>98.5</td>\n",
       "      <td>10.0</td>\n",
       "      <td>f</td>\n",
       "      <td>0.0</td>\n",
       "      <td>0.0</td>\n",
       "      <td>3005.666844</td>\n",
       "      <td>3005.67</td>\n",
       "      <td>2400.00</td>\n",
       "      <td>605.67</td>\n",
       "      <td>0.00</td>\n",
       "      <td>0.00</td>\n",
       "      <td>0.00</td>\n",
       "      <td>Jun-2014</td>\n",
       "      <td>649.91</td>\n",
       "      <td>NaN</td>\n",
       "      <td>Jun-2017</td>\n",
       "      <td>0.0</td>\n",
       "      <td>NaN</td>\n",
       "      <td>1</td>\n",
       "      <td>Individual</td>\n",
       "      <td>0.0</td>\n",
       "      <td>0.0</td>\n",
       "      <td>0.0</td>\n",
       "      <td>0.0</td>\n",
       "      <td>0.0</td>\n",
       "      <td>N</td>\n",
       "      <td>Cash</td>\n",
       "      <td>N</td>\n",
       "      <td>NaN</td>\n",
       "      <td>2011</td>\n",
       "    </tr>\n",
       "    <tr>\n",
       "      <th>1</th>\n",
       "      <td>10000</td>\n",
       "      <td>10000</td>\n",
       "      <td>10000.0</td>\n",
       "      <td>36 months</td>\n",
       "      <td>13.49</td>\n",
       "      <td>339.31</td>\n",
       "      <td>C</td>\n",
       "      <td>C1</td>\n",
       "      <td>AIR RESOURCES BOARD</td>\n",
       "      <td>10+ years</td>\n",
       "      <td>RENT</td>\n",
       "      <td>49200.0</td>\n",
       "      <td>Source Verified</td>\n",
       "      <td>2011-12-01</td>\n",
       "      <td>Fully Paid</td>\n",
       "      <td>n</td>\n",
       "      <td>other</td>\n",
       "      <td>personel</td>\n",
       "      <td>917xx</td>\n",
       "      <td>CA</td>\n",
       "      <td>20.00</td>\n",
       "      <td>0.0</td>\n",
       "      <td>Feb-1996</td>\n",
       "      <td>1.0</td>\n",
       "      <td>35.0</td>\n",
       "      <td>NaN</td>\n",
       "      <td>10.0</td>\n",
       "      <td>0.0</td>\n",
       "      <td>5598</td>\n",
       "      <td>21.0</td>\n",
       "      <td>37.0</td>\n",
       "      <td>f</td>\n",
       "      <td>0.0</td>\n",
       "      <td>0.0</td>\n",
       "      <td>12231.890000</td>\n",
       "      <td>12231.89</td>\n",
       "      <td>10000.00</td>\n",
       "      <td>2214.92</td>\n",
       "      <td>16.97</td>\n",
       "      <td>0.00</td>\n",
       "      <td>0.00</td>\n",
       "      <td>Jan-2015</td>\n",
       "      <td>357.48</td>\n",
       "      <td>NaN</td>\n",
       "      <td>Apr-2016</td>\n",
       "      <td>0.0</td>\n",
       "      <td>NaN</td>\n",
       "      <td>1</td>\n",
       "      <td>Individual</td>\n",
       "      <td>0.0</td>\n",
       "      <td>0.0</td>\n",
       "      <td>0.0</td>\n",
       "      <td>0.0</td>\n",
       "      <td>0.0</td>\n",
       "      <td>N</td>\n",
       "      <td>Cash</td>\n",
       "      <td>N</td>\n",
       "      <td>NaN</td>\n",
       "      <td>2011</td>\n",
       "    </tr>\n",
       "    <tr>\n",
       "      <th>2</th>\n",
       "      <td>3000</td>\n",
       "      <td>3000</td>\n",
       "      <td>3000.0</td>\n",
       "      <td>36 months</td>\n",
       "      <td>18.64</td>\n",
       "      <td>109.43</td>\n",
       "      <td>E</td>\n",
       "      <td>E1</td>\n",
       "      <td>MKC Accounting</td>\n",
       "      <td>9 years</td>\n",
       "      <td>RENT</td>\n",
       "      <td>48000.0</td>\n",
       "      <td>Source Verified</td>\n",
       "      <td>2011-12-01</td>\n",
       "      <td>Fully Paid</td>\n",
       "      <td>n</td>\n",
       "      <td>car</td>\n",
       "      <td>Car Downpayment</td>\n",
       "      <td>900xx</td>\n",
       "      <td>CA</td>\n",
       "      <td>5.35</td>\n",
       "      <td>0.0</td>\n",
       "      <td>Jan-2007</td>\n",
       "      <td>2.0</td>\n",
       "      <td>NaN</td>\n",
       "      <td>NaN</td>\n",
       "      <td>4.0</td>\n",
       "      <td>0.0</td>\n",
       "      <td>8221</td>\n",
       "      <td>87.5</td>\n",
       "      <td>4.0</td>\n",
       "      <td>f</td>\n",
       "      <td>0.0</td>\n",
       "      <td>0.0</td>\n",
       "      <td>3939.135294</td>\n",
       "      <td>3939.14</td>\n",
       "      <td>3000.00</td>\n",
       "      <td>939.14</td>\n",
       "      <td>0.00</td>\n",
       "      <td>0.00</td>\n",
       "      <td>0.00</td>\n",
       "      <td>Jan-2015</td>\n",
       "      <td>111.34</td>\n",
       "      <td>NaN</td>\n",
       "      <td>Dec-2014</td>\n",
       "      <td>0.0</td>\n",
       "      <td>NaN</td>\n",
       "      <td>1</td>\n",
       "      <td>Individual</td>\n",
       "      <td>0.0</td>\n",
       "      <td>0.0</td>\n",
       "      <td>0.0</td>\n",
       "      <td>0.0</td>\n",
       "      <td>0.0</td>\n",
       "      <td>N</td>\n",
       "      <td>Cash</td>\n",
       "      <td>N</td>\n",
       "      <td>NaN</td>\n",
       "      <td>2011</td>\n",
       "    </tr>\n",
       "    <tr>\n",
       "      <th>3</th>\n",
       "      <td>5600</td>\n",
       "      <td>5600</td>\n",
       "      <td>5600.0</td>\n",
       "      <td>60 months</td>\n",
       "      <td>21.28</td>\n",
       "      <td>152.39</td>\n",
       "      <td>F</td>\n",
       "      <td>F2</td>\n",
       "      <td>NaN</td>\n",
       "      <td>4 years</td>\n",
       "      <td>OWN</td>\n",
       "      <td>40000.0</td>\n",
       "      <td>Source Verified</td>\n",
       "      <td>2011-12-01</td>\n",
       "      <td>Charged Off</td>\n",
       "      <td>n</td>\n",
       "      <td>small_business</td>\n",
       "      <td>Expand Business &amp; Buy Debt Portfolio</td>\n",
       "      <td>958xx</td>\n",
       "      <td>CA</td>\n",
       "      <td>5.55</td>\n",
       "      <td>0.0</td>\n",
       "      <td>Apr-2004</td>\n",
       "      <td>2.0</td>\n",
       "      <td>NaN</td>\n",
       "      <td>NaN</td>\n",
       "      <td>11.0</td>\n",
       "      <td>0.0</td>\n",
       "      <td>5210</td>\n",
       "      <td>32.6</td>\n",
       "      <td>13.0</td>\n",
       "      <td>f</td>\n",
       "      <td>0.0</td>\n",
       "      <td>0.0</td>\n",
       "      <td>647.500000</td>\n",
       "      <td>647.50</td>\n",
       "      <td>162.02</td>\n",
       "      <td>294.94</td>\n",
       "      <td>0.00</td>\n",
       "      <td>190.54</td>\n",
       "      <td>2.09</td>\n",
       "      <td>Apr-2012</td>\n",
       "      <td>152.39</td>\n",
       "      <td>NaN</td>\n",
       "      <td>Oct-2016</td>\n",
       "      <td>0.0</td>\n",
       "      <td>NaN</td>\n",
       "      <td>1</td>\n",
       "      <td>Individual</td>\n",
       "      <td>0.0</td>\n",
       "      <td>0.0</td>\n",
       "      <td>0.0</td>\n",
       "      <td>0.0</td>\n",
       "      <td>0.0</td>\n",
       "      <td>N</td>\n",
       "      <td>Cash</td>\n",
       "      <td>N</td>\n",
       "      <td>NaN</td>\n",
       "      <td>2011</td>\n",
       "    </tr>\n",
       "    <tr>\n",
       "      <th>4</th>\n",
       "      <td>5375</td>\n",
       "      <td>5375</td>\n",
       "      <td>5350.0</td>\n",
       "      <td>60 months</td>\n",
       "      <td>12.69</td>\n",
       "      <td>121.45</td>\n",
       "      <td>B</td>\n",
       "      <td>B5</td>\n",
       "      <td>Starbucks</td>\n",
       "      <td>&lt; 1 year</td>\n",
       "      <td>RENT</td>\n",
       "      <td>15000.0</td>\n",
       "      <td>Verified</td>\n",
       "      <td>2011-12-01</td>\n",
       "      <td>Charged Off</td>\n",
       "      <td>n</td>\n",
       "      <td>other</td>\n",
       "      <td>Building my credit history.</td>\n",
       "      <td>774xx</td>\n",
       "      <td>TX</td>\n",
       "      <td>18.08</td>\n",
       "      <td>0.0</td>\n",
       "      <td>Sep-2004</td>\n",
       "      <td>0.0</td>\n",
       "      <td>NaN</td>\n",
       "      <td>NaN</td>\n",
       "      <td>2.0</td>\n",
       "      <td>0.0</td>\n",
       "      <td>9279</td>\n",
       "      <td>36.5</td>\n",
       "      <td>3.0</td>\n",
       "      <td>f</td>\n",
       "      <td>0.0</td>\n",
       "      <td>0.0</td>\n",
       "      <td>1484.590000</td>\n",
       "      <td>1477.70</td>\n",
       "      <td>673.48</td>\n",
       "      <td>533.42</td>\n",
       "      <td>0.00</td>\n",
       "      <td>277.69</td>\n",
       "      <td>2.52</td>\n",
       "      <td>Nov-2012</td>\n",
       "      <td>121.45</td>\n",
       "      <td>NaN</td>\n",
       "      <td>Dec-2016</td>\n",
       "      <td>0.0</td>\n",
       "      <td>NaN</td>\n",
       "      <td>1</td>\n",
       "      <td>Individual</td>\n",
       "      <td>0.0</td>\n",
       "      <td>0.0</td>\n",
       "      <td>0.0</td>\n",
       "      <td>0.0</td>\n",
       "      <td>0.0</td>\n",
       "      <td>N</td>\n",
       "      <td>Cash</td>\n",
       "      <td>N</td>\n",
       "      <td>NaN</td>\n",
       "      <td>2011</td>\n",
       "    </tr>\n",
       "  </tbody>\n",
       "</table>\n",
       "</div>"
      ],
      "text/plain": [
       "   loan_amnt  funded_amnt  funded_amnt_inv       term  int_rate  installment  \\\n",
       "0       2400         2400           2400.0  36 months     15.96        84.33   \n",
       "1      10000        10000          10000.0  36 months     13.49       339.31   \n",
       "2       3000         3000           3000.0  36 months     18.64       109.43   \n",
       "3       5600         5600           5600.0  60 months     21.28       152.39   \n",
       "4       5375         5375           5350.0  60 months     12.69       121.45   \n",
       "\n",
       "  grade sub_grade            emp_title emp_length home_ownership  annual_inc  \\\n",
       "0     C        C5                  NaN  10+ years           RENT     12252.0   \n",
       "1     C        C1  AIR RESOURCES BOARD  10+ years           RENT     49200.0   \n",
       "2     E        E1      MKC Accounting     9 years           RENT     48000.0   \n",
       "3     F        F2                  NaN    4 years            OWN     40000.0   \n",
       "4     B        B5            Starbucks   < 1 year           RENT     15000.0   \n",
       "\n",
       "  verification_status    issue_d  loan_status pymnt_plan         purpose  \\\n",
       "0        Not Verified 2011-12-01   Fully Paid          n  small_business   \n",
       "1     Source Verified 2011-12-01   Fully Paid          n           other   \n",
       "2     Source Verified 2011-12-01   Fully Paid          n             car   \n",
       "3     Source Verified 2011-12-01  Charged Off          n  small_business   \n",
       "4            Verified 2011-12-01  Charged Off          n           other   \n",
       "\n",
       "                                  title zip_code addr_state    dti  \\\n",
       "0                  real estate business    606xx         IL   8.72   \n",
       "1                              personel    917xx         CA  20.00   \n",
       "2                       Car Downpayment    900xx         CA   5.35   \n",
       "3  Expand Business & Buy Debt Portfolio    958xx         CA   5.55   \n",
       "4           Building my credit history.    774xx         TX  18.08   \n",
       "\n",
       "   delinq_2yrs earliest_cr_line  inq_last_6mths  mths_since_last_delinq  \\\n",
       "0          0.0         Nov-2001             2.0                     NaN   \n",
       "1          0.0         Feb-1996             1.0                    35.0   \n",
       "2          0.0         Jan-2007             2.0                     NaN   \n",
       "3          0.0         Apr-2004             2.0                     NaN   \n",
       "4          0.0         Sep-2004             0.0                     NaN   \n",
       "\n",
       "   mths_since_last_record  open_acc  pub_rec  revol_bal  revol_util  \\\n",
       "0                     NaN       2.0      0.0       2956        98.5   \n",
       "1                     NaN      10.0      0.0       5598        21.0   \n",
       "2                     NaN       4.0      0.0       8221        87.5   \n",
       "3                     NaN      11.0      0.0       5210        32.6   \n",
       "4                     NaN       2.0      0.0       9279        36.5   \n",
       "\n",
       "   total_acc initial_list_status  out_prncp  out_prncp_inv   total_pymnt  \\\n",
       "0       10.0                   f        0.0            0.0   3005.666844   \n",
       "1       37.0                   f        0.0            0.0  12231.890000   \n",
       "2        4.0                   f        0.0            0.0   3939.135294   \n",
       "3       13.0                   f        0.0            0.0    647.500000   \n",
       "4        3.0                   f        0.0            0.0   1484.590000   \n",
       "\n",
       "   total_pymnt_inv  total_rec_prncp  total_rec_int  total_rec_late_fee  \\\n",
       "0          3005.67          2400.00         605.67                0.00   \n",
       "1         12231.89         10000.00        2214.92               16.97   \n",
       "2          3939.14          3000.00         939.14                0.00   \n",
       "3           647.50           162.02         294.94                0.00   \n",
       "4          1477.70           673.48         533.42                0.00   \n",
       "\n",
       "   recoveries  collection_recovery_fee last_pymnt_d  last_pymnt_amnt  \\\n",
       "0        0.00                     0.00     Jun-2014           649.91   \n",
       "1        0.00                     0.00     Jan-2015           357.48   \n",
       "2        0.00                     0.00     Jan-2015           111.34   \n",
       "3      190.54                     2.09     Apr-2012           152.39   \n",
       "4      277.69                     2.52     Nov-2012           121.45   \n",
       "\n",
       "   next_pymnt_d last_credit_pull_d  collections_12_mths_ex_med  \\\n",
       "0           NaN           Jun-2017                         0.0   \n",
       "1           NaN           Apr-2016                         0.0   \n",
       "2           NaN           Dec-2014                         0.0   \n",
       "3           NaN           Oct-2016                         0.0   \n",
       "4           NaN           Dec-2016                         0.0   \n",
       "\n",
       "   mths_since_last_major_derog  policy_code application_type  acc_now_delinq  \\\n",
       "0                          NaN            1       Individual             0.0   \n",
       "1                          NaN            1       Individual             0.0   \n",
       "2                          NaN            1       Individual             0.0   \n",
       "3                          NaN            1       Individual             0.0   \n",
       "4                          NaN            1       Individual             0.0   \n",
       "\n",
       "   chargeoff_within_12_mths  delinq_amnt  pub_rec_bankruptcies  tax_liens  \\\n",
       "0                       0.0          0.0                   0.0        0.0   \n",
       "1                       0.0          0.0                   0.0        0.0   \n",
       "2                       0.0          0.0                   0.0        0.0   \n",
       "3                       0.0          0.0                   0.0        0.0   \n",
       "4                       0.0          0.0                   0.0        0.0   \n",
       "\n",
       "  hardship_flag disbursement_method debt_settlement_flag  \\\n",
       "0             N                Cash                    N   \n",
       "1             N                Cash                    N   \n",
       "2             N                Cash                    N   \n",
       "3             N                Cash                    N   \n",
       "4             N                Cash                    N   \n",
       "\n",
       "  debt_settlement_flag_date  issue_year  \n",
       "0                       NaN        2011  \n",
       "1                       NaN        2011  \n",
       "2                       NaN        2011  \n",
       "3                       NaN        2011  \n",
       "4                       NaN        2011  "
      ]
     },
     "execution_count": 23,
     "metadata": {},
     "output_type": "execute_result"
    }
   ],
   "source": [
    "loan_df['issue_d'] = pd.to_datetime(loan_df.issue_d) \n",
    "loan_df['issue_year'] = pd.DatetimeIndex(loan_df.issue_d).year\n",
    "loan_df.head()"
   ]
  },
  {
   "cell_type": "markdown",
   "metadata": {},
   "source": [
    "### Task 1.11: Loan Issued Over Year\n",
    "\n",
    "Explore the number of loans issued through LendingClub from 2007-2011. \n",
    "- Get a count of loans in each year(Hint: groupby issue_year and apply aggregate function 'count' on any column).\n",
    "- Plot a line chart to see the trend, x axis is year, y axis is count.\n",
    "- Discuss the result briefly.\n",
    "\n",
    "**Hint**: You can directly plot a line chart on an aggregated groupby object. ie. `ax = df.groupby(...).agg(...).plot.line()`"
   ]
  },
  {
   "cell_type": "markdown",
   "metadata": {},
   "source": [
    "#### Your Code"
   ]
  },
  {
   "cell_type": "code",
   "execution_count": 24,
   "metadata": {},
   "outputs": [
    {
     "data": {
      "text/plain": [
       "<AxesSubplot:xlabel='issue_year'>"
      ]
     },
     "execution_count": 24,
     "metadata": {},
     "output_type": "execute_result"
    },
    {
     "data": {
      "image/png": "[encoded data removed]",
      "text/plain": [
       "<Figure size 720x432 with 1 Axes>"
      ]
     },
     "metadata": {
      "needs_background": "light"
     },
     "output_type": "display_data"
    }
   ],
   "source": [
    "loan_df.groupby(\"issue_year\").agg({\"funded_amnt\":\"count\"}).plot(kind = \"line\", figsize = (10,6), legend = False)"
   ]
  },
  {
   "cell_type": "markdown",
   "metadata": {},
   "source": [
    "Find the **highest median** of interest rate in the year."
   ]
  },
  {
   "cell_type": "code",
   "execution_count": 25,
   "metadata": {},
   "outputs": [
    {
     "data": {
      "text/plain": [
       "<AxesSubplot:xlabel='issue_year'>"
      ]
     },
     "execution_count": 25,
     "metadata": {},
     "output_type": "execute_result"
    },
    {
     "data": {
      "image/png": "[encoded data removed]",
      "text/plain": [
       "<Figure size 720x432 with 1 Axes>"
      ]
     },
     "metadata": {
      "needs_background": "light"
     },
     "output_type": "display_data"
    }
   ],
   "source": [
    "loan_df.groupby(\"issue_year\").agg({\"int_rate\":\"median\"}).sort_values(by = 'int_rate').plot(kind = \"bar\", figsize = (10,6), legend = False)"
   ]
  },
  {
   "cell_type": "markdown",
   "metadata": {},
   "source": [
    "### Task 1.12: Interest Rate Change\n",
    "\n",
    "Explore the interest rate change in each state over the years.\n",
    "\n",
    "- Create pivot table, set\n",
    "  - index to issue_year\n",
    "  - columns to addr_state\n",
    "  - values to int_rate\n",
    "  - aggfunc to median\n",
    "- Plot a line chart to compare median interest rate change over years of the 6 states.\n",
    "- Discuss the result briefly\n",
    "\n",
    "**Hint**: You can directly plot a line chart on a pivot table. ie. ax = df.pivot_table(...).plot.line()"
   ]
  },
  {
   "cell_type": "markdown",
   "metadata": {},
   "source": [
    "#### Your Code"
   ]
  },
  {
   "cell_type": "code",
   "execution_count": 26,
   "metadata": {},
   "outputs": [
    {
     "data": {
      "text/plain": [
       "<AxesSubplot:xlabel='issue_year'>"
      ]
     },
     "execution_count": 26,
     "metadata": {},
     "output_type": "execute_result"
    },
    {
     "data": {
      "image/png": "[encoded data removed]",
      "text/plain": [
       "<Figure size 864x432 with 1 Axes>"
      ]
     },
     "metadata": {
      "needs_background": "light"
     },
     "output_type": "display_data"
    }
   ],
   "source": [
    "loan_df.pivot_table(index='issue_year', columns='addr_state', values='int_rate', aggfunc = 'median').plot(kind = 'line', figsize = (12,6))"
   ]
  },
  {
   "cell_type": "markdown",
   "metadata": {
    "tags": []
   },
   "source": [
    "### Task 1.13: Loan Status\n",
    "\n",
    "The loans in the dataset were issued before 2011 and the longest loan term is 5 years. So all the loans are either paid off or charged off.\n",
    "\n",
    "Explore loan status and find out:\n",
    "- The number of paid off loans and charged off loans\n",
    "- Paid off rate of the whole dataset.\n",
    "\n",
    "$PaidOffRate = \\frac{FullyPaid}{Fully Paid+Charged Off}$\n"
   ]
  },
  {
   "cell_type": "markdown",
   "metadata": {},
   "source": [
    "#### Your Code"
   ]
  },
  {
   "cell_type": "code",
   "execution_count": 27,
   "metadata": {},
   "outputs": [
    {
     "data": {
      "text/plain": [
       "Fully Paid     16965\n",
       "Charged Off     2943\n",
       "Name: loan_status, dtype: int64"
      ]
     },
     "execution_count": 27,
     "metadata": {},
     "output_type": "execute_result"
    }
   ],
   "source": [
    "loan_df.loan_status.value_counts()"
   ]
  },
  {
   "cell_type": "code",
   "execution_count": 28,
   "metadata": {},
   "outputs": [
    {
     "data": {
      "text/plain": [
       "0.85"
      ]
     },
     "execution_count": 28,
     "metadata": {},
     "output_type": "execute_result"
    }
   ],
   "source": [
    "fyp = 16965\n",
    "choff = 2943\n",
    "por = fyp/(fyp+choff)\n",
    "round(por,2)\n"
   ]
  },
  {
   "cell_type": "markdown",
   "metadata": {
    "tags": []
   },
   "source": [
    "### Task 1.14: Loan Term and Loan Status\n",
    "\n",
    "Explore the payoff rate of three- and five-year loans.\n",
    "\n",
    "- Create pivot table **pt_term** out of loan_df, set\n",
    "  - index to term\n",
    "  - columns to loan_status\n",
    "  - values to int_rate(or any column since we simply count)\n",
    "  - aggfunc to count\n",
    "- Calculate the paid off rate for loans of different terms\n",
    "  - Create a new column `payoffRate` in the **pt_term** pivot table that you created. Calculate the paid off rate for each loan term with formula $payoffRate = \\frac{FullyPaid}{Fully Paid+Charged Off}$.\n",
    "- Display the pivot table.\n",
    "- Discuss the result briefly"
   ]
  },
  {
   "cell_type": "markdown",
   "metadata": {},
   "source": [
    "#### Your Code"
   ]
  },
  {
   "cell_type": "code",
   "execution_count": 29,
   "metadata": {
    "scrolled": true
   },
   "outputs": [
    {
     "data": {
      "text/html": [
       "<div>\n",
       "<style scoped>\n",
       "    .dataframe tbody tr th:only-of-type {\n",
       "        vertical-align: middle;\n",
       "    }\n",
       "\n",
       "    .dataframe tbody tr th {\n",
       "        vertical-align: top;\n",
       "    }\n",
       "\n",
       "    .dataframe thead th {\n",
       "        text-align: right;\n",
       "    }\n",
       "</style>\n",
       "<table border=\"1\" class=\"dataframe\">\n",
       "  <thead>\n",
       "    <tr style=\"text-align: right;\">\n",
       "      <th>loan_status</th>\n",
       "      <th>Charged Off</th>\n",
       "      <th>Fully Paid</th>\n",
       "      <th>payoffRate</th>\n",
       "    </tr>\n",
       "    <tr>\n",
       "      <th>term</th>\n",
       "      <th></th>\n",
       "      <th></th>\n",
       "      <th></th>\n",
       "    </tr>\n",
       "  </thead>\n",
       "  <tbody>\n",
       "    <tr>\n",
       "      <th>36 months</th>\n",
       "      <td>1728</td>\n",
       "      <td>13124</td>\n",
       "      <td>0.88</td>\n",
       "    </tr>\n",
       "    <tr>\n",
       "      <th>60 months</th>\n",
       "      <td>1215</td>\n",
       "      <td>3841</td>\n",
       "      <td>0.76</td>\n",
       "    </tr>\n",
       "  </tbody>\n",
       "</table>\n",
       "</div>"
      ],
      "text/plain": [
       "loan_status  Charged Off  Fully Paid  payoffRate\n",
       "term                                            \n",
       "36 months           1728       13124        0.88\n",
       "60 months           1215        3841        0.76"
      ]
     },
     "execution_count": 29,
     "metadata": {},
     "output_type": "execute_result"
    }
   ],
   "source": [
    "pt_term = loan_df.pivot_table(index='term', columns='loan_status', values='int_rate', aggfunc = ('count'))\n",
    "pt_term['payoffRate'] = round(pt_term['Fully Paid']/(pt_term['Fully Paid']+pt_term['Charged Off']), 2)\n",
    "pt_term"
   ]
  },
  {
   "cell_type": "markdown",
   "metadata": {},
   "source": [
    "### Task 1.15: Loan Grade and Loan Status\n",
    "\n",
    "Explore the payoff rate of different loan grade.\n",
    "\n",
    "- Create pivot table **pt_grade** out of loan_df, set\n",
    "  - index to grade\n",
    "  - columns to loan_status\n",
    "  - values to int_rate(or any column since we simply count)\n",
    "  - aggfunc to count\n",
    "- Calculate the paid off rate for loans of different grades\n",
    "  - Create a new column `payoffRate` in the **pt_grade** pivot table that you created. Calculate the paid off rate for each loan grade with formula $payoffRate = \\frac{FullyPaid}{Fully Paid+Charged Off}$.\n",
    "- Display the pivot table.\n",
    "- Discuss the result briefly"
   ]
  },
  {
   "cell_type": "code",
   "execution_count": 30,
   "metadata": {},
   "outputs": [
    {
     "data": {
      "text/html": [
       "<div>\n",
       "<style scoped>\n",
       "    .dataframe tbody tr th:only-of-type {\n",
       "        vertical-align: middle;\n",
       "    }\n",
       "\n",
       "    .dataframe tbody tr th {\n",
       "        vertical-align: top;\n",
       "    }\n",
       "\n",
       "    .dataframe thead th {\n",
       "        text-align: right;\n",
       "    }\n",
       "</style>\n",
       "<table border=\"1\" class=\"dataframe\">\n",
       "  <thead>\n",
       "    <tr style=\"text-align: right;\">\n",
       "      <th>loan_status</th>\n",
       "      <th>Charged Off</th>\n",
       "      <th>Fully Paid</th>\n",
       "      <th>payoffRate</th>\n",
       "    </tr>\n",
       "    <tr>\n",
       "      <th>grade</th>\n",
       "      <th></th>\n",
       "      <th></th>\n",
       "      <th></th>\n",
       "    </tr>\n",
       "  </thead>\n",
       "  <tbody>\n",
       "    <tr>\n",
       "      <th>A</th>\n",
       "      <td>304</td>\n",
       "      <td>4571</td>\n",
       "      <td>0.94</td>\n",
       "    </tr>\n",
       "    <tr>\n",
       "      <th>B</th>\n",
       "      <td>779</td>\n",
       "      <td>5286</td>\n",
       "      <td>0.87</td>\n",
       "    </tr>\n",
       "    <tr>\n",
       "      <th>C</th>\n",
       "      <td>672</td>\n",
       "      <td>3415</td>\n",
       "      <td>0.84</td>\n",
       "    </tr>\n",
       "    <tr>\n",
       "      <th>D</th>\n",
       "      <td>579</td>\n",
       "      <td>2169</td>\n",
       "      <td>0.79</td>\n",
       "    </tr>\n",
       "    <tr>\n",
       "      <th>E</th>\n",
       "      <td>378</td>\n",
       "      <td>1056</td>\n",
       "      <td>0.74</td>\n",
       "    </tr>\n",
       "    <tr>\n",
       "      <th>F</th>\n",
       "      <td>174</td>\n",
       "      <td>366</td>\n",
       "      <td>0.68</td>\n",
       "    </tr>\n",
       "    <tr>\n",
       "      <th>G</th>\n",
       "      <td>57</td>\n",
       "      <td>102</td>\n",
       "      <td>0.64</td>\n",
       "    </tr>\n",
       "  </tbody>\n",
       "</table>\n",
       "</div>"
      ],
      "text/plain": [
       "loan_status  Charged Off  Fully Paid  payoffRate\n",
       "grade                                           \n",
       "A                    304        4571        0.94\n",
       "B                    779        5286        0.87\n",
       "C                    672        3415        0.84\n",
       "D                    579        2169        0.79\n",
       "E                    378        1056        0.74\n",
       "F                    174         366        0.68\n",
       "G                     57         102        0.64"
      ]
     },
     "execution_count": 30,
     "metadata": {},
     "output_type": "execute_result"
    }
   ],
   "source": [
    "pt_grade = loan_df.pivot_table(index='grade', columns='loan_status', values='int_rate', aggfunc = ('count'))\n",
    "pt_grade['payoffRate'] = round(pt_grade['Fully Paid']/(pt_grade['Fully Paid']+pt_grade['Charged Off']), 2)\n",
    "pt_grade"
   ]
  },
  {
   "cell_type": "markdown",
   "metadata": {},
   "source": [
    "[Back to Top](#Table-of-Contents)\n",
    "\n",
    "## Module 2: Data Preparation, Modeling and Model Evaluation"
   ]
  },
  {
   "cell_type": "markdown",
   "metadata": {},
   "source": [
    "\n",
    "## Data Preparation\n",
    "\n",
    "Data preparation cleans up data, deals with missing values and creates new features through feature engineering."
   ]
  },
  {
   "cell_type": "markdown",
   "metadata": {},
   "source": [
    "### Loan Status\n",
    "\n",
    "The dataset has loans initiated from 2007 to 2011. All loans have been either fully paid or charged off. So we will create a 'repaid' column in loan_df by encoding loan status and map Charged Off to 0 and Fully Paid to 1. \n",
    "\n",
    "**Please make sure all above code cells are executed before moving on.**"
   ]
  },
  {
   "cell_type": "code",
   "execution_count": 31,
   "metadata": {},
   "outputs": [
    {
     "data": {
      "text/plain": [
       "Fully Paid     16965\n",
       "Charged Off     2943\n",
       "Name: loan_status, dtype: int64"
      ]
     },
     "execution_count": 31,
     "metadata": {},
     "output_type": "execute_result"
    }
   ],
   "source": [
    "loan_df.loan_status.value_counts()"
   ]
  },
  {
   "cell_type": "code",
   "execution_count": 32,
   "metadata": {},
   "outputs": [
    {
     "data": {
      "text/plain": [
       "1    16965\n",
       "0     2943\n",
       "Name: repaid, dtype: int64"
      ]
     },
     "execution_count": 32,
     "metadata": {},
     "output_type": "execute_result"
    }
   ],
   "source": [
    "mapping_dict = {'Charged Off':0, 'Fully Paid':1}\n",
    "loan_df['repaid'] = loan_df.loan_status.map(mapping_dict)\n",
    "loan_df.repaid.value_counts()"
   ]
  },
  {
   "cell_type": "markdown",
   "metadata": {},
   "source": [
    "### Paid Off Rate\n",
    "With the newly created repaid column, we can calculate paid-off rate of all the loans in the dataset with the mean value of the column, which is about 85%, as shown in the next code cell."
   ]
  },
  {
   "cell_type": "code",
   "execution_count": 33,
   "metadata": {},
   "outputs": [
    {
     "data": {
      "text/plain": [
       "0.8521699819168174"
      ]
     },
     "execution_count": 33,
     "metadata": {},
     "output_type": "execute_result"
    }
   ],
   "source": [
    "loan_df.repaid.mean()"
   ]
  },
  {
   "cell_type": "markdown",
   "metadata": {},
   "source": [
    "\n",
    "### Task 2.1: Loan Term in Year\n",
    "\n",
    "Create a new column `loan_term_year` in loan_df, which has integer value 3 if the loan term is '36 months', and 5 if the loan term is '60 months'.\n",
    "\n",
    "Then calculate repaid rate of loans with different loan_term_year. **Hint:** groupby `loan_term_year` and apply aggregate function mean on `repaid` column."
   ]
  },
  {
   "cell_type": "markdown",
   "metadata": {},
   "source": [
    "#### Your Code"
   ]
  },
  {
   "cell_type": "code",
   "execution_count": 34,
   "metadata": {},
   "outputs": [
    {
     "data": {
      "text/html": [
       "<div>\n",
       "<style scoped>\n",
       "    .dataframe tbody tr th:only-of-type {\n",
       "        vertical-align: middle;\n",
       "    }\n",
       "\n",
       "    .dataframe tbody tr th {\n",
       "        vertical-align: top;\n",
       "    }\n",
       "\n",
       "    .dataframe thead th {\n",
       "        text-align: right;\n",
       "    }\n",
       "</style>\n",
       "<table border=\"1\" class=\"dataframe\">\n",
       "  <thead>\n",
       "    <tr style=\"text-align: right;\">\n",
       "      <th></th>\n",
       "      <th>repaid</th>\n",
       "    </tr>\n",
       "    <tr>\n",
       "      <th>loan_term_year</th>\n",
       "      <th></th>\n",
       "    </tr>\n",
       "  </thead>\n",
       "  <tbody>\n",
       "    <tr>\n",
       "      <th>3</th>\n",
       "      <td>0.883652</td>\n",
       "    </tr>\n",
       "    <tr>\n",
       "      <th>5</th>\n",
       "      <td>0.759691</td>\n",
       "    </tr>\n",
       "  </tbody>\n",
       "</table>\n",
       "</div>"
      ],
      "text/plain": [
       "                  repaid\n",
       "loan_term_year          \n",
       "3               0.883652\n",
       "5               0.759691"
      ]
     },
     "execution_count": 34,
     "metadata": {},
     "output_type": "execute_result"
    }
   ],
   "source": [
    "map_dict = {'36 months': 3,'60 months':5}\n",
    "loan_df['loan_term_year'] = loan_df.term.map(map_dict) \n",
    "loan_df.groupby('loan_term_year').agg({'repaid':'mean'})"
   ]
  },
  {
   "cell_type": "markdown",
   "metadata": {},
   "source": [
    "### Task 2.2: Encode Categorical Features\n",
    "\n",
    "Explore the relationship between following categorical features and repaid.\n",
    "- purpose\n",
    "- grade\n",
    "- home_ownership\n",
    "- addr_state\n",
    "\n",
    "Then encode them with label encoding and create following new columns in loan_df.\n",
    "\n",
    "- purpose_code\n",
    "- grade_code\n",
    "- home_ownership_code\n",
    "- addr_state_code\n",
    "\n",
    "Check if there are missing values in the newly created features.\n",
    "\n",
    "We will demonstrate with purpose column.\n",
    "\n",
    "First, we check repaid rate of loans with different purpose. Loans for small business has the lowest repaid rate and loans for cars and weddings have the highest repaid rate. We also count the number of each purpose. You may count any column in the dataset, here we count issue_d column. From the result, most loans in the dataset are for debt consolidation.\n",
    "\n",
    "Then we label encode the purpose column to create purpose_code column.\n",
    "\n",
    "Please complete the similar analysis on grade, home_ownership and addr_state."
   ]
  },
  {
   "cell_type": "code",
   "execution_count": 35,
   "metadata": {},
   "outputs": [
    {
     "data": {
      "text/html": [
       "<div>\n",
       "<style scoped>\n",
       "    .dataframe tbody tr th:only-of-type {\n",
       "        vertical-align: middle;\n",
       "    }\n",
       "\n",
       "    .dataframe tbody tr th {\n",
       "        vertical-align: top;\n",
       "    }\n",
       "\n",
       "    .dataframe thead th {\n",
       "        text-align: right;\n",
       "    }\n",
       "</style>\n",
       "<table border=\"1\" class=\"dataframe\">\n",
       "  <thead>\n",
       "    <tr style=\"text-align: right;\">\n",
       "      <th></th>\n",
       "      <th>repaid</th>\n",
       "      <th>issue_d</th>\n",
       "    </tr>\n",
       "    <tr>\n",
       "      <th>purpose</th>\n",
       "      <th></th>\n",
       "      <th></th>\n",
       "    </tr>\n",
       "  </thead>\n",
       "  <tbody>\n",
       "    <tr>\n",
       "      <th>small_business</th>\n",
       "      <td>0.728177</td>\n",
       "      <td>905</td>\n",
       "    </tr>\n",
       "    <tr>\n",
       "      <th>educational</th>\n",
       "      <td>0.801242</td>\n",
       "      <td>161</td>\n",
       "    </tr>\n",
       "    <tr>\n",
       "      <th>house</th>\n",
       "      <td>0.823864</td>\n",
       "      <td>176</td>\n",
       "    </tr>\n",
       "    <tr>\n",
       "      <th>moving</th>\n",
       "      <td>0.829653</td>\n",
       "      <td>317</td>\n",
       "    </tr>\n",
       "    <tr>\n",
       "      <th>other</th>\n",
       "      <td>0.843689</td>\n",
       "      <td>2060</td>\n",
       "    </tr>\n",
       "    <tr>\n",
       "      <th>debt_consolidation</th>\n",
       "      <td>0.845670</td>\n",
       "      <td>9389</td>\n",
       "    </tr>\n",
       "    <tr>\n",
       "      <th>medical</th>\n",
       "      <td>0.854286</td>\n",
       "      <td>350</td>\n",
       "    </tr>\n",
       "    <tr>\n",
       "      <th>vacation</th>\n",
       "      <td>0.859296</td>\n",
       "      <td>199</td>\n",
       "    </tr>\n",
       "    <tr>\n",
       "      <th>renewable_energy</th>\n",
       "      <td>0.862745</td>\n",
       "      <td>51</td>\n",
       "    </tr>\n",
       "    <tr>\n",
       "      <th>home_improvement</th>\n",
       "      <td>0.875188</td>\n",
       "      <td>1330</td>\n",
       "    </tr>\n",
       "    <tr>\n",
       "      <th>credit_card</th>\n",
       "      <td>0.885757</td>\n",
       "      <td>2696</td>\n",
       "    </tr>\n",
       "    <tr>\n",
       "      <th>major_purchase</th>\n",
       "      <td>0.887405</td>\n",
       "      <td>1048</td>\n",
       "    </tr>\n",
       "    <tr>\n",
       "      <th>car</th>\n",
       "      <td>0.892285</td>\n",
       "      <td>687</td>\n",
       "    </tr>\n",
       "    <tr>\n",
       "      <th>wedding</th>\n",
       "      <td>0.894249</td>\n",
       "      <td>539</td>\n",
       "    </tr>\n",
       "  </tbody>\n",
       "</table>\n",
       "</div>"
      ],
      "text/plain": [
       "                      repaid  issue_d\n",
       "purpose                              \n",
       "small_business      0.728177      905\n",
       "educational         0.801242      161\n",
       "house               0.823864      176\n",
       "moving              0.829653      317\n",
       "other               0.843689     2060\n",
       "debt_consolidation  0.845670     9389\n",
       "medical             0.854286      350\n",
       "vacation            0.859296      199\n",
       "renewable_energy    0.862745       51\n",
       "home_improvement    0.875188     1330\n",
       "credit_card         0.885757     2696\n",
       "major_purchase      0.887405     1048\n",
       "car                 0.892285      687\n",
       "wedding             0.894249      539"
      ]
     },
     "execution_count": 35,
     "metadata": {},
     "output_type": "execute_result"
    }
   ],
   "source": [
    "#relationship between purpose and repaid rate\n",
    "loan_df.groupby('purpose').agg({'repaid':'mean', 'issue_d':'count'}).sort_values(by='repaid')"
   ]
  },
  {
   "cell_type": "code",
   "execution_count": 36,
   "metadata": {},
   "outputs": [],
   "source": [
    "#encode purpose to create purpose_code\n",
    "from sklearn.preprocessing import LabelEncoder\n",
    "\n",
    "le = LabelEncoder()\n",
    "loan_df['purpose_code'] = le.fit_transform(loan_df.purpose)"
   ]
  },
  {
   "cell_type": "markdown",
   "metadata": {},
   "source": [
    "#### Your Code"
   ]
  },
  {
   "cell_type": "code",
   "execution_count": 37,
   "metadata": {},
   "outputs": [],
   "source": [
    "loan_df['grade_code'] = le.fit_transform(loan_df.grade)\n",
    "loan_df['home_ownership_code'] = le.fit_transform(loan_df.home_ownership)\n",
    "loan_df['addr_state_code'] = le.fit_transform(loan_df.addr_state)"
   ]
  },
  {
   "cell_type": "code",
   "execution_count": 38,
   "metadata": {},
   "outputs": [
    {
     "data": {
      "text/html": [
       "<div>\n",
       "<style scoped>\n",
       "    .dataframe tbody tr th:only-of-type {\n",
       "        vertical-align: middle;\n",
       "    }\n",
       "\n",
       "    .dataframe tbody tr th {\n",
       "        vertical-align: top;\n",
       "    }\n",
       "\n",
       "    .dataframe thead th {\n",
       "        text-align: right;\n",
       "    }\n",
       "</style>\n",
       "<table border=\"1\" class=\"dataframe\">\n",
       "  <thead>\n",
       "    <tr style=\"text-align: right;\">\n",
       "      <th></th>\n",
       "      <th>loan_amnt</th>\n",
       "      <th>funded_amnt</th>\n",
       "      <th>funded_amnt_inv</th>\n",
       "      <th>term</th>\n",
       "      <th>int_rate</th>\n",
       "      <th>installment</th>\n",
       "      <th>grade</th>\n",
       "      <th>sub_grade</th>\n",
       "      <th>emp_title</th>\n",
       "      <th>emp_length</th>\n",
       "      <th>home_ownership</th>\n",
       "      <th>annual_inc</th>\n",
       "      <th>verification_status</th>\n",
       "      <th>issue_d</th>\n",
       "      <th>loan_status</th>\n",
       "      <th>pymnt_plan</th>\n",
       "      <th>purpose</th>\n",
       "      <th>title</th>\n",
       "      <th>zip_code</th>\n",
       "      <th>addr_state</th>\n",
       "      <th>dti</th>\n",
       "      <th>delinq_2yrs</th>\n",
       "      <th>earliest_cr_line</th>\n",
       "      <th>inq_last_6mths</th>\n",
       "      <th>mths_since_last_delinq</th>\n",
       "      <th>mths_since_last_record</th>\n",
       "      <th>open_acc</th>\n",
       "      <th>pub_rec</th>\n",
       "      <th>revol_bal</th>\n",
       "      <th>revol_util</th>\n",
       "      <th>total_acc</th>\n",
       "      <th>initial_list_status</th>\n",
       "      <th>out_prncp</th>\n",
       "      <th>out_prncp_inv</th>\n",
       "      <th>total_pymnt</th>\n",
       "      <th>total_pymnt_inv</th>\n",
       "      <th>total_rec_prncp</th>\n",
       "      <th>total_rec_int</th>\n",
       "      <th>total_rec_late_fee</th>\n",
       "      <th>recoveries</th>\n",
       "      <th>collection_recovery_fee</th>\n",
       "      <th>last_pymnt_d</th>\n",
       "      <th>last_pymnt_amnt</th>\n",
       "      <th>next_pymnt_d</th>\n",
       "      <th>last_credit_pull_d</th>\n",
       "      <th>collections_12_mths_ex_med</th>\n",
       "      <th>mths_since_last_major_derog</th>\n",
       "      <th>policy_code</th>\n",
       "      <th>application_type</th>\n",
       "      <th>acc_now_delinq</th>\n",
       "      <th>chargeoff_within_12_mths</th>\n",
       "      <th>delinq_amnt</th>\n",
       "      <th>pub_rec_bankruptcies</th>\n",
       "      <th>tax_liens</th>\n",
       "      <th>hardship_flag</th>\n",
       "      <th>disbursement_method</th>\n",
       "      <th>debt_settlement_flag</th>\n",
       "      <th>debt_settlement_flag_date</th>\n",
       "      <th>issue_year</th>\n",
       "      <th>repaid</th>\n",
       "      <th>loan_term_year</th>\n",
       "      <th>purpose_code</th>\n",
       "      <th>grade_code</th>\n",
       "      <th>home_ownership_code</th>\n",
       "      <th>addr_state_code</th>\n",
       "    </tr>\n",
       "  </thead>\n",
       "  <tbody>\n",
       "    <tr>\n",
       "      <th>0</th>\n",
       "      <td>2400</td>\n",
       "      <td>2400</td>\n",
       "      <td>2400.0</td>\n",
       "      <td>36 months</td>\n",
       "      <td>15.96</td>\n",
       "      <td>84.33</td>\n",
       "      <td>C</td>\n",
       "      <td>C5</td>\n",
       "      <td>NaN</td>\n",
       "      <td>10+ years</td>\n",
       "      <td>RENT</td>\n",
       "      <td>12252.0</td>\n",
       "      <td>Not Verified</td>\n",
       "      <td>2011-12-01</td>\n",
       "      <td>Fully Paid</td>\n",
       "      <td>n</td>\n",
       "      <td>small_business</td>\n",
       "      <td>real estate business</td>\n",
       "      <td>606xx</td>\n",
       "      <td>IL</td>\n",
       "      <td>8.72</td>\n",
       "      <td>0.0</td>\n",
       "      <td>Nov-2001</td>\n",
       "      <td>2.0</td>\n",
       "      <td>NaN</td>\n",
       "      <td>NaN</td>\n",
       "      <td>2.0</td>\n",
       "      <td>0.0</td>\n",
       "      <td>2956</td>\n",
       "      <td>98.5</td>\n",
       "      <td>10.0</td>\n",
       "      <td>f</td>\n",
       "      <td>0.0</td>\n",
       "      <td>0.0</td>\n",
       "      <td>3005.666844</td>\n",
       "      <td>3005.67</td>\n",
       "      <td>2400.00</td>\n",
       "      <td>605.67</td>\n",
       "      <td>0.00</td>\n",
       "      <td>0.00</td>\n",
       "      <td>0.00</td>\n",
       "      <td>Jun-2014</td>\n",
       "      <td>649.91</td>\n",
       "      <td>NaN</td>\n",
       "      <td>Jun-2017</td>\n",
       "      <td>0.0</td>\n",
       "      <td>NaN</td>\n",
       "      <td>1</td>\n",
       "      <td>Individual</td>\n",
       "      <td>0.0</td>\n",
       "      <td>0.0</td>\n",
       "      <td>0.0</td>\n",
       "      <td>0.0</td>\n",
       "      <td>0.0</td>\n",
       "      <td>N</td>\n",
       "      <td>Cash</td>\n",
       "      <td>N</td>\n",
       "      <td>NaN</td>\n",
       "      <td>2011</td>\n",
       "      <td>1</td>\n",
       "      <td>3</td>\n",
       "      <td>11</td>\n",
       "      <td>2</td>\n",
       "      <td>4</td>\n",
       "      <td>2</td>\n",
       "    </tr>\n",
       "    <tr>\n",
       "      <th>1</th>\n",
       "      <td>10000</td>\n",
       "      <td>10000</td>\n",
       "      <td>10000.0</td>\n",
       "      <td>36 months</td>\n",
       "      <td>13.49</td>\n",
       "      <td>339.31</td>\n",
       "      <td>C</td>\n",
       "      <td>C1</td>\n",
       "      <td>AIR RESOURCES BOARD</td>\n",
       "      <td>10+ years</td>\n",
       "      <td>RENT</td>\n",
       "      <td>49200.0</td>\n",
       "      <td>Source Verified</td>\n",
       "      <td>2011-12-01</td>\n",
       "      <td>Fully Paid</td>\n",
       "      <td>n</td>\n",
       "      <td>other</td>\n",
       "      <td>personel</td>\n",
       "      <td>917xx</td>\n",
       "      <td>CA</td>\n",
       "      <td>20.00</td>\n",
       "      <td>0.0</td>\n",
       "      <td>Feb-1996</td>\n",
       "      <td>1.0</td>\n",
       "      <td>35.0</td>\n",
       "      <td>NaN</td>\n",
       "      <td>10.0</td>\n",
       "      <td>0.0</td>\n",
       "      <td>5598</td>\n",
       "      <td>21.0</td>\n",
       "      <td>37.0</td>\n",
       "      <td>f</td>\n",
       "      <td>0.0</td>\n",
       "      <td>0.0</td>\n",
       "      <td>12231.890000</td>\n",
       "      <td>12231.89</td>\n",
       "      <td>10000.00</td>\n",
       "      <td>2214.92</td>\n",
       "      <td>16.97</td>\n",
       "      <td>0.00</td>\n",
       "      <td>0.00</td>\n",
       "      <td>Jan-2015</td>\n",
       "      <td>357.48</td>\n",
       "      <td>NaN</td>\n",
       "      <td>Apr-2016</td>\n",
       "      <td>0.0</td>\n",
       "      <td>NaN</td>\n",
       "      <td>1</td>\n",
       "      <td>Individual</td>\n",
       "      <td>0.0</td>\n",
       "      <td>0.0</td>\n",
       "      <td>0.0</td>\n",
       "      <td>0.0</td>\n",
       "      <td>0.0</td>\n",
       "      <td>N</td>\n",
       "      <td>Cash</td>\n",
       "      <td>N</td>\n",
       "      <td>NaN</td>\n",
       "      <td>2011</td>\n",
       "      <td>1</td>\n",
       "      <td>3</td>\n",
       "      <td>9</td>\n",
       "      <td>2</td>\n",
       "      <td>4</td>\n",
       "      <td>0</td>\n",
       "    </tr>\n",
       "    <tr>\n",
       "      <th>2</th>\n",
       "      <td>3000</td>\n",
       "      <td>3000</td>\n",
       "      <td>3000.0</td>\n",
       "      <td>36 months</td>\n",
       "      <td>18.64</td>\n",
       "      <td>109.43</td>\n",
       "      <td>E</td>\n",
       "      <td>E1</td>\n",
       "      <td>MKC Accounting</td>\n",
       "      <td>9 years</td>\n",
       "      <td>RENT</td>\n",
       "      <td>48000.0</td>\n",
       "      <td>Source Verified</td>\n",
       "      <td>2011-12-01</td>\n",
       "      <td>Fully Paid</td>\n",
       "      <td>n</td>\n",
       "      <td>car</td>\n",
       "      <td>Car Downpayment</td>\n",
       "      <td>900xx</td>\n",
       "      <td>CA</td>\n",
       "      <td>5.35</td>\n",
       "      <td>0.0</td>\n",
       "      <td>Jan-2007</td>\n",
       "      <td>2.0</td>\n",
       "      <td>NaN</td>\n",
       "      <td>NaN</td>\n",
       "      <td>4.0</td>\n",
       "      <td>0.0</td>\n",
       "      <td>8221</td>\n",
       "      <td>87.5</td>\n",
       "      <td>4.0</td>\n",
       "      <td>f</td>\n",
       "      <td>0.0</td>\n",
       "      <td>0.0</td>\n",
       "      <td>3939.135294</td>\n",
       "      <td>3939.14</td>\n",
       "      <td>3000.00</td>\n",
       "      <td>939.14</td>\n",
       "      <td>0.00</td>\n",
       "      <td>0.00</td>\n",
       "      <td>0.00</td>\n",
       "      <td>Jan-2015</td>\n",
       "      <td>111.34</td>\n",
       "      <td>NaN</td>\n",
       "      <td>Dec-2014</td>\n",
       "      <td>0.0</td>\n",
       "      <td>NaN</td>\n",
       "      <td>1</td>\n",
       "      <td>Individual</td>\n",
       "      <td>0.0</td>\n",
       "      <td>0.0</td>\n",
       "      <td>0.0</td>\n",
       "      <td>0.0</td>\n",
       "      <td>0.0</td>\n",
       "      <td>N</td>\n",
       "      <td>Cash</td>\n",
       "      <td>N</td>\n",
       "      <td>NaN</td>\n",
       "      <td>2011</td>\n",
       "      <td>1</td>\n",
       "      <td>3</td>\n",
       "      <td>0</td>\n",
       "      <td>4</td>\n",
       "      <td>4</td>\n",
       "      <td>0</td>\n",
       "    </tr>\n",
       "    <tr>\n",
       "      <th>3</th>\n",
       "      <td>5600</td>\n",
       "      <td>5600</td>\n",
       "      <td>5600.0</td>\n",
       "      <td>60 months</td>\n",
       "      <td>21.28</td>\n",
       "      <td>152.39</td>\n",
       "      <td>F</td>\n",
       "      <td>F2</td>\n",
       "      <td>NaN</td>\n",
       "      <td>4 years</td>\n",
       "      <td>OWN</td>\n",
       "      <td>40000.0</td>\n",
       "      <td>Source Verified</td>\n",
       "      <td>2011-12-01</td>\n",
       "      <td>Charged Off</td>\n",
       "      <td>n</td>\n",
       "      <td>small_business</td>\n",
       "      <td>Expand Business &amp; Buy Debt Portfolio</td>\n",
       "      <td>958xx</td>\n",
       "      <td>CA</td>\n",
       "      <td>5.55</td>\n",
       "      <td>0.0</td>\n",
       "      <td>Apr-2004</td>\n",
       "      <td>2.0</td>\n",
       "      <td>NaN</td>\n",
       "      <td>NaN</td>\n",
       "      <td>11.0</td>\n",
       "      <td>0.0</td>\n",
       "      <td>5210</td>\n",
       "      <td>32.6</td>\n",
       "      <td>13.0</td>\n",
       "      <td>f</td>\n",
       "      <td>0.0</td>\n",
       "      <td>0.0</td>\n",
       "      <td>647.500000</td>\n",
       "      <td>647.50</td>\n",
       "      <td>162.02</td>\n",
       "      <td>294.94</td>\n",
       "      <td>0.00</td>\n",
       "      <td>190.54</td>\n",
       "      <td>2.09</td>\n",
       "      <td>Apr-2012</td>\n",
       "      <td>152.39</td>\n",
       "      <td>NaN</td>\n",
       "      <td>Oct-2016</td>\n",
       "      <td>0.0</td>\n",
       "      <td>NaN</td>\n",
       "      <td>1</td>\n",
       "      <td>Individual</td>\n",
       "      <td>0.0</td>\n",
       "      <td>0.0</td>\n",
       "      <td>0.0</td>\n",
       "      <td>0.0</td>\n",
       "      <td>0.0</td>\n",
       "      <td>N</td>\n",
       "      <td>Cash</td>\n",
       "      <td>N</td>\n",
       "      <td>NaN</td>\n",
       "      <td>2011</td>\n",
       "      <td>0</td>\n",
       "      <td>5</td>\n",
       "      <td>11</td>\n",
       "      <td>5</td>\n",
       "      <td>3</td>\n",
       "      <td>0</td>\n",
       "    </tr>\n",
       "    <tr>\n",
       "      <th>4</th>\n",
       "      <td>5375</td>\n",
       "      <td>5375</td>\n",
       "      <td>5350.0</td>\n",
       "      <td>60 months</td>\n",
       "      <td>12.69</td>\n",
       "      <td>121.45</td>\n",
       "      <td>B</td>\n",
       "      <td>B5</td>\n",
       "      <td>Starbucks</td>\n",
       "      <td>&lt; 1 year</td>\n",
       "      <td>RENT</td>\n",
       "      <td>15000.0</td>\n",
       "      <td>Verified</td>\n",
       "      <td>2011-12-01</td>\n",
       "      <td>Charged Off</td>\n",
       "      <td>n</td>\n",
       "      <td>other</td>\n",
       "      <td>Building my credit history.</td>\n",
       "      <td>774xx</td>\n",
       "      <td>TX</td>\n",
       "      <td>18.08</td>\n",
       "      <td>0.0</td>\n",
       "      <td>Sep-2004</td>\n",
       "      <td>0.0</td>\n",
       "      <td>NaN</td>\n",
       "      <td>NaN</td>\n",
       "      <td>2.0</td>\n",
       "      <td>0.0</td>\n",
       "      <td>9279</td>\n",
       "      <td>36.5</td>\n",
       "      <td>3.0</td>\n",
       "      <td>f</td>\n",
       "      <td>0.0</td>\n",
       "      <td>0.0</td>\n",
       "      <td>1484.590000</td>\n",
       "      <td>1477.70</td>\n",
       "      <td>673.48</td>\n",
       "      <td>533.42</td>\n",
       "      <td>0.00</td>\n",
       "      <td>277.69</td>\n",
       "      <td>2.52</td>\n",
       "      <td>Nov-2012</td>\n",
       "      <td>121.45</td>\n",
       "      <td>NaN</td>\n",
       "      <td>Dec-2016</td>\n",
       "      <td>0.0</td>\n",
       "      <td>NaN</td>\n",
       "      <td>1</td>\n",
       "      <td>Individual</td>\n",
       "      <td>0.0</td>\n",
       "      <td>0.0</td>\n",
       "      <td>0.0</td>\n",
       "      <td>0.0</td>\n",
       "      <td>0.0</td>\n",
       "      <td>N</td>\n",
       "      <td>Cash</td>\n",
       "      <td>N</td>\n",
       "      <td>NaN</td>\n",
       "      <td>2011</td>\n",
       "      <td>0</td>\n",
       "      <td>5</td>\n",
       "      <td>9</td>\n",
       "      <td>1</td>\n",
       "      <td>4</td>\n",
       "      <td>5</td>\n",
       "    </tr>\n",
       "  </tbody>\n",
       "</table>\n",
       "</div>"
      ],
      "text/plain": [
       "   loan_amnt  funded_amnt  funded_amnt_inv       term  int_rate  installment  \\\n",
       "0       2400         2400           2400.0  36 months     15.96        84.33   \n",
       "1      10000        10000          10000.0  36 months     13.49       339.31   \n",
       "2       3000         3000           3000.0  36 months     18.64       109.43   \n",
       "3       5600         5600           5600.0  60 months     21.28       152.39   \n",
       "4       5375         5375           5350.0  60 months     12.69       121.45   \n",
       "\n",
       "  grade sub_grade            emp_title emp_length home_ownership  annual_inc  \\\n",
       "0     C        C5                  NaN  10+ years           RENT     12252.0   \n",
       "1     C        C1  AIR RESOURCES BOARD  10+ years           RENT     49200.0   \n",
       "2     E        E1      MKC Accounting     9 years           RENT     48000.0   \n",
       "3     F        F2                  NaN    4 years            OWN     40000.0   \n",
       "4     B        B5            Starbucks   < 1 year           RENT     15000.0   \n",
       "\n",
       "  verification_status    issue_d  loan_status pymnt_plan         purpose  \\\n",
       "0        Not Verified 2011-12-01   Fully Paid          n  small_business   \n",
       "1     Source Verified 2011-12-01   Fully Paid          n           other   \n",
       "2     Source Verified 2011-12-01   Fully Paid          n             car   \n",
       "3     Source Verified 2011-12-01  Charged Off          n  small_business   \n",
       "4            Verified 2011-12-01  Charged Off          n           other   \n",
       "\n",
       "                                  title zip_code addr_state    dti  \\\n",
       "0                  real estate business    606xx         IL   8.72   \n",
       "1                              personel    917xx         CA  20.00   \n",
       "2                       Car Downpayment    900xx         CA   5.35   \n",
       "3  Expand Business & Buy Debt Portfolio    958xx         CA   5.55   \n",
       "4           Building my credit history.    774xx         TX  18.08   \n",
       "\n",
       "   delinq_2yrs earliest_cr_line  inq_last_6mths  mths_since_last_delinq  \\\n",
       "0          0.0         Nov-2001             2.0                     NaN   \n",
       "1          0.0         Feb-1996             1.0                    35.0   \n",
       "2          0.0         Jan-2007             2.0                     NaN   \n",
       "3          0.0         Apr-2004             2.0                     NaN   \n",
       "4          0.0         Sep-2004             0.0                     NaN   \n",
       "\n",
       "   mths_since_last_record  open_acc  pub_rec  revol_bal  revol_util  \\\n",
       "0                     NaN       2.0      0.0       2956        98.5   \n",
       "1                     NaN      10.0      0.0       5598        21.0   \n",
       "2                     NaN       4.0      0.0       8221        87.5   \n",
       "3                     NaN      11.0      0.0       5210        32.6   \n",
       "4                     NaN       2.0      0.0       9279        36.5   \n",
       "\n",
       "   total_acc initial_list_status  out_prncp  out_prncp_inv   total_pymnt  \\\n",
       "0       10.0                   f        0.0            0.0   3005.666844   \n",
       "1       37.0                   f        0.0            0.0  12231.890000   \n",
       "2        4.0                   f        0.0            0.0   3939.135294   \n",
       "3       13.0                   f        0.0            0.0    647.500000   \n",
       "4        3.0                   f        0.0            0.0   1484.590000   \n",
       "\n",
       "   total_pymnt_inv  total_rec_prncp  total_rec_int  total_rec_late_fee  \\\n",
       "0          3005.67          2400.00         605.67                0.00   \n",
       "1         12231.89         10000.00        2214.92               16.97   \n",
       "2          3939.14          3000.00         939.14                0.00   \n",
       "3           647.50           162.02         294.94                0.00   \n",
       "4          1477.70           673.48         533.42                0.00   \n",
       "\n",
       "   recoveries  collection_recovery_fee last_pymnt_d  last_pymnt_amnt  \\\n",
       "0        0.00                     0.00     Jun-2014           649.91   \n",
       "1        0.00                     0.00     Jan-2015           357.48   \n",
       "2        0.00                     0.00     Jan-2015           111.34   \n",
       "3      190.54                     2.09     Apr-2012           152.39   \n",
       "4      277.69                     2.52     Nov-2012           121.45   \n",
       "\n",
       "   next_pymnt_d last_credit_pull_d  collections_12_mths_ex_med  \\\n",
       "0           NaN           Jun-2017                         0.0   \n",
       "1           NaN           Apr-2016                         0.0   \n",
       "2           NaN           Dec-2014                         0.0   \n",
       "3           NaN           Oct-2016                         0.0   \n",
       "4           NaN           Dec-2016                         0.0   \n",
       "\n",
       "   mths_since_last_major_derog  policy_code application_type  acc_now_delinq  \\\n",
       "0                          NaN            1       Individual             0.0   \n",
       "1                          NaN            1       Individual             0.0   \n",
       "2                          NaN            1       Individual             0.0   \n",
       "3                          NaN            1       Individual             0.0   \n",
       "4                          NaN            1       Individual             0.0   \n",
       "\n",
       "   chargeoff_within_12_mths  delinq_amnt  pub_rec_bankruptcies  tax_liens  \\\n",
       "0                       0.0          0.0                   0.0        0.0   \n",
       "1                       0.0          0.0                   0.0        0.0   \n",
       "2                       0.0          0.0                   0.0        0.0   \n",
       "3                       0.0          0.0                   0.0        0.0   \n",
       "4                       0.0          0.0                   0.0        0.0   \n",
       "\n",
       "  hardship_flag disbursement_method debt_settlement_flag  \\\n",
       "0             N                Cash                    N   \n",
       "1             N                Cash                    N   \n",
       "2             N                Cash                    N   \n",
       "3             N                Cash                    N   \n",
       "4             N                Cash                    N   \n",
       "\n",
       "  debt_settlement_flag_date  issue_year  repaid  loan_term_year  purpose_code  \\\n",
       "0                       NaN        2011       1               3            11   \n",
       "1                       NaN        2011       1               3             9   \n",
       "2                       NaN        2011       1               3             0   \n",
       "3                       NaN        2011       0               5            11   \n",
       "4                       NaN        2011       0               5             9   \n",
       "\n",
       "   grade_code  home_ownership_code  addr_state_code  \n",
       "0           2                    4                2  \n",
       "1           2                    4                0  \n",
       "2           4                    4                0  \n",
       "3           5                    3                0  \n",
       "4           1                    4                5  "
      ]
     },
     "execution_count": 38,
     "metadata": {},
     "output_type": "execute_result"
    }
   ],
   "source": [
    "loan_df.head()"
   ]
  },
  {
   "cell_type": "markdown",
   "metadata": {},
   "source": [
    "### Task 2.3: Manage Missing Values\n",
    "\n",
    "- Fill missing values in `revol_util` with the mean value of the column in loan_df.\n",
    "- Fill missing values in `pub_rec_bankruptcies` with 0 (which is the mode of the column) in loan_df.\n",
    "\n",
    "After the missing values are filled, check loan_df again to make sure there is no missing values in the two columns. If there are still missing values, it's likely that you don't use fillna() function the right way. fillna() by default returns a column with missing values filled, so you should either assign filled column back to the original column or set `inplace=True` in fillna(). If you set `inplace=True` to fillna(), don't assign the return value back to the original column, since the function will directly modify loan_df in place, and it doesn't return any thing."
   ]
  },
  {
   "cell_type": "markdown",
   "metadata": {},
   "source": [
    "#### Your Code"
   ]
  },
  {
   "cell_type": "code",
   "execution_count": 39,
   "metadata": {},
   "outputs": [
    {
     "data": {
      "text/plain": [
       "revol_util               19\n",
       "pub_rec_bankruptcies    313\n",
       "dtype: int64"
      ]
     },
     "execution_count": 39,
     "metadata": {},
     "output_type": "execute_result"
    }
   ],
   "source": [
    "loan_df[['revol_util','pub_rec_bankruptcies']].isnull().sum()"
   ]
  },
  {
   "cell_type": "code",
   "execution_count": 40,
   "metadata": {},
   "outputs": [],
   "source": [
    "loan_df.revol_util.fillna(loan_df.revol_util.mean(), inplace = True)"
   ]
  },
  {
   "cell_type": "code",
   "execution_count": 41,
   "metadata": {},
   "outputs": [],
   "source": [
    "loan_df.pub_rec_bankruptcies.fillna( 0, inplace = True)"
   ]
  },
  {
   "cell_type": "code",
   "execution_count": 42,
   "metadata": {},
   "outputs": [
    {
     "data": {
      "text/plain": [
       "revol_util              0\n",
       "pub_rec_bankruptcies    0\n",
       "dtype: int64"
      ]
     },
     "execution_count": 42,
     "metadata": {},
     "output_type": "execute_result"
    }
   ],
   "source": [
    "loan_df[['revol_util','pub_rec_bankruptcies']].isnull().sum()"
   ]
  },
  {
   "cell_type": "markdown",
   "metadata": {},
   "source": [
    "## Modeling and Model Evaluation\n",
    "\n",
    "Construct a classification model to predict whether a loan will be fully paid. Column 'repaid' will be the label. The purpose of the model is to identify loans that are likely to be fully paid.\n",
    "\n",
    "We will complete following steps:\n",
    "- Identify columns we need for modeling and the next steps. \n",
    "- Create a clean DataFrame `df` with needed columns only.\n",
    "- Split the DataFrame to train and test.\n",
    "- Identify columns needed to train the classification model.\n",
    "- Create train and test set for the classification model.\n",
    "- Create train and test label for the classification model.\n",
    "- Train the classification model.\n",
    "- Predict with the classification model.\n",
    "- Evaluate the classification model.\n",
    "\n",
    "We will demonstrate these steps with RandomForestClassifier. You will need to complete a LogisticRegression model."
   ]
  },
  {
   "cell_type": "markdown",
   "metadata": {},
   "source": [
    "### Keep Columns\n",
    "\n",
    "We will create a clean DataFrame `df` which keeps following columns in the original DataFrame `loan_df`.\n",
    "- funded_amnt\n",
    "- loan_term_year\n",
    "- int_rate\n",
    "- grade_code\n",
    "- purpose_code\n",
    "- addr_state_code\n",
    "- home_ownership_code\n",
    "- annual_inc\n",
    "- dti\n",
    "- revol_util\n",
    "- pub_rec_bankruptcies\n",
    "- repaid\n",
    "- total_pymnt\n",
    "\n",
    "Among all keeped columns, repaid will be the label, total_pymnt will be used to calculate portfolio return in the next step. Other featues will be used to train classification models.\n",
    "\n",
    "Only features that are available before the loan is initiated can be used in the classification. Features like recoveries, total_rec_prncp, which are only available after the loan is closed, should not be included in the training features. If your classfication achieves close to 100% accuracy rate, it's likely that you include features that are only avaiable after the loan is closed.\n"
   ]
  },
  {
   "cell_type": "code",
   "execution_count": 43,
   "metadata": {},
   "outputs": [],
   "source": [
    "#columns needed for the classification AND the next steps\n",
    "keep_columns = ['funded_amnt', 'loan_term_year', 'int_rate', 'grade_code', 'purpose_code', \n",
    "                'addr_state_code', 'home_ownership_code', 'annual_inc', 'dti', 'revol_util', \n",
    "                'pub_rec_bankruptcies', 'repaid', 'total_pymnt']"
   ]
  },
  {
   "cell_type": "code",
   "execution_count": 44,
   "metadata": {},
   "outputs": [],
   "source": [
    "#Create a clean DataFrame\n",
    "df = loan_df[keep_columns].copy()"
   ]
  },
  {
   "cell_type": "code",
   "execution_count": 45,
   "metadata": {
    "scrolled": true
   },
   "outputs": [
    {
     "name": "stdout",
     "output_type": "stream",
     "text": [
      "<class 'pandas.core.frame.DataFrame'>\n",
      "RangeIndex: 19908 entries, 0 to 19907\n",
      "Data columns (total 13 columns):\n",
      " #   Column                Non-Null Count  Dtype  \n",
      "---  ------                --------------  -----  \n",
      " 0   funded_amnt           19908 non-null  int64  \n",
      " 1   loan_term_year        19908 non-null  int64  \n",
      " 2   int_rate              19908 non-null  float64\n",
      " 3   grade_code            19908 non-null  int32  \n",
      " 4   purpose_code          19908 non-null  int32  \n",
      " 5   addr_state_code       19908 non-null  int32  \n",
      " 6   home_ownership_code   19908 non-null  int32  \n",
      " 7   annual_inc            19908 non-null  float64\n",
      " 8   dti                   19908 non-null  float64\n",
      " 9   revol_util            19908 non-null  float64\n",
      " 10  pub_rec_bankruptcies  19908 non-null  float64\n",
      " 11  repaid                19908 non-null  int64  \n",
      " 12  total_pymnt           19908 non-null  float64\n",
      "dtypes: float64(6), int32(4), int64(3)\n",
      "memory usage: 1.7 MB\n"
     ]
    }
   ],
   "source": [
    "df.info()"
   ]
  },
  {
   "cell_type": "markdown",
   "metadata": {},
   "source": [
    "### Split DataFrame to Train and Test\n",
    "\n",
    "- Split the clean DataFrame `df` to `df_train` and `df_test`.\n",
    "- Create train and test features, `d_train` and `d_test`.\n",
    "- Create train and test labels, `l_train` and `l_test`.\n",
    "\n",
    "For demonstration, we will use following features for the classification model:\n",
    "- funded_amnt\n",
    "- purpose_code\n",
    "- addr_state_code\n",
    "- home_ownership_code\n",
    "- annual_inc\n",
    "- dti\n",
    "- revol_util\n",
    "- pub_rec_bankruptcies\n"
   ]
  },
  {
   "cell_type": "code",
   "execution_count": 46,
   "metadata": {},
   "outputs": [],
   "source": [
    "#columns for the classification\n",
    "model_columns = ['funded_amnt', 'purpose_code', 'addr_state_code', 'home_ownership_code', 'annual_inc', \n",
    "                 'dti', 'revol_util', 'pub_rec_bankruptcies']\n",
    "\n",
    "from sklearn.model_selection import train_test_split\n",
    "df_train, df_test = train_test_split(df, test_size=0.4, random_state=23)\n",
    "d_train = df_train[model_columns]\n",
    "d_test = df_test[model_columns]\n",
    "l_train = df_train.repaid\n",
    "l_test = df_test.repaid"
   ]
  },
  {
   "cell_type": "markdown",
   "metadata": {},
   "source": [
    "### Random Forest Classifier\n",
    "\n",
    "We will demonstrate the classification with two Random Forest Classifiers. The first one with default hpyerparameters and the second one with `class_weight='balanced'`. We set `random_state=23` in both classifiers just to ensure repeatability.\n",
    "\n",
    "The first classifier achieve accuracy rate 83.5%, which is actually worse than the zero model. A zero model always predicts with the majority class, which is 1 in the dataset. Since the overal repaid rate is 85.2%, so the accuracy rate of the zero model is 85.2%.\n",
    "\n",
    "In this project, the accuracy rate is not what we are looking for. The purpose of the classification model is to help us select loans that are more likely to be repaid. So our focus is on the precision rate of class 1. From the classification report of the first model, we can see that the precision rate of class 1 is 0.86, or 86%. This means among all the loans identified as to be fully paid by the classification model, 86% of them are actually fully paid. This is a not much better than the repaid rate of the whole test set, which is about 85%. The reason is that the model only has 0.07 recall rate on class 0, which means, for all loans that are charged off, the model only identifies 7% of them as charged off.\n",
    "\n",
    "The dataset is highly imbalanced, with 85% class 1 and 15% class 0, we can achieve better class 1 precision by setting balanced class_weight. In the second model, we set `class_weight='balanced'`. The default RandomForestClassifier is not very senstive to class_weight change, so we also limit `max_depth` to increase the effectiveness of class_weight change.\n",
    "\n",
    "From the classification report of the second Random Forest Classifier, we can see that even though the accuracy rate drops to 65%, the model has a lot larger class 0 recall at 0.44. It means the model identifies 44% of all charged off loans correctly. More importantly, we get better class 1 precission, 88%, which means, among all loans that are predicted as to be fully paid by the model, 88% of them are actually fully paid.\n",
    "\n",
    "You can also see the prediction details from the confusion matrix."
   ]
  },
  {
   "cell_type": "code",
   "execution_count": 47,
   "metadata": {},
   "outputs": [
    {
     "name": "stdout",
     "output_type": "stream",
     "text": [
      "Accuracy Score: 0.8496986438975389\n",
      "Confusion Matrix:\n",
      "[[   9 1177]\n",
      " [  20 6758]]\n",
      "Classification Report:\n",
      "              precision    recall  f1-score   support\n",
      "\n",
      "           0       0.31      0.01      0.01      1186\n",
      "           1       0.85      1.00      0.92      6778\n",
      "\n",
      "    accuracy                           0.85      7964\n",
      "   macro avg       0.58      0.50      0.47      7964\n",
      "weighted avg       0.77      0.85      0.78      7964\n",
      "\n"
     ]
    }
   ],
   "source": [
    "from sklearn.ensemble import RandomForestClassifier\n",
    "from sklearn import metrics\n",
    "\n",
    "# Create Regressor with default properties\n",
    "rfc1 = RandomForestClassifier(random_state=23)\n",
    "\n",
    "# Fit estimator and display score\n",
    "rfc1 = rfc1.fit(d_train, l_train)\n",
    "print(f'Accuracy Score: {rfc1.score(d_test, l_test)}')\n",
    "pred = rfc1.predict(d_test)\n",
    "print(f'Confusion Matrix:\\n{metrics.confusion_matrix(l_test, pred)}')\n",
    "print(f'Classification Report:\\n{metrics.classification_report(l_test, pred)}')"
   ]
  },
  {
   "cell_type": "code",
   "execution_count": 48,
   "metadata": {},
   "outputs": [
    {
     "data": {
      "text/plain": [
       "0.8510798593671521"
      ]
     },
     "execution_count": 48,
     "metadata": {},
     "output_type": "execute_result"
    }
   ],
   "source": [
    "#zero model accuracy\n",
    "df_test.repaid.mean()"
   ]
  },
  {
   "cell_type": "code",
   "execution_count": 49,
   "metadata": {},
   "outputs": [
    {
     "name": "stdout",
     "output_type": "stream",
     "text": [
      "Accuracy Score: 0.6761677548970366\n",
      "Confusion Matrix:\n",
      "[[ 535  651]\n",
      " [1928 4850]]\n",
      "Classification Report:\n",
      "              precision    recall  f1-score   support\n",
      "\n",
      "           0       0.22      0.45      0.29      1186\n",
      "           1       0.88      0.72      0.79      6778\n",
      "\n",
      "    accuracy                           0.68      7964\n",
      "   macro avg       0.55      0.58      0.54      7964\n",
      "weighted avg       0.78      0.68      0.72      7964\n",
      "\n"
     ]
    }
   ],
   "source": [
    "rfc2 = RandomForestClassifier(max_depth=7, class_weight='balanced', random_state=23)\n",
    "\n",
    "# Fit estimator and display score\n",
    "rfc2 = rfc2.fit(d_train, l_train)\n",
    "print(f'Accuracy Score: {rfc2.score(d_test, l_test)}')\n",
    "pred = rfc2.predict(d_test)\n",
    "print(f'Confusion Matrix:\\n{metrics.confusion_matrix(l_test, pred)}')\n",
    "print(f'Classification Report:\\n{metrics.classification_report(l_test, pred)}')"
   ]
  },
  {
   "cell_type": "markdown",
   "metadata": {},
   "source": [
    "### Task 2.4: Logistic Regression with Default Class Weight\n",
    "\n",
    "Construct a Logistic Regression model with default class_weight. Train and evaluate the model.\n",
    "\n",
    "You may use the model_columns defined above. You may also choose your own features.\n",
    "\n",
    "What is the accuracy score?\n",
    "Does this model predict better than a zero model?"
   ]
  },
  {
   "cell_type": "markdown",
   "metadata": {},
   "source": [
    "#### Your Code"
   ]
  },
  {
   "cell_type": "code",
   "execution_count": 50,
   "metadata": {},
   "outputs": [
    {
     "name": "stdout",
     "output_type": "stream",
     "text": [
      "Accuracy Score: 0.8510798593671521\n",
      "Confusion Matrix:\n",
      "[[   0 1186]\n",
      " [   0 6778]]\n",
      "Classification Report:\n",
      "              precision    recall  f1-score   support\n",
      "\n",
      "           0       0.00      0.00      0.00      1186\n",
      "           1       0.85      1.00      0.92      6778\n",
      "\n",
      "    accuracy                           0.85      7964\n",
      "   macro avg       0.43      0.50      0.46      7964\n",
      "weighted avg       0.72      0.85      0.78      7964\n",
      "\n"
     ]
    }
   ],
   "source": [
    "from sklearn.linear_model import LogisticRegression\n",
    "\n",
    "lr = LogisticRegression(C = 1E6, random_state = 23)\n",
    "\n",
    "# Fit estimator and display score\n",
    "lr1 = lr.fit(d_train, l_train)\n",
    "print(f'Accuracy Score: {lr1.score(d_test, l_test)}')\n",
    "pred = lr1.predict(d_test)\n",
    "print(f'Confusion Matrix:\\n{metrics.confusion_matrix(l_test, pred)}')\n",
    "print(f'Classification Report:\\n{metrics.classification_report(l_test, pred)}')"
   ]
  },
  {
   "cell_type": "markdown",
   "metadata": {},
   "source": [
    "### Task 2.5: Logistic Regression with Balanced Class Weight\n",
    "\n",
    "Construct a Logistic Regression model with `class_weight='balanced'`. Train and evaluate the model.\n",
    "\n",
    "Use the same features as the first LogisticRegression model.\n",
    "\n",
    "How does the accuracy score change?  \n",
    "What about class 1 precision and class 0 recall?  \n",
    "Is this model a better choice in selecting loan portfolio?"
   ]
  },
  {
   "cell_type": "markdown",
   "metadata": {},
   "source": [
    "#### Your Code"
   ]
  },
  {
   "cell_type": "code",
   "execution_count": 51,
   "metadata": {},
   "outputs": [
    {
     "name": "stdout",
     "output_type": "stream",
     "text": [
      "Accuracy Score: 0.48329984932194875\n",
      "Confusion Matrix:\n",
      "[[ 857  329]\n",
      " [3786 2992]]\n",
      "Classification Report:\n",
      "              precision    recall  f1-score   support\n",
      "\n",
      "           0       0.18      0.72      0.29      1186\n",
      "           1       0.90      0.44      0.59      6778\n",
      "\n",
      "    accuracy                           0.48      7964\n",
      "   macro avg       0.54      0.58      0.44      7964\n",
      "weighted avg       0.79      0.48      0.55      7964\n",
      "\n"
     ]
    }
   ],
   "source": [
    "lr1 = LogisticRegression(C = 1E6, class_weight = 'balanced',random_state = 23)\n",
    "\n",
    "# Fit estimator and display score\n",
    "lr2 = lr1.fit(d_train, l_train)\n",
    "print(f'Accuracy Score: {lr2.score(d_test, l_test)}')\n",
    "pred = lr2.predict(d_test)\n",
    "print(f'Confusion Matrix:\\n{metrics.confusion_matrix(l_test, pred)}')\n",
    "print(f'Classification Report:\\n{metrics.classification_report(l_test, pred)}')"
   ]
  },
  {
   "cell_type": "markdown",
   "metadata": {},
   "source": [
    "[Back to Top](#Table-of-Contents)\n",
    "## Module 3: Construct Loan Portfolio\n",
    "\n",
    "Construct a loan portfolio out of the test set with the help of your classification model. The portfolio can be a small subset of all loans in the dataset, for example, 50% of all loans in the test set.\n",
    "\n",
    "- Predict on the test set with the trained model.\n",
    "- Select loans that are predicted to be paid off by the model.\n",
    "- Calculate annual return of selected loans.\n",
    "\n",
    "We will demonstrate how to select portfolio with RandomForestClassifier. You will need to construct a portfolio with the Logistic Regression model."
   ]
  },
  {
   "cell_type": "markdown",
   "metadata": {},
   "source": [
    "### Portfolio Annual Return\n",
    "\n",
    "Calculation of loan return is very complicated since the loan is paid by monthly installments. In this project, we simplify the calculation by using the total payment and funded amount. We can use following formula to calculate the total return:\n",
    "\n",
    "$TotalReturn = \\frac{Total Payment}{Funded Amount} - 1$\n",
    "\n",
    "The total return doesn't reflect loan profitability since loans have different terms. It's more accurate to compare annual returns. There are only two terms in the dataset, 36 months and 60 months. The formula to calculate annual return is:\n",
    "\n",
    "$Annualized Return = (1+Total Return)^{(1/years)} - 1$. \n",
    "\n",
    "For example, if total return of a 36 month loan is 10%, then annualized return = `(1 + 0.1)**(1/3) - 1` = `0.032`.\n",
    "\n",
    "Again, this is not the true annualized return of a loan. But the goal of this project is to identify loans to invest, so we just need a benchmark to evaluate loan portfolio performance.\n",
    "\n",
    "In the following code cells, we define a function to calculate annual return of a loan portfolio. The function calculates annual return for 36 month and 60 month loans in a portfolio separately. \n",
    "\n",
    "Then we use the `get_portfolio_annual_return()` function to find out the annual returns of all 36 months and 60 months loans in the test dataset. There are 5960 36 months loans, with annual return 2.69%, and 2004 60 months loans, with annual return 2.74%.\n",
    "\n",
    "**Please make sure all above code cells are executed before moving on.**"
   ]
  },
  {
   "cell_type": "code",
   "execution_count": 52,
   "metadata": {},
   "outputs": [],
   "source": [
    "def get_portfolio_annual_return(df):\n",
    "    '''\n",
    "    Get annual return of 36 and 60 month loans in the portfolio df.\n",
    "    '''\n",
    "    annual_return_36, annual_return_60 = 0, 0\n",
    "    df_36 = df[df.loan_term_year==3]\n",
    "    if(len(df_36)>0):\n",
    "        return_36 = df_36.total_pymnt.sum()/df_36.funded_amnt.sum()-1\n",
    "        annual_return_36 = (1+return_36)**(1/3)-1\n",
    "    df_60 = df[df.loan_term_year==5]\n",
    "    if(len(df_60)>0):\n",
    "        return_60 = df_60.total_pymnt.sum()/df_60.funded_amnt.sum()-1\n",
    "        annual_return_60 = (1+return_60)**(1/5)-1\n",
    "    print (f'36 months loan:{len(df_36)}, Annual return:{round(annual_return_36, 4)}')\n",
    "    print (f'60 months loan:{len(df_60)}, Annual return:{round(annual_return_60, 4)}')"
   ]
  },
  {
   "cell_type": "code",
   "execution_count": 53,
   "metadata": {},
   "outputs": [
    {
     "name": "stdout",
     "output_type": "stream",
     "text": [
      "36 months loan:5960, Annual return:0.0269\n",
      "60 months loan:2004, Annual return:0.0274\n"
     ]
    }
   ],
   "source": [
    "#get return of the test set.\n",
    "get_portfolio_annual_return(df_test)"
   ]
  },
  {
   "cell_type": "markdown",
   "metadata": {},
   "source": [
    "### Construct Loan Portfolio with RandomForestClassifier\n",
    "\n",
    "We will use the RandomForestClassifier model with `class_weight='balanced'` (rfc2) to select loans from the test set. Then we will compare the annual return of the selected loans with that of the test set. \n",
    "\n",
    "The RandomForestClassifier mode selects 4121 loans from 5960 36 months loans, with annual return 2.95%; and selects 1233 loans from 2004 60 months loans, with annual return 2.87. The portfolio achieves better return on both 36 months loans and 60 months loans comparing to the whole test set, which are 2.69% and 2.74% respectively.\n"
   ]
  },
  {
   "cell_type": "code",
   "execution_count": 54,
   "metadata": {},
   "outputs": [],
   "source": [
    "keep_columns = ['funded_amnt', 'loan_term_year', 'int_rate', 'grade_code', 'purpose_code', \n",
    "                'addr_state_code', 'home_ownership_code', 'annual_inc', 'dti', 'revol_util', \n",
    "                'pub_rec_bankruptcies', 'repaid', 'total_pymnt']\n",
    "\n",
    "df = loan_df[keep_columns].copy()\n",
    "\n",
    "model_columns = ['funded_amnt', 'purpose_code', 'addr_state_code', 'home_ownership_code', 'annual_inc', \n",
    "                 'dti', 'revol_util', 'pub_rec_bankruptcies']\n",
    "\n",
    "from sklearn.model_selection import train_test_split\n",
    "df_train, df_test = train_test_split(df, test_size=0.4, random_state=23)\n",
    "d_train = df_train[model_columns]\n",
    "d_test = df_test[model_columns]\n",
    "l_train = df_train.repaid\n",
    "l_test = df_test.repaid\n",
    "\n",
    "rfc2 = RandomForestClassifier(max_depth=7, class_weight='balanced', random_state=23)\n",
    "rfc2 = rfc2.fit(d_train, l_train)\n",
    "pred = rfc2.predict(d_test)\n",
    "\n",
    "# create prediction column in the test set.\n",
    "df_test['prediction'] = pred\n",
    "portfolio_rfc2 = df_test[df_test.prediction==1]"
   ]
  },
  {
   "cell_type": "code",
   "execution_count": 55,
   "metadata": {},
   "outputs": [
    {
     "data": {
      "text/html": [
       "<div>\n",
       "<style scoped>\n",
       "    .dataframe tbody tr th:only-of-type {\n",
       "        vertical-align: middle;\n",
       "    }\n",
       "\n",
       "    .dataframe tbody tr th {\n",
       "        vertical-align: top;\n",
       "    }\n",
       "\n",
       "    .dataframe thead th {\n",
       "        text-align: right;\n",
       "    }\n",
       "</style>\n",
       "<table border=\"1\" class=\"dataframe\">\n",
       "  <thead>\n",
       "    <tr style=\"text-align: right;\">\n",
       "      <th></th>\n",
       "      <th>funded_amnt</th>\n",
       "      <th>loan_term_year</th>\n",
       "      <th>int_rate</th>\n",
       "      <th>grade_code</th>\n",
       "      <th>purpose_code</th>\n",
       "      <th>addr_state_code</th>\n",
       "      <th>home_ownership_code</th>\n",
       "      <th>annual_inc</th>\n",
       "      <th>dti</th>\n",
       "      <th>revol_util</th>\n",
       "      <th>pub_rec_bankruptcies</th>\n",
       "      <th>repaid</th>\n",
       "      <th>total_pymnt</th>\n",
       "      <th>prediction</th>\n",
       "    </tr>\n",
       "  </thead>\n",
       "  <tbody>\n",
       "    <tr>\n",
       "      <th>14787</th>\n",
       "      <td>17500</td>\n",
       "      <td>5</td>\n",
       "      <td>14.96</td>\n",
       "      <td>3</td>\n",
       "      <td>2</td>\n",
       "      <td>5</td>\n",
       "      <td>4</td>\n",
       "      <td>43000.0</td>\n",
       "      <td>16.60</td>\n",
       "      <td>64.7</td>\n",
       "      <td>0.0</td>\n",
       "      <td>1</td>\n",
       "      <td>24953.846804</td>\n",
       "      <td>1</td>\n",
       "    </tr>\n",
       "    <tr>\n",
       "      <th>7170</th>\n",
       "      <td>5000</td>\n",
       "      <td>3</td>\n",
       "      <td>16.89</td>\n",
       "      <td>3</td>\n",
       "      <td>2</td>\n",
       "      <td>5</td>\n",
       "      <td>4</td>\n",
       "      <td>50000.0</td>\n",
       "      <td>7.46</td>\n",
       "      <td>50.2</td>\n",
       "      <td>0.0</td>\n",
       "      <td>1</td>\n",
       "      <td>6195.767250</td>\n",
       "      <td>1</td>\n",
       "    </tr>\n",
       "    <tr>\n",
       "      <th>604</th>\n",
       "      <td>15000</td>\n",
       "      <td>3</td>\n",
       "      <td>12.69</td>\n",
       "      <td>1</td>\n",
       "      <td>2</td>\n",
       "      <td>4</td>\n",
       "      <td>4</td>\n",
       "      <td>62000.0</td>\n",
       "      <td>18.77</td>\n",
       "      <td>43.8</td>\n",
       "      <td>0.0</td>\n",
       "      <td>0</td>\n",
       "      <td>13126.600000</td>\n",
       "      <td>1</td>\n",
       "    </tr>\n",
       "    <tr>\n",
       "      <th>7969</th>\n",
       "      <td>10400</td>\n",
       "      <td>5</td>\n",
       "      <td>6.00</td>\n",
       "      <td>4</td>\n",
       "      <td>1</td>\n",
       "      <td>5</td>\n",
       "      <td>0</td>\n",
       "      <td>29000.0</td>\n",
       "      <td>10.84</td>\n",
       "      <td>95.6</td>\n",
       "      <td>0.0</td>\n",
       "      <td>1</td>\n",
       "      <td>14137.570024</td>\n",
       "      <td>1</td>\n",
       "    </tr>\n",
       "    <tr>\n",
       "      <th>9633</th>\n",
       "      <td>16000</td>\n",
       "      <td>5</td>\n",
       "      <td>16.02</td>\n",
       "      <td>3</td>\n",
       "      <td>4</td>\n",
       "      <td>5</td>\n",
       "      <td>0</td>\n",
       "      <td>99504.0</td>\n",
       "      <td>4.14</td>\n",
       "      <td>11.7</td>\n",
       "      <td>0.0</td>\n",
       "      <td>1</td>\n",
       "      <td>23311.610000</td>\n",
       "      <td>1</td>\n",
       "    </tr>\n",
       "    <tr>\n",
       "      <th>2047</th>\n",
       "      <td>12000</td>\n",
       "      <td>5</td>\n",
       "      <td>7.90</td>\n",
       "      <td>0</td>\n",
       "      <td>1</td>\n",
       "      <td>2</td>\n",
       "      <td>0</td>\n",
       "      <td>50000.0</td>\n",
       "      <td>12.55</td>\n",
       "      <td>26.4</td>\n",
       "      <td>0.0</td>\n",
       "      <td>1</td>\n",
       "      <td>14344.899985</td>\n",
       "      <td>1</td>\n",
       "    </tr>\n",
       "    <tr>\n",
       "      <th>10688</th>\n",
       "      <td>5000</td>\n",
       "      <td>3</td>\n",
       "      <td>6.54</td>\n",
       "      <td>0</td>\n",
       "      <td>2</td>\n",
       "      <td>1</td>\n",
       "      <td>3</td>\n",
       "      <td>56400.0</td>\n",
       "      <td>5.79</td>\n",
       "      <td>20.8</td>\n",
       "      <td>1.0</td>\n",
       "      <td>0</td>\n",
       "      <td>3927.470000</td>\n",
       "      <td>1</td>\n",
       "    </tr>\n",
       "    <tr>\n",
       "      <th>13882</th>\n",
       "      <td>5000</td>\n",
       "      <td>3</td>\n",
       "      <td>11.12</td>\n",
       "      <td>1</td>\n",
       "      <td>9</td>\n",
       "      <td>1</td>\n",
       "      <td>0</td>\n",
       "      <td>48000.0</td>\n",
       "      <td>6.65</td>\n",
       "      <td>38.9</td>\n",
       "      <td>0.0</td>\n",
       "      <td>1</td>\n",
       "      <td>5604.780090</td>\n",
       "      <td>1</td>\n",
       "    </tr>\n",
       "    <tr>\n",
       "      <th>18594</th>\n",
       "      <td>4800</td>\n",
       "      <td>3</td>\n",
       "      <td>8.00</td>\n",
       "      <td>0</td>\n",
       "      <td>4</td>\n",
       "      <td>0</td>\n",
       "      <td>0</td>\n",
       "      <td>62000.0</td>\n",
       "      <td>1.20</td>\n",
       "      <td>10.7</td>\n",
       "      <td>0.0</td>\n",
       "      <td>1</td>\n",
       "      <td>5083.926878</td>\n",
       "      <td>1</td>\n",
       "    </tr>\n",
       "    <tr>\n",
       "      <th>15076</th>\n",
       "      <td>11200</td>\n",
       "      <td>3</td>\n",
       "      <td>11.36</td>\n",
       "      <td>1</td>\n",
       "      <td>2</td>\n",
       "      <td>0</td>\n",
       "      <td>4</td>\n",
       "      <td>71000.0</td>\n",
       "      <td>13.08</td>\n",
       "      <td>52.8</td>\n",
       "      <td>1.0</td>\n",
       "      <td>1</td>\n",
       "      <td>13275.168125</td>\n",
       "      <td>1</td>\n",
       "    </tr>\n",
       "    <tr>\n",
       "      <th>11170</th>\n",
       "      <td>20000</td>\n",
       "      <td>5</td>\n",
       "      <td>10.36</td>\n",
       "      <td>1</td>\n",
       "      <td>9</td>\n",
       "      <td>5</td>\n",
       "      <td>3</td>\n",
       "      <td>43000.0</td>\n",
       "      <td>7.53</td>\n",
       "      <td>0.4</td>\n",
       "      <td>0.0</td>\n",
       "      <td>1</td>\n",
       "      <td>21774.740490</td>\n",
       "      <td>1</td>\n",
       "    </tr>\n",
       "    <tr>\n",
       "      <th>2375</th>\n",
       "      <td>12000</td>\n",
       "      <td>3</td>\n",
       "      <td>6.03</td>\n",
       "      <td>0</td>\n",
       "      <td>2</td>\n",
       "      <td>0</td>\n",
       "      <td>0</td>\n",
       "      <td>72000.0</td>\n",
       "      <td>15.37</td>\n",
       "      <td>22.7</td>\n",
       "      <td>0.0</td>\n",
       "      <td>1</td>\n",
       "      <td>13148.137860</td>\n",
       "      <td>1</td>\n",
       "    </tr>\n",
       "    <tr>\n",
       "      <th>5527</th>\n",
       "      <td>8000</td>\n",
       "      <td>3</td>\n",
       "      <td>8.49</td>\n",
       "      <td>0</td>\n",
       "      <td>9</td>\n",
       "      <td>4</td>\n",
       "      <td>0</td>\n",
       "      <td>115000.0</td>\n",
       "      <td>4.50</td>\n",
       "      <td>56.7</td>\n",
       "      <td>0.0</td>\n",
       "      <td>1</td>\n",
       "      <td>9090.083603</td>\n",
       "      <td>1</td>\n",
       "    </tr>\n",
       "    <tr>\n",
       "      <th>6190</th>\n",
       "      <td>13175</td>\n",
       "      <td>3</td>\n",
       "      <td>10.99</td>\n",
       "      <td>1</td>\n",
       "      <td>4</td>\n",
       "      <td>1</td>\n",
       "      <td>0</td>\n",
       "      <td>290000.0</td>\n",
       "      <td>9.88</td>\n",
       "      <td>0.0</td>\n",
       "      <td>0.0</td>\n",
       "      <td>1</td>\n",
       "      <td>15131.441995</td>\n",
       "      <td>1</td>\n",
       "    </tr>\n",
       "    <tr>\n",
       "      <th>19764</th>\n",
       "      <td>2150</td>\n",
       "      <td>3</td>\n",
       "      <td>10.78</td>\n",
       "      <td>2</td>\n",
       "      <td>13</td>\n",
       "      <td>4</td>\n",
       "      <td>0</td>\n",
       "      <td>11029.0</td>\n",
       "      <td>19.15</td>\n",
       "      <td>0.2</td>\n",
       "      <td>1.0</td>\n",
       "      <td>0</td>\n",
       "      <td>1517.710000</td>\n",
       "      <td>1</td>\n",
       "    </tr>\n",
       "    <tr>\n",
       "      <th>10033</th>\n",
       "      <td>20000</td>\n",
       "      <td>3</td>\n",
       "      <td>11.11</td>\n",
       "      <td>1</td>\n",
       "      <td>2</td>\n",
       "      <td>0</td>\n",
       "      <td>0</td>\n",
       "      <td>120000.0</td>\n",
       "      <td>13.18</td>\n",
       "      <td>29.9</td>\n",
       "      <td>0.0</td>\n",
       "      <td>1</td>\n",
       "      <td>23487.478468</td>\n",
       "      <td>1</td>\n",
       "    </tr>\n",
       "    <tr>\n",
       "      <th>3243</th>\n",
       "      <td>21600</td>\n",
       "      <td>5</td>\n",
       "      <td>11.71</td>\n",
       "      <td>1</td>\n",
       "      <td>1</td>\n",
       "      <td>2</td>\n",
       "      <td>0</td>\n",
       "      <td>75000.0</td>\n",
       "      <td>20.82</td>\n",
       "      <td>53.0</td>\n",
       "      <td>0.0</td>\n",
       "      <td>1</td>\n",
       "      <td>28643.460843</td>\n",
       "      <td>1</td>\n",
       "    </tr>\n",
       "    <tr>\n",
       "      <th>5796</th>\n",
       "      <td>4100</td>\n",
       "      <td>3</td>\n",
       "      <td>10.59</td>\n",
       "      <td>1</td>\n",
       "      <td>7</td>\n",
       "      <td>4</td>\n",
       "      <td>4</td>\n",
       "      <td>57000.0</td>\n",
       "      <td>7.54</td>\n",
       "      <td>49.7</td>\n",
       "      <td>0.0</td>\n",
       "      <td>1</td>\n",
       "      <td>4803.590450</td>\n",
       "      <td>1</td>\n",
       "    </tr>\n",
       "    <tr>\n",
       "      <th>10509</th>\n",
       "      <td>20000</td>\n",
       "      <td>3</td>\n",
       "      <td>6.91</td>\n",
       "      <td>0</td>\n",
       "      <td>2</td>\n",
       "      <td>0</td>\n",
       "      <td>0</td>\n",
       "      <td>68670.0</td>\n",
       "      <td>11.46</td>\n",
       "      <td>32.1</td>\n",
       "      <td>0.0</td>\n",
       "      <td>1</td>\n",
       "      <td>22202.058247</td>\n",
       "      <td>1</td>\n",
       "    </tr>\n",
       "    <tr>\n",
       "      <th>7836</th>\n",
       "      <td>9200</td>\n",
       "      <td>5</td>\n",
       "      <td>12.99</td>\n",
       "      <td>2</td>\n",
       "      <td>2</td>\n",
       "      <td>0</td>\n",
       "      <td>4</td>\n",
       "      <td>80000.0</td>\n",
       "      <td>15.52</td>\n",
       "      <td>85.9</td>\n",
       "      <td>0.0</td>\n",
       "      <td>1</td>\n",
       "      <td>12556.669996</td>\n",
       "      <td>1</td>\n",
       "    </tr>\n",
       "  </tbody>\n",
       "</table>\n",
       "</div>"
      ],
      "text/plain": [
       "       funded_amnt  loan_term_year  int_rate  grade_code  purpose_code  \\\n",
       "14787        17500               5     14.96           3             2   \n",
       "7170          5000               3     16.89           3             2   \n",
       "604          15000               3     12.69           1             2   \n",
       "7969         10400               5      6.00           4             1   \n",
       "9633         16000               5     16.02           3             4   \n",
       "2047         12000               5      7.90           0             1   \n",
       "10688         5000               3      6.54           0             2   \n",
       "13882         5000               3     11.12           1             9   \n",
       "18594         4800               3      8.00           0             4   \n",
       "15076        11200               3     11.36           1             2   \n",
       "11170        20000               5     10.36           1             9   \n",
       "2375         12000               3      6.03           0             2   \n",
       "5527          8000               3      8.49           0             9   \n",
       "6190         13175               3     10.99           1             4   \n",
       "19764         2150               3     10.78           2            13   \n",
       "10033        20000               3     11.11           1             2   \n",
       "3243         21600               5     11.71           1             1   \n",
       "5796          4100               3     10.59           1             7   \n",
       "10509        20000               3      6.91           0             2   \n",
       "7836          9200               5     12.99           2             2   \n",
       "\n",
       "       addr_state_code  home_ownership_code  annual_inc    dti  revol_util  \\\n",
       "14787                5                    4     43000.0  16.60        64.7   \n",
       "7170                 5                    4     50000.0   7.46        50.2   \n",
       "604                  4                    4     62000.0  18.77        43.8   \n",
       "7969                 5                    0     29000.0  10.84        95.6   \n",
       "9633                 5                    0     99504.0   4.14        11.7   \n",
       "2047                 2                    0     50000.0  12.55        26.4   \n",
       "10688                1                    3     56400.0   5.79        20.8   \n",
       "13882                1                    0     48000.0   6.65        38.9   \n",
       "18594                0                    0     62000.0   1.20        10.7   \n",
       "15076                0                    4     71000.0  13.08        52.8   \n",
       "11170                5                    3     43000.0   7.53         0.4   \n",
       "2375                 0                    0     72000.0  15.37        22.7   \n",
       "5527                 4                    0    115000.0   4.50        56.7   \n",
       "6190                 1                    0    290000.0   9.88         0.0   \n",
       "19764                4                    0     11029.0  19.15         0.2   \n",
       "10033                0                    0    120000.0  13.18        29.9   \n",
       "3243                 2                    0     75000.0  20.82        53.0   \n",
       "5796                 4                    4     57000.0   7.54        49.7   \n",
       "10509                0                    0     68670.0  11.46        32.1   \n",
       "7836                 0                    4     80000.0  15.52        85.9   \n",
       "\n",
       "       pub_rec_bankruptcies  repaid   total_pymnt  prediction  \n",
       "14787                   0.0       1  24953.846804           1  \n",
       "7170                    0.0       1   6195.767250           1  \n",
       "604                     0.0       0  13126.600000           1  \n",
       "7969                    0.0       1  14137.570024           1  \n",
       "9633                    0.0       1  23311.610000           1  \n",
       "2047                    0.0       1  14344.899985           1  \n",
       "10688                   1.0       0   3927.470000           1  \n",
       "13882                   0.0       1   5604.780090           1  \n",
       "18594                   0.0       1   5083.926878           1  \n",
       "15076                   1.0       1  13275.168125           1  \n",
       "11170                   0.0       1  21774.740490           1  \n",
       "2375                    0.0       1  13148.137860           1  \n",
       "5527                    0.0       1   9090.083603           1  \n",
       "6190                    0.0       1  15131.441995           1  \n",
       "19764                   1.0       0   1517.710000           1  \n",
       "10033                   0.0       1  23487.478468           1  \n",
       "3243                    0.0       1  28643.460843           1  \n",
       "5796                    0.0       1   4803.590450           1  \n",
       "10509                   0.0       1  22202.058247           1  \n",
       "7836                    0.0       1  12556.669996           1  "
      ]
     },
     "execution_count": 55,
     "metadata": {},
     "output_type": "execute_result"
    }
   ],
   "source": [
    "portfolio_rfc2.sample(20)"
   ]
  },
  {
   "cell_type": "code",
   "execution_count": 56,
   "metadata": {},
   "outputs": [
    {
     "data": {
      "text/plain": [
       "0.8510798593671521"
      ]
     },
     "execution_count": 56,
     "metadata": {},
     "output_type": "execute_result"
    }
   ],
   "source": [
    "df_test.repaid.mean()"
   ]
  },
  {
   "cell_type": "code",
   "execution_count": 57,
   "metadata": {},
   "outputs": [
    {
     "data": {
      "text/plain": [
       "0.8816578803853845"
      ]
     },
     "execution_count": 57,
     "metadata": {},
     "output_type": "execute_result"
    }
   ],
   "source": [
    "portfolio_rfc2.repaid.mean()"
   ]
  },
  {
   "cell_type": "code",
   "execution_count": 58,
   "metadata": {},
   "outputs": [
    {
     "name": "stdout",
     "output_type": "stream",
     "text": [
      "36 months loan:5960, Annual return:0.0269\n",
      "60 months loan:2004, Annual return:0.0274\n"
     ]
    }
   ],
   "source": [
    "get_portfolio_annual_return(df_test)"
   ]
  },
  {
   "cell_type": "code",
   "execution_count": 59,
   "metadata": {},
   "outputs": [
    {
     "name": "stdout",
     "output_type": "stream",
     "text": [
      "36 months loan:4223, Annual return:0.0295\n",
      "60 months loan:1278, Annual return:0.0306\n"
     ]
    }
   ],
   "source": [
    "#return of the loan portfolio selected by rfc2\n",
    "get_portfolio_annual_return(portfolio_rfc2)"
   ]
  },
  {
   "cell_type": "markdown",
   "metadata": {},
   "source": [
    "### Impact of Loan Term\n",
    "\n",
    "In the RandomForestClassifier demo, we don't include loan term in the training features. But as shown in task 2.1, 36 months loans have much higher paid-off rate than that of 60 months loans. It seems obvious that loan term should be included in the training feature.\n",
    "\n",
    "In the following code cells, we will add loan_term_year to the training feature and train the RandomForestClassifier with class_weight='balanced'.\n",
    "\n",
    "First, we add loan_term_year to model_columns.\n",
    "Then, we create d_train with the new model_columns.\n",
    "Then, we train and predict with the RandomForestClassifier.\n",
    "Fianlly, we check the portfolio return.\n",
    "\n",
    "Comparing to the portfolio selected by rfc2, in the new portfolio, 36 months loan return drops a bit and 60 months loan return increases a bit. But the biggest impact is that in the new portfolio, there are 10 times more 36 months loans than 60 months loans. While in the dataset, the ratio is about 3 to 1. The reason is that since 36 months loans have much higher repaid rate, when we set class_weight='balanced', the model will bias toward 36 months loans."
   ]
  },
  {
   "cell_type": "code",
   "execution_count": 60,
   "metadata": {},
   "outputs": [
    {
     "data": {
      "text/html": [
       "<div>\n",
       "<style scoped>\n",
       "    .dataframe tbody tr th:only-of-type {\n",
       "        vertical-align: middle;\n",
       "    }\n",
       "\n",
       "    .dataframe tbody tr th {\n",
       "        vertical-align: top;\n",
       "    }\n",
       "\n",
       "    .dataframe thead th {\n",
       "        text-align: right;\n",
       "    }\n",
       "</style>\n",
       "<table border=\"1\" class=\"dataframe\">\n",
       "  <thead>\n",
       "    <tr style=\"text-align: right;\">\n",
       "      <th></th>\n",
       "      <th>repaid</th>\n",
       "    </tr>\n",
       "    <tr>\n",
       "      <th>loan_term_year</th>\n",
       "      <th></th>\n",
       "    </tr>\n",
       "  </thead>\n",
       "  <tbody>\n",
       "    <tr>\n",
       "      <th>3</th>\n",
       "      <td>0.883652</td>\n",
       "    </tr>\n",
       "    <tr>\n",
       "      <th>5</th>\n",
       "      <td>0.759691</td>\n",
       "    </tr>\n",
       "  </tbody>\n",
       "</table>\n",
       "</div>"
      ],
      "text/plain": [
       "                  repaid\n",
       "loan_term_year          \n",
       "3               0.883652\n",
       "5               0.759691"
      ]
     },
     "execution_count": 60,
     "metadata": {},
     "output_type": "execute_result"
    }
   ],
   "source": [
    "#check repaid rate of 36 months loans and 60 months loans\n",
    "loan_df.groupby('loan_term_year').agg({'repaid':'mean'})"
   ]
  },
  {
   "cell_type": "code",
   "execution_count": 61,
   "metadata": {},
   "outputs": [
    {
     "name": "stdout",
     "output_type": "stream",
     "text": [
      "36 months loan:5226, Annual return:0.0278\n",
      "60 months loan:404, Annual return:0.0331\n"
     ]
    }
   ],
   "source": [
    "# Add loan_term_year to training feature\n",
    "model_columns2 = ['funded_amnt', 'purpose_code', 'addr_state_code', 'home_ownership_code', 'annual_inc', \n",
    "                 'dti', 'revol_util', 'pub_rec_bankruptcies', 'loan_term_year']\n",
    "d_train = df_train[model_columns2]\n",
    "d_test = df_test[model_columns2]\n",
    "\n",
    "# Train RandomForestClassifier with new features\n",
    "rfc3 = RandomForestClassifier(max_depth=7, class_weight='balanced', random_state=23)\n",
    "rfc3 = rfc3.fit(d_train, l_train)\n",
    "pred = rfc3.predict(d_test)\n",
    "\n",
    "# Create portfolio and check return\n",
    "df_test['prediction'] = pred\n",
    "portfolio_rfc3 = df_test[df_test.prediction==1]\n",
    "#return of the loan portfolio selected by rfc3\n",
    "get_portfolio_annual_return(portfolio_rfc3)\n"
   ]
  },
  {
   "cell_type": "code",
   "execution_count": 62,
   "metadata": {},
   "outputs": [
    {
     "name": "stdout",
     "output_type": "stream",
     "text": [
      "36 months loan:4223, Annual return:0.0295\n",
      "60 months loan:1278, Annual return:0.0306\n"
     ]
    }
   ],
   "source": [
    "get_portfolio_annual_return(portfolio_rfc2)"
   ]
  },
  {
   "cell_type": "code",
   "execution_count": 63,
   "metadata": {},
   "outputs": [
    {
     "name": "stdout",
     "output_type": "stream",
     "text": [
      "36 months loan:5960, Annual return:0.0269\n",
      "60 months loan:2004, Annual return:0.0274\n"
     ]
    }
   ],
   "source": [
    "get_portfolio_annual_return(df_test)"
   ]
  },
  {
   "cell_type": "code",
   "execution_count": 64,
   "metadata": {},
   "outputs": [
    {
     "data": {
      "text/plain": [
       "3    5226\n",
       "5     404\n",
       "Name: loan_term_year, dtype: int64"
      ]
     },
     "execution_count": 64,
     "metadata": {},
     "output_type": "execute_result"
    }
   ],
   "source": [
    "#Check number of 36 months and 60 months loans\n",
    "portfolio_rfc3.loan_term_year.value_counts()"
   ]
  },
  {
   "cell_type": "markdown",
   "metadata": {},
   "source": [
    "### Improvements with Filters\n",
    "\n",
    "pub_rec_bankruptcies is the number of public record bankruptcies of a loan borrower. As show in the next code cell, vast majority of loans have pub_rec_bankruptcies = 0, which means no public record of bankruptcies.\n"
   ]
  },
  {
   "cell_type": "code",
   "execution_count": 65,
   "metadata": {},
   "outputs": [
    {
     "data": {
      "text/plain": [
       "0.0    19165\n",
       "1.0      742\n",
       "2.0        1\n",
       "Name: pub_rec_bankruptcies, dtype: int64"
      ]
     },
     "execution_count": 65,
     "metadata": {},
     "output_type": "execute_result"
    }
   ],
   "source": [
    "df.pub_rec_bankruptcies.value_counts()"
   ]
  },
  {
   "cell_type": "markdown",
   "metadata": {},
   "source": [
    "We may include pub_rec_bankruptcies in the training features. Another way is to use it as a filter. In the next code cell, we check returns of loans with and without public record bankruptcies in the data set."
   ]
  },
  {
   "cell_type": "code",
   "execution_count": 66,
   "metadata": {},
   "outputs": [
    {
     "name": "stdout",
     "output_type": "stream",
     "text": [
      "36 months loan:14316, Annual return:0.029\n",
      "60 months loan:4849, Annual return:0.029\n"
     ]
    }
   ],
   "source": [
    "#returns of loans without bankruptcy record\n",
    "get_portfolio_annual_return(loan_df[loan_df.pub_rec_bankruptcies==0])"
   ]
  },
  {
   "cell_type": "code",
   "execution_count": 67,
   "metadata": {},
   "outputs": [
    {
     "name": "stdout",
     "output_type": "stream",
     "text": [
      "36 months loan:536, Annual return:0.0156\n",
      "60 months loan:207, Annual return:0.0198\n"
     ]
    }
   ],
   "source": [
    "#returns of loans with bankruptcy record\n",
    "get_portfolio_annual_return(loan_df[loan_df.pub_rec_bankruptcies>0])"
   ]
  },
  {
   "cell_type": "markdown",
   "metadata": {},
   "source": [
    "Since loans without public bankruptcies recrods have significantly higher returns, we may filter out all loans that have public bankruptcies recrods from the portfolio determined by rfc2. The new portfolio has a little better return as shown in the following code cell."
   ]
  },
  {
   "cell_type": "code",
   "execution_count": 68,
   "metadata": {},
   "outputs": [
    {
     "name": "stdout",
     "output_type": "stream",
     "text": [
      "36 months loan:4078, Annual return:0.0299\n",
      "60 months loan:1219, Annual return:0.0319\n"
     ]
    }
   ],
   "source": [
    "portfolio_rfc2_no_prb = portfolio_rfc2[portfolio_rfc2.pub_rec_bankruptcies==0]\n",
    "get_portfolio_annual_return(portfolio_rfc2_no_prb)"
   ]
  },
  {
   "cell_type": "markdown",
   "metadata": {},
   "source": [
    "### Task 3.1: Construct Loan Portfolio with Logistic Regression Model\n",
    "\n",
    "Construct a loan portfolio with the Logistic Regression model with `class_weight='balanced'`.\n",
    "\n",
    "Train your model twice, first without loan_term_year in the training feature, then with. Compare the two portfolios."
   ]
  },
  {
   "cell_type": "markdown",
   "metadata": {},
   "source": [
    "#### Your Code"
   ]
  },
  {
   "cell_type": "code",
   "execution_count": 69,
   "metadata": {},
   "outputs": [
    {
     "name": "stdout",
     "output_type": "stream",
     "text": [
      "36 months loan:2633, Annual return:0.0289\n",
      "60 months loan:688, Annual return:0.0354\n"
     ]
    }
   ],
   "source": [
    "#Construct a logistic regression without loan_term_year\n",
    "keep_columns = ['funded_amnt', 'loan_term_year', 'int_rate', 'grade_code', 'purpose_code', \n",
    "                'addr_state_code', 'home_ownership_code', 'annual_inc', 'dti', 'revol_util', \n",
    "                'pub_rec_bankruptcies', 'repaid', 'total_pymnt']\n",
    "\n",
    "df = loan_df[keep_columns].copy()\n",
    "\n",
    "model_columns = ['funded_amnt', 'purpose_code', 'addr_state_code', 'home_ownership_code', 'annual_inc', \n",
    "                 'dti', 'revol_util', 'pub_rec_bankruptcies']\n",
    "\n",
    "df_train, df_test = train_test_split(df, test_size=0.4, random_state=23)\n",
    "d_train = df_train[model_columns]\n",
    "d_test = df_test[model_columns]\n",
    "l_train = df_train.repaid\n",
    "l_test = df_test.repaid\n",
    "\n",
    "lr = LogisticRegression(C = 1E6, class_weight='balanced', random_state=23)\n",
    "lr1 = lr.fit(d_train, l_train)\n",
    "pred = lr1.predict(d_test)\n",
    "\n",
    "# create prediction column in the test set.\n",
    "df_test['prediction'] = pred\n",
    "portfolio_lr1 = df_test[df_test.prediction==1]\n",
    "get_portfolio_annual_return(portfolio_lr1)"
   ]
  },
  {
   "cell_type": "code",
   "execution_count": 70,
   "metadata": {},
   "outputs": [
    {
     "name": "stdout",
     "output_type": "stream",
     "text": [
      "36 months loan:2631, Annual return:0.029\n",
      "60 months loan:684, Annual return:0.0354\n"
     ]
    }
   ],
   "source": [
    "#Construct a logistic regression with loan_term_year\n",
    "model_columns2 = ['funded_amnt', 'purpose_code', 'addr_state_code', 'home_ownership_code', 'annual_inc', \n",
    "                 'dti', 'revol_util', 'pub_rec_bankruptcies', 'loan_term_year']\n",
    "\n",
    "d_train = df_train[model_columns2]\n",
    "d_test = df_test[model_columns2]\n",
    "\n",
    "# Train logistic regression with new features\n",
    "lr2 = lr.fit(d_train, l_train)\n",
    "pred = lr2.predict(d_test)\n",
    "\n",
    "# Create portfolio and check return\n",
    "df_test['prediction'] = pred\n",
    "portfolio_lr2 = df_test[df_test.prediction==1]\n",
    "#return of the loan portfolio selected by rfc3\n",
    "get_portfolio_annual_return(portfolio_lr2)"
   ]
  },
  {
   "cell_type": "markdown",
   "metadata": {},
   "source": [
    "### Impact of Loan Grade\n",
    "\n",
    "Loan grade is assigned by Lending Club based on loan and borrower's information. Higher grade loans have higher repaid rate. On the other hand, higher grader loans also have lower interest rate. Portfolio return is determined by both repaid rate and interest rate. As shown in following code cells, a portfolio with all grade A loans actually have lower annual return for both 36 months loans and 60 months loans comparing to the whole dataset."
   ]
  },
  {
   "cell_type": "code",
   "execution_count": 71,
   "metadata": {},
   "outputs": [
    {
     "data": {
      "text/html": [
       "<div>\n",
       "<style scoped>\n",
       "    .dataframe tbody tr th:only-of-type {\n",
       "        vertical-align: middle;\n",
       "    }\n",
       "\n",
       "    .dataframe tbody tr th {\n",
       "        vertical-align: top;\n",
       "    }\n",
       "\n",
       "    .dataframe thead th {\n",
       "        text-align: right;\n",
       "    }\n",
       "</style>\n",
       "<table border=\"1\" class=\"dataframe\">\n",
       "  <thead>\n",
       "    <tr style=\"text-align: right;\">\n",
       "      <th></th>\n",
       "      <th>repaid</th>\n",
       "    </tr>\n",
       "    <tr>\n",
       "      <th>grade_code</th>\n",
       "      <th></th>\n",
       "    </tr>\n",
       "  </thead>\n",
       "  <tbody>\n",
       "    <tr>\n",
       "      <th>0</th>\n",
       "      <td>0.937641</td>\n",
       "    </tr>\n",
       "    <tr>\n",
       "      <th>1</th>\n",
       "      <td>0.871558</td>\n",
       "    </tr>\n",
       "    <tr>\n",
       "      <th>2</th>\n",
       "      <td>0.835576</td>\n",
       "    </tr>\n",
       "    <tr>\n",
       "      <th>3</th>\n",
       "      <td>0.789301</td>\n",
       "    </tr>\n",
       "    <tr>\n",
       "      <th>4</th>\n",
       "      <td>0.736402</td>\n",
       "    </tr>\n",
       "    <tr>\n",
       "      <th>5</th>\n",
       "      <td>0.677778</td>\n",
       "    </tr>\n",
       "    <tr>\n",
       "      <th>6</th>\n",
       "      <td>0.641509</td>\n",
       "    </tr>\n",
       "  </tbody>\n",
       "</table>\n",
       "</div>"
      ],
      "text/plain": [
       "              repaid\n",
       "grade_code          \n",
       "0           0.937641\n",
       "1           0.871558\n",
       "2           0.835576\n",
       "3           0.789301\n",
       "4           0.736402\n",
       "5           0.677778\n",
       "6           0.641509"
      ]
     },
     "execution_count": 71,
     "metadata": {},
     "output_type": "execute_result"
    }
   ],
   "source": [
    "#Higher grade loans have higher repaid rate\n",
    "df.groupby('grade_code').agg({'repaid':'mean'})"
   ]
  },
  {
   "cell_type": "code",
   "execution_count": 72,
   "metadata": {
    "scrolled": true
   },
   "outputs": [
    {
     "data": {
      "text/html": [
       "<div>\n",
       "<style scoped>\n",
       "    .dataframe tbody tr th:only-of-type {\n",
       "        vertical-align: middle;\n",
       "    }\n",
       "\n",
       "    .dataframe tbody tr th {\n",
       "        vertical-align: top;\n",
       "    }\n",
       "\n",
       "    .dataframe thead th {\n",
       "        text-align: right;\n",
       "    }\n",
       "</style>\n",
       "<table border=\"1\" class=\"dataframe\">\n",
       "  <thead>\n",
       "    <tr style=\"text-align: right;\">\n",
       "      <th></th>\n",
       "      <th>int_rate</th>\n",
       "    </tr>\n",
       "    <tr>\n",
       "      <th>grade_code</th>\n",
       "      <th></th>\n",
       "    </tr>\n",
       "  </thead>\n",
       "  <tbody>\n",
       "    <tr>\n",
       "      <th>0</th>\n",
       "      <td>7.350978</td>\n",
       "    </tr>\n",
       "    <tr>\n",
       "      <th>1</th>\n",
       "      <td>11.033439</td>\n",
       "    </tr>\n",
       "    <tr>\n",
       "      <th>2</th>\n",
       "      <td>13.555241</td>\n",
       "    </tr>\n",
       "    <tr>\n",
       "      <th>3</th>\n",
       "      <td>15.707576</td>\n",
       "    </tr>\n",
       "    <tr>\n",
       "      <th>4</th>\n",
       "      <td>17.653752</td>\n",
       "    </tr>\n",
       "    <tr>\n",
       "      <th>5</th>\n",
       "      <td>19.729463</td>\n",
       "    </tr>\n",
       "    <tr>\n",
       "      <th>6</th>\n",
       "      <td>21.346981</td>\n",
       "    </tr>\n",
       "  </tbody>\n",
       "</table>\n",
       "</div>"
      ],
      "text/plain": [
       "             int_rate\n",
       "grade_code           \n",
       "0            7.350978\n",
       "1           11.033439\n",
       "2           13.555241\n",
       "3           15.707576\n",
       "4           17.653752\n",
       "5           19.729463\n",
       "6           21.346981"
      ]
     },
     "execution_count": 72,
     "metadata": {},
     "output_type": "execute_result"
    }
   ],
   "source": [
    "#Higher grade loans have lower interest rate\n",
    "df.groupby('grade_code').agg({'int_rate':'mean'})"
   ]
  },
  {
   "cell_type": "code",
   "execution_count": 73,
   "metadata": {},
   "outputs": [
    {
     "name": "stdout",
     "output_type": "stream",
     "text": [
      "36 months loan:1842, Annual return:0.0226\n",
      "60 months loan:76, Annual return:0.0225\n"
     ]
    }
   ],
   "source": [
    "#All grade A loans\n",
    "get_portfolio_annual_return(df_test[df_test.grade_code==0])"
   ]
  },
  {
   "cell_type": "markdown",
   "metadata": {},
   "source": [
    "### Task 3.2: Include Loan Grade in Training Features\n",
    "\n",
    "Add grade_code to model_columns and train the LogisticRegression model with class_weight='balanced'. Compare the portfolio selected by the new model. Does the portfolio have better or worse return? Try explian the reason.\n",
    "\n",
    "**Hint:** Check counts of loans in different grades and compare with the count of the portfolio created without grade_code."
   ]
  },
  {
   "cell_type": "markdown",
   "metadata": {},
   "source": [
    "#### Your Code"
   ]
  },
  {
   "cell_type": "code",
   "execution_count": 74,
   "metadata": {},
   "outputs": [
    {
     "name": "stdout",
     "output_type": "stream",
     "text": [
      "36 months loan:2628, Annual return:0.029\n",
      "60 months loan:684, Annual return:0.0351\n"
     ]
    }
   ],
   "source": [
    "model_columns3 = ['funded_amnt', 'purpose_code', 'addr_state_code', 'home_ownership_code', 'annual_inc', \n",
    "                 'dti', 'revol_util', 'pub_rec_bankruptcies', 'loan_term_year', 'grade_code']\n",
    "\n",
    "#Train and split the data\n",
    "df_train, df_test = train_test_split(df, test_size=0.4, random_state=23)\n",
    "d_train = df_train[model_columns3]\n",
    "d_test = df_test[model_columns3]\n",
    "l_train = df_train.repaid\n",
    "l_test = df_test.repaid\n",
    "\n",
    "# Train logistic regression with new features\n",
    "lr4 = lr.fit(d_train, l_train)\n",
    "pred = lr4.predict(d_test)\n",
    "\n",
    "# Create portfolio and check return\n",
    "df_test['prediction'] = pred\n",
    "portfolio_lr4 = df_test[df_test.prediction==1]\n",
    "#return of the loan portfolio selected by lr4\n",
    "get_portfolio_annual_return(portfolio_lr4)\n"
   ]
  },
  {
   "cell_type": "code",
   "execution_count": null,
   "metadata": {},
   "outputs": [],
   "source": []
  },
  {
   "cell_type": "markdown",
   "metadata": {},
   "source": [
    "### Task 3.3: More Extreme class_weight\n",
    "\n",
    "'balanced' class weight set weights inversely proportional to class frequencies in the input data. In the dataset, about 85% of loans are paid off, or class 1. So 'balanced' class weight is roughly equivalent to set `class_weight={0:0.85, 1:0.15}`.\n",
    "\n",
    "Try set more extreme class weight than 'balanced', ie. {0:0.9, 1:0.1}. How does this change affect the portfolio?"
   ]
  },
  {
   "cell_type": "markdown",
   "metadata": {},
   "source": [
    "#### Your Code"
   ]
  },
  {
   "cell_type": "code",
   "execution_count": 75,
   "metadata": {},
   "outputs": [
    {
     "name": "stdout",
     "output_type": "stream",
     "text": [
      "36 months loan:1157, Annual return:0.0282\n",
      "60 months loan:163, Annual return:0.0394\n"
     ]
    }
   ],
   "source": [
    "lr5 = LogisticRegression( C = 1E6, class_weight = {0:0.9, 1:0.1}, random_state = 23)\n",
    "\n",
    "lr6 = lr5.fit(d_train, l_train)\n",
    "pred = lr6.predict(d_test)\n",
    "\n",
    "df_test['prediction'] = pred\n",
    "portfolio_lr6 = df_test[df_test.prediction==1]\n",
    "\n",
    "get_portfolio_annual_return(portfolio_lr6)"
   ]
  },
  {
   "cell_type": "markdown",
   "metadata": {},
   "source": [
    "### Task 3.4: Other Improvements\n",
    "\n",
    "As shown above, filtering out loans from borrowers with previous public record bankruptcies will improve the portfolio return. Can you find out other filters that help the portfolio performance?\n",
    "\n",
    "What is the best return your can get?"
   ]
  },
  {
   "cell_type": "markdown",
   "metadata": {},
   "source": [
    "#### Your Code"
   ]
  },
  {
   "cell_type": "code",
   "execution_count": 76,
   "metadata": {},
   "outputs": [
    {
     "data": {
      "text/plain": [
       "array(['Not Verified', 'Source Verified', 'Verified'], dtype=object)"
      ]
     },
     "execution_count": 76,
     "metadata": {},
     "output_type": "execute_result"
    }
   ],
   "source": [
    "loan_df.verification_status.unique()"
   ]
  },
  {
   "cell_type": "code",
   "execution_count": 79,
   "metadata": {},
   "outputs": [
    {
     "name": "stdout",
     "output_type": "stream",
     "text": [
      "home_ownership_code variance = 0.223\n",
      "loan_term_year variance = 0.189\n",
      "verification_status variance = 0.183\n",
      "addr_state_code variance = 0.147\n",
      "revol_util variance = 0.080\n",
      "purpose_code variance = 0.071\n",
      "grade_code variance = 0.053\n",
      "       dti variance = 0.049\n",
      "funded_amnt variance = 0.043\n",
      "pub_rec_bankruptcies variance = 0.009\n",
      "annual_inc variance = 0.000\n",
      "pymnt_plan variance = 0.000\n"
     ]
    }
   ],
   "source": [
    "#Using variance to find important features\n",
    "from sklearn.feature_selection import VarianceThreshold\n",
    "vt = VarianceThreshold()\n",
    "from sklearn.preprocessing import MinMaxScaler\n",
    "feature_ss = MinMaxScaler().fit_transform(explore_features)\n",
    "vt.fit_transform(feature_ss)\n",
    "for var, name in sorted(zip(vt.variances_, explore_features.columns), reverse = True):\n",
    "    print (f'{name:>10} variance = {var:.3f}')"
   ]
  },
  {
   "cell_type": "code",
   "execution_count": 99,
   "metadata": {},
   "outputs": [
    {
     "data": {
      "text/html": [
       "<div>\n",
       "<style scoped>\n",
       "    .dataframe tbody tr th:only-of-type {\n",
       "        vertical-align: middle;\n",
       "    }\n",
       "\n",
       "    .dataframe tbody tr th {\n",
       "        vertical-align: top;\n",
       "    }\n",
       "\n",
       "    .dataframe thead th {\n",
       "        text-align: right;\n",
       "    }\n",
       "</style>\n",
       "<table border=\"1\" class=\"dataframe\">\n",
       "  <thead>\n",
       "    <tr style=\"text-align: right;\">\n",
       "      <th></th>\n",
       "      <th>funded_amnt</th>\n",
       "      <th>purpose_code</th>\n",
       "      <th>addr_state_code</th>\n",
       "      <th>home_ownership_code</th>\n",
       "      <th>annual_inc</th>\n",
       "      <th>dti</th>\n",
       "      <th>revol_util</th>\n",
       "      <th>pub_rec_bankruptcies</th>\n",
       "      <th>loan_term_year</th>\n",
       "      <th>grade_code</th>\n",
       "      <th>repaid</th>\n",
       "      <th>total_pymnt</th>\n",
       "      <th>verification_status</th>\n",
       "      <th>pymnt_plan</th>\n",
       "    </tr>\n",
       "  </thead>\n",
       "  <tbody>\n",
       "    <tr>\n",
       "      <th>0</th>\n",
       "      <td>2400</td>\n",
       "      <td>11</td>\n",
       "      <td>2</td>\n",
       "      <td>4</td>\n",
       "      <td>12252.0</td>\n",
       "      <td>8.72</td>\n",
       "      <td>98.5</td>\n",
       "      <td>0.0</td>\n",
       "      <td>3</td>\n",
       "      <td>2</td>\n",
       "      <td>1</td>\n",
       "      <td>3005.666844</td>\n",
       "      <td>0</td>\n",
       "      <td>0</td>\n",
       "    </tr>\n",
       "    <tr>\n",
       "      <th>1</th>\n",
       "      <td>10000</td>\n",
       "      <td>9</td>\n",
       "      <td>0</td>\n",
       "      <td>4</td>\n",
       "      <td>49200.0</td>\n",
       "      <td>20.00</td>\n",
       "      <td>21.0</td>\n",
       "      <td>0.0</td>\n",
       "      <td>3</td>\n",
       "      <td>2</td>\n",
       "      <td>1</td>\n",
       "      <td>12231.890000</td>\n",
       "      <td>1</td>\n",
       "      <td>0</td>\n",
       "    </tr>\n",
       "    <tr>\n",
       "      <th>2</th>\n",
       "      <td>3000</td>\n",
       "      <td>0</td>\n",
       "      <td>0</td>\n",
       "      <td>4</td>\n",
       "      <td>48000.0</td>\n",
       "      <td>5.35</td>\n",
       "      <td>87.5</td>\n",
       "      <td>0.0</td>\n",
       "      <td>3</td>\n",
       "      <td>4</td>\n",
       "      <td>1</td>\n",
       "      <td>3939.135294</td>\n",
       "      <td>1</td>\n",
       "      <td>0</td>\n",
       "    </tr>\n",
       "    <tr>\n",
       "      <th>3</th>\n",
       "      <td>5600</td>\n",
       "      <td>11</td>\n",
       "      <td>0</td>\n",
       "      <td>3</td>\n",
       "      <td>40000.0</td>\n",
       "      <td>5.55</td>\n",
       "      <td>32.6</td>\n",
       "      <td>0.0</td>\n",
       "      <td>5</td>\n",
       "      <td>5</td>\n",
       "      <td>0</td>\n",
       "      <td>647.500000</td>\n",
       "      <td>1</td>\n",
       "      <td>0</td>\n",
       "    </tr>\n",
       "    <tr>\n",
       "      <th>4</th>\n",
       "      <td>5375</td>\n",
       "      <td>9</td>\n",
       "      <td>5</td>\n",
       "      <td>4</td>\n",
       "      <td>15000.0</td>\n",
       "      <td>18.08</td>\n",
       "      <td>36.5</td>\n",
       "      <td>0.0</td>\n",
       "      <td>5</td>\n",
       "      <td>1</td>\n",
       "      <td>0</td>\n",
       "      <td>1484.590000</td>\n",
       "      <td>2</td>\n",
       "      <td>0</td>\n",
       "    </tr>\n",
       "  </tbody>\n",
       "</table>\n",
       "</div>"
      ],
      "text/plain": [
       "   funded_amnt  purpose_code  addr_state_code  home_ownership_code  \\\n",
       "0         2400            11                2                    4   \n",
       "1        10000             9                0                    4   \n",
       "2         3000             0                0                    4   \n",
       "3         5600            11                0                    3   \n",
       "4         5375             9                5                    4   \n",
       "\n",
       "   annual_inc    dti  revol_util  pub_rec_bankruptcies  loan_term_year  \\\n",
       "0     12252.0   8.72        98.5                   0.0               3   \n",
       "1     49200.0  20.00        21.0                   0.0               3   \n",
       "2     48000.0   5.35        87.5                   0.0               3   \n",
       "3     40000.0   5.55        32.6                   0.0               5   \n",
       "4     15000.0  18.08        36.5                   0.0               5   \n",
       "\n",
       "   grade_code  repaid   total_pymnt  verification_status  pymnt_plan  \n",
       "0           2       1   3005.666844                    0           0  \n",
       "1           2       1  12231.890000                    1           0  \n",
       "2           4       1   3939.135294                    1           0  \n",
       "3           5       0    647.500000                    1           0  \n",
       "4           1       0   1484.590000                    2           0  "
      ]
     },
     "execution_count": 99,
     "metadata": {},
     "output_type": "execute_result"
    }
   ],
   "source": [
    "categorical_features = loan_df[['verification_status', 'pymnt_plan']]\n",
    "model_feature = loan_df[['funded_amnt', 'purpose_code', 'addr_state_code', 'home_ownership_code', 'annual_inc', \n",
    "                 'dti', 'revol_util', 'pub_rec_bankruptcies', 'loan_term_year', 'grade_code', 'repaid', 'total_pymnt']]\n",
    "categorical_features = categorical_features.apply(LabelEncoder().fit_transform)\n",
    "explore_features = pd.concat([model_feature, categorical_features], axis = 1)\n",
    "explore_features.head()\n"
   ]
  },
  {
   "cell_type": "code",
   "execution_count": 100,
   "metadata": {},
   "outputs": [
    {
     "name": "stdout",
     "output_type": "stream",
     "text": [
      "36 months loan:2628, Annual return:0.029\n",
      "60 months loan:684, Annual return:0.0351\n"
     ]
    }
   ],
   "source": [
    "\n",
    "\n",
    "df_train, df_test = train_test_split(explore_features, test_size=0.4, random_state=23)\n",
    "\n",
    "l_train = df_train.repaid\n",
    "l_test = df_test.repaid\n",
    "\n",
    "lr7 = LogisticRegression(C = 1E6, class_weight='balanced', random_state=23)\n",
    "\n",
    "lr8 = lr7.fit(d_train, l_train)\n",
    "pred = lr7.predict(d_test)\n",
    "\n",
    "df_test['prediction'] = pred\n",
    "portfolio_lr8 = df_test[df_test.prediction==1]\n",
    "\n",
    "get_portfolio_annual_return(portfolio_lr8)\n"
   ]
  }
 ],
 "metadata": {
  "kernelspec": {
   "display_name": "Python 3 (ipykernel)",
   "language": "python",
   "name": "python3"
  },
  "language_info": {
   "codemirror_mode": {
    "name": "ipython",
    "version": 3
   },
   "file_extension": ".py",
   "mimetype": "text/x-python",
   "name": "python",
   "nbconvert_exporter": "python",
   "pygments_lexer": "ipython3",
   "version": "3.9.7"
  }
 },
 "nbformat": 4,
 "nbformat_minor": 4
}
